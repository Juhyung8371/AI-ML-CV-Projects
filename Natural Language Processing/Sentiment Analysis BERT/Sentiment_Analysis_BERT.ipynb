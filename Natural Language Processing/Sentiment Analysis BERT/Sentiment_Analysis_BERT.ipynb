{
  "cells": [
    {
      "cell_type": "markdown",
      "metadata": {
        "id": "IZ6SNYq_tVVC"
      },
      "source": [
        "# Classify text with BERT\n",
        "\n",
        "This project aims to learn how to classify movie reviews based on their sentiments from the text using the BERT model. Below is what I learned from this project:\n",
        "\n",
        "1. About the BERT model - its characteristics and architecture.\n",
        "2. How to preprocess data for BERT.\n",
        "3. How to load pre-trained BERT models from the TensorflowHub.\n",
        "4. How to build a model for sentiment analysis using BERT and fine-tune it.\n",
        "5. How to combat overfitting in NLP problems.\n",
        "\n",
        "[Tutorial Source](https://www.tensorflow.org/text/tutorials/classify_text_with_bert)"
      ]
    },
    {
      "cell_type": "markdown",
      "metadata": {
        "id": "2PHBpLPuQdmK"
      },
      "source": [
        "## About BERT\n",
        "\n",
        "[BERT](https://arxiv.org/abs/1810.04805) and other Transformer encoder architectures have been wildly successful on a variety of tasks in NLP (natural language processing). They compute vector-space representations of natural language that are suitable for use in deep learning models. The BERT family of models uses the Transformer encoder architecture to process each token of input text in the full context of all tokens before and after, hence the name: Bidirectional Encoder Representations from Transformers.\n",
        "\n",
        "BERT models are usually pre-trained on a large corpus of text, then fine-tuned for specific tasks.\n"
      ]
    },
    {
      "cell_type": "code",
      "execution_count": null,
      "metadata": {
        "id": "1TdhmCVu5YQy"
      },
      "outputs": [],
      "source": [
        "import os\n",
        "import warnings\n",
        "\n",
        "warnings.filterwarnings(\"ignore\")\n",
        "os.environ[\"TF_CPP_MIN_LOG_LEVEL\"] = \"2\""
      ]
    },
    {
      "cell_type": "markdown",
      "source": [
        "Install dependencies:"
      ],
      "metadata": {
        "id": "HCwcaE719nre"
      }
    },
    {
      "cell_type": "code",
      "source": [
        "!pip install tensorflow-text"
      ],
      "metadata": {
        "id": "fDgYwwOW9PJx"
      },
      "execution_count": null,
      "outputs": []
    },
    {
      "cell_type": "code",
      "source": [
        "!pip install tf-models-official"
      ],
      "metadata": {
        "id": "YMGfaIPM9gMg"
      },
      "execution_count": null,
      "outputs": []
    },
    {
      "cell_type": "code",
      "execution_count": null,
      "metadata": {
        "id": "_XgTpm9ZxoN9",
        "tags": []
      },
      "outputs": [],
      "source": [
        "import datetime\n",
        "import shutil\n",
        "\n",
        "import matplotlib.pyplot as plt\n",
        "import tensorflow as tf\n",
        "import tensorflow_hub as hub\n",
        "import tensorflow_text as text\n",
        "from google.cloud import aiplatform\n",
        "from official.nlp import optimization  # to create AdamW optmizer\n",
        "\n",
        "tf.get_logger().setLevel(\"ERROR\")"
      ]
    },
    {
      "cell_type": "code",
      "source": [
        "print(tf.__version__)"
      ],
      "metadata": {
        "colab": {
          "base_uri": "https://localhost:8080/"
        },
        "id": "yMvSDdNs844M",
        "outputId": "b6406dd7-e184-48b7-9aab-6122d2c0b212"
      },
      "execution_count": null,
      "outputs": [
        {
          "output_type": "stream",
          "name": "stdout",
          "text": [
            "2.15.0\n"
          ]
        }
      ]
    },
    {
      "cell_type": "markdown",
      "metadata": {
        "id": "2QW0FeX15YQ0"
      },
      "source": [
        "To check if you have a GPU attached. Run the following."
      ]
    },
    {
      "cell_type": "code",
      "execution_count": null,
      "metadata": {
        "colab": {
          "base_uri": "https://localhost:8080/"
        },
        "id": "5EP-6kOa5YQ0",
        "outputId": "ace4046a-443f-43ea-eb76-05b9f322e319"
      },
      "outputs": [
        {
          "output_type": "stream",
          "name": "stdout",
          "text": [
            "Num GPUs Available:  1\n"
          ]
        }
      ],
      "source": [
        "print(\"Num GPUs Available: \", len(tf.config.list_physical_devices(\"GPU\")))"
      ]
    },
    {
      "cell_type": "markdown",
      "metadata": {
        "id": "q6MugfEgDRpY"
      },
      "source": [
        "### Sentiment Analysis\n",
        "\n",
        "This notebook trains a sentiment analysis model to classify movie reviews as *positive* or *negative*, based on the text of the review.\n",
        "\n",
        "You'll use the [Large Movie Review Dataset](https://ai.stanford.edu/~amaas/data/sentiment/) that contains the text of 50,000 movie reviews from the [Internet Movie Database](https://www.imdb.com/)."
      ]
    },
    {
      "cell_type": "markdown",
      "metadata": {
        "id": "Vnvd4mrtPHHV"
      },
      "source": [
        "### Download the IMDB dataset\n",
        "\n",
        "Let's download and extract the dataset, then explore the directory structure.\n"
      ]
    },
    {
      "cell_type": "code",
      "execution_count": null,
      "metadata": {
        "id": "pOdqCMoQDRJL",
        "tags": [],
        "colab": {
          "base_uri": "https://localhost:8080/"
        },
        "outputId": "e4a2b086-035b-43c7-fae0-e8d4391abf74"
      },
      "outputs": [
        {
          "output_type": "stream",
          "name": "stdout",
          "text": [
            "Downloading data from https://ai.stanford.edu/~amaas/data/sentiment/aclImdb_v1.tar.gz\n",
            "84125825/84125825 [==============================] - 23s 0us/step\n"
          ]
        }
      ],
      "source": [
        "url = \"https://ai.stanford.edu/~amaas/data/sentiment/aclImdb_v1.tar.gz\"\n",
        "\n",
        "path = \"/content/\"\n",
        "\n",
        "dataset = tf.keras.utils.get_file(\n",
        "    \"aclImdb_v1.tar.gz\", url, untar=True, cache_dir=path, cache_subdir=\"\"\n",
        ")\n",
        "\n",
        "dataset_dir = os.path.join(os.path.dirname(dataset), \"aclImdb\")\n",
        "\n",
        "train_dir = os.path.join(dataset_dir, \"train\")\n",
        "\n",
        "# remove unused folders to make it easier to load the data\n",
        "remove_dir = os.path.join(train_dir, \"unsup\")\n",
        "shutil.rmtree(remove_dir)"
      ]
    },
    {
      "cell_type": "markdown",
      "metadata": {
        "id": "lN9lWCYfPo7b"
      },
      "source": [
        "I was able to get some information about the dataset by reading the README file:\n",
        "\n",
        "\n",
        "This dataset contains movie reviews along with their associated binary sentiment polarity labels.\n",
        "\n",
        "The core dataset contains 50,000 reviews split evenly into `25k train and 25k test sets` and `negative/positive ratio is 1/1`.\n",
        "\n",
        "There are two top-level directories [train/, test/] corresponding to the training and test sets. Each contains [pos/, neg/] directories for the reviews with binary labels positive and negative.\n",
        "\n",
        "Reviews are stored in text files named following the\n",
        "convention `[[id]_[rating].txt]`. For example, the file\n",
        "[test/pos/200_8.txt] is the text for a positive-labeled test set example with unique id 200 and star rating 8/10 from IMDb.\n",
        "\n",
        "In the labeled train/test sets, a negative review has a score <= 4 out of 10, and a positive review has a score >= 7 out of 10. Thus reviews with more neutral ratings are not included in the train/test sets.\n",
        "\n",
        "Below is an example of a movie review data (exerpt). As you can see, movie review is usually more than a sentence and nuanced:\n",
        "> Earth has been destroyed ... As for the story, it's a blending of elements from better films and stories, including Ten Little Indians, The Most Dangerous Game, and Escape From New York. The Final Executioner moves along at a fair pace and provides reasonable entertainment for less discriminate action fans.\n"
      ]
    },
    {
      "cell_type": "markdown",
      "source": [
        "\n",
        "Next, you will use the `text_dataset_from_directory` utility to create a labeled `tf.data.Dataset`.\n",
        "\n",
        "The IMDB dataset has already been divided into train and test, but it lacks a validation set. Let's create a validation set using an 80:20 split of the training data by using the `validation_split` argument below.\n",
        "\n",
        "Note:  When using the `validation_split` and `subset` arguments, make sure to either specify a random seed, or to pass `shuffle=False`, so that the validation and training splits have no overlap.\n",
        "\n",
        "As I expected, there are 2 classes (pos and neg) and 25k files for each classes, total of 50k files.\n",
        "* Train 20000\n",
        "* Validation 5000\n",
        "* Test 25000"
      ],
      "metadata": {
        "id": "GYxpGaLMEKUf"
      }
    },
    {
      "cell_type": "code",
      "execution_count": null,
      "metadata": {
        "id": "6IwI_2bcIeX8",
        "tags": [],
        "colab": {
          "base_uri": "https://localhost:8080/"
        },
        "outputId": "3638c350-2bfa-47c6-f575-f9ea9fc637b3"
      },
      "outputs": [
        {
          "output_type": "stream",
          "name": "stdout",
          "text": [
            "Found 25000 files belonging to 2 classes.\n",
            "Using 20000 files for training.\n",
            "Found 25000 files belonging to 2 classes.\n",
            "Using 5000 files for validation.\n",
            "Found 25000 files belonging to 2 classes.\n"
          ]
        }
      ],
      "source": [
        "AUTOTUNE = tf.data.AUTOTUNE\n",
        "batch_size = 32\n",
        "seed = 42\n",
        "\n",
        "raw_train_ds = tf.keras.preprocessing.text_dataset_from_directory(\n",
        "    path + \"aclImdb/train\",\n",
        "    batch_size=batch_size,\n",
        "    validation_split=0.2,\n",
        "    subset=\"training\",\n",
        "    seed=seed,\n",
        ")\n",
        "\n",
        "# This will prefetch batches of data and make sure that there is always one ready for the GPU.\n",
        "class_names = raw_train_ds.class_names\n",
        "train_ds = raw_train_ds.cache().prefetch(buffer_size=AUTOTUNE)\n",
        "\n",
        "val_ds = tf.keras.preprocessing.text_dataset_from_directory(\n",
        "    path + \"aclImdb/train\",\n",
        "    batch_size=batch_size,\n",
        "    validation_split=0.2,\n",
        "    subset=\"validation\",\n",
        "    seed=seed,\n",
        ")\n",
        "\n",
        "val_ds = val_ds.cache().prefetch(buffer_size=AUTOTUNE)\n",
        "\n",
        "test_ds = tf.keras.preprocessing.text_dataset_from_directory(\n",
        "    path + \"aclImdb/test\", batch_size=batch_size\n",
        ")\n",
        "\n",
        "test_ds = test_ds.cache().prefetch(buffer_size=AUTOTUNE)"
      ]
    },
    {
      "cell_type": "markdown",
      "metadata": {
        "id": "HGm10A5HRGXp"
      },
      "source": [
        "Let's take a look at a few reviews."
      ]
    },
    {
      "cell_type": "code",
      "execution_count": null,
      "metadata": {
        "id": "JuxDkcvVIoev",
        "tags": [],
        "colab": {
          "base_uri": "https://localhost:8080/"
        },
        "outputId": "1748bfda-0b44-47b2-a626-9c5db4c45750"
      },
      "outputs": [
        {
          "output_type": "stream",
          "name": "stdout",
          "text": [
            "Review: \"Pandemonium\" is a horror movie spoof that comes off more stupid than funny. Believe me when I tell you, I love comedies. Especially comedy spoofs. \"Airplane\", \"The Naked Gun\" trilogy, \"Blazing Saddles\", \"High Anxiety\", and \"Spaceballs\" are some of my favorite comedies that spoof a particular genre. \"Pandemonium\" is not up there with those films. Most of the scenes in this movie had me sitting there in stunned silence because the movie wasn't all that funny. There are a few laughs in the film, but when you watch a comedy, you expect to laugh a lot more than a few times and that's all this film has going for it. Geez, \"Scream\" had more laughs than this film and that was more of a horror film. How bizarre is that?<br /><br />*1/2 (out of four)\n",
            "Label : 0 (neg)\n"
          ]
        }
      ],
      "source": [
        "for text_batch, label_batch in train_ds.take(1):\n",
        "    for i in range(1):\n",
        "        print(f\"Review: {text_batch.numpy()[i].decode()}\") # decode byte-string to string\n",
        "        label = label_batch.numpy()[i]\n",
        "        print(f\"Label : {label} ({class_names[label]})\")"
      ]
    },
    {
      "cell_type": "markdown",
      "metadata": {
        "id": "dX8FtlpGJRE6"
      },
      "source": [
        "## Loading models from TensorFlow Hub\n",
        "\n",
        "For the purpose of this exercise, I used a model called Small BERT. Small BERT has the same general architecture as the original BERT but the has fewer and/or smaller Transformer blocks.\n",
        "\n",
        "Some other popular BERT models are BERT Base, ALBERT, BERT Experts, Electra. See the continued learning section at the end of this lab for more info.\n",
        "\n",
        "Aside from the models available below, there are [multiple versions](https://tfhub.dev/google/collections/transformer_encoders_text/1) with varying size and capabilities."
      ]
    },
    {
      "cell_type": "markdown",
      "metadata": {
        "id": "3_di4h155YQ7"
      },
      "source": [
        "### Choose a BERT model to fine-tune"
      ]
    },
    {
      "cell_type": "code",
      "execution_count": null,
      "metadata": {
        "cellView": "form",
        "id": "y8_ctG55-uTX",
        "tags": [],
        "colab": {
          "base_uri": "https://localhost:8080/"
        },
        "outputId": "35ef55df-ff10-425e-f06f-aeb198c878e0"
      },
      "outputs": [
        {
          "output_type": "stream",
          "name": "stdout",
          "text": [
            "BERT model selected           : https://tfhub.dev/tensorflow/small_bert/bert_en_uncased_L-4_H-512_A-8/1\n",
            "Preprocess model auto-selected: https://tfhub.dev/tensorflow/bert_en_uncased_preprocess/3\n"
          ]
        }
      ],
      "source": [
        "# defining the URL of the smallBERT model to use\n",
        "# 4 layers, 512 hidden units, and 8 attention units\n",
        "tfhub_handle_encoder = (\n",
        "    \"https://tfhub.dev/tensorflow/small_bert/bert_en_uncased_L-4_H-512_A-8/1\"\n",
        ")\n",
        "\n",
        "# Every BERT model from TF hub is associated with a dedicated preprocessor.\n",
        "# defining the corresponding preprocessing model for the BERT model above\n",
        "tfhub_handle_preprocess = (\n",
        "    \"https://tfhub.dev/tensorflow/bert_en_uncased_preprocess/3\"\n",
        ")\n",
        "\n",
        "print(f\"BERT model selected           : {tfhub_handle_encoder}\")\n",
        "print(f\"Preprocess model auto-selected: {tfhub_handle_preprocess}\")"
      ]
    },
    {
      "cell_type": "markdown",
      "metadata": {
        "id": "7WrcxxTRDdHi"
      },
      "source": [
        "## Preprocessing model\n",
        "\n",
        "Text inputs need to be transformed to numeric token ids and arranged in several Tensors before being input to BERT. TensorFlow Hub provides a matching preprocessing model for each of the BERT models.\n",
        "\n",
        "Note: A [hub.KerasLayer](https://www.tensorflow.org/hub/api_docs/python/hub/KerasLayer) is the preferred API to load a TF2-style SavedModel from TF Hub into a Keras model."
      ]
    },
    {
      "cell_type": "markdown",
      "metadata": {
        "id": "F5Wh9odi5YQ8"
      },
      "source": [
        "Use `hub.KerasLayer` to initialize the preprocessing"
      ]
    },
    {
      "cell_type": "code",
      "execution_count": null,
      "metadata": {
        "id": "rxQCtu955YQ8"
      },
      "outputs": [],
      "source": [
        "bert_preprocess_model = hub.KerasLayer(tfhub_handle_preprocess)"
      ]
    },
    {
      "cell_type": "markdown",
      "metadata": {
        "id": "x4naBiEE_cZX"
      },
      "source": [
        "Let's try the preprocessing model on some text and see the output:"
      ]
    },
    {
      "cell_type": "markdown",
      "metadata": {
        "id": "jUB97AzT5YQ8"
      },
      "source": [
        "Call the preprocess model function and pass text_test"
      ]
    },
    {
      "cell_type": "code",
      "execution_count": null,
      "metadata": {
        "id": "r9-zCzJpnuwS",
        "tags": [],
        "colab": {
          "base_uri": "https://localhost:8080/"
        },
        "outputId": "8f3b2ba4-ff3d-4f81-e77e-22bd199b5156"
      },
      "outputs": [
        {
          "output_type": "stream",
          "name": "stdout",
          "text": [
            "Keys       : ['input_mask', 'input_type_ids', 'input_word_ids']\n",
            "Shape      : (1, 128)\n",
            "Word Ids   : [ 101 2023 2003 2107 2019 6429 3185  999 2821 2232 1010 2748 1012  102\n",
            "    0    0    0    0    0    0    0    0    0    0    0]\n",
            "Input Mask : [1 1 1 1 1 1 1 1 1 1 1 1 1 1 0 0 0 0 0 0 0 0 0 0 0]\n",
            "Type Ids   : [0 0 0 0 0 0 0 0 0 0 0 0 0 0 0 0 0 0 0 0 0 0 0 0 0]\n"
          ]
        }
      ],
      "source": [
        "text_test = [\"This is such an amazing movie! Ohh, yes.\"]\n",
        "text_preprocessed = bert_preprocess_model(text_test)\n",
        "\n",
        "truc = 25\n",
        "\n",
        "# This print box will help you inspect the keys in the pre-processed dictionary\n",
        "print(f\"Keys       : {list(text_preprocessed.keys())}\")\n",
        "\n",
        "# 1. input_word_ids is the ids for the words in the tokenized sentence\n",
        "print(f'Shape      : {text_preprocessed[\"input_word_ids\"].shape}')\n",
        "print(f'Word Ids   : {text_preprocessed[\"input_word_ids\"][0, :truc]}')\n",
        "\n",
        "# 2. input_mask is the tokens which we are masking (masked language model)\n",
        "print(f'Input Mask : {text_preprocessed[\"input_mask\"][0, :truc]}')\n",
        "\n",
        "# 3. input_type_ids is the sentence id of the input sentence.\n",
        "print(f'Type Ids   : {text_preprocessed[\"input_type_ids\"][0, :truc]}')"
      ]
    },
    {
      "cell_type": "markdown",
      "metadata": {
        "id": "EqL7ihkN_862"
      },
      "source": [
        "A preprocessed text that BERT model would use contains (`input_words_id`, `input_mask` and `input_type_ids`).\n",
        "\n",
        "Some other important points:\n",
        "- The input is truncated to 128 tokens.\n",
        "- The `input_type_ids` only have one value (0) because this is a single sentence input. For a multiple sentence input, it would have one number for each input.\n",
        "\n",
        "The text pre-processor is a TensorFlow model. This means we can include it as a layer in the model code."
      ]
    },
    {
      "cell_type": "markdown",
      "metadata": {
        "id": "DKnLPSEmtp9i"
      },
      "source": [
        "### Using the BERT model\n",
        "\n",
        "Before putting BERT into your own model, let's take a look at its outputs."
      ]
    },
    {
      "cell_type": "code",
      "execution_count": null,
      "metadata": {
        "id": "tXxYpK8ixL34",
        "tags": []
      },
      "outputs": [],
      "source": [
        "bert_model = hub.KerasLayer(tfhub_handle_encoder)"
      ]
    },
    {
      "cell_type": "code",
      "execution_count": null,
      "metadata": {
        "id": "_OoF9mebuSZc",
        "tags": [],
        "colab": {
          "base_uri": "https://localhost:8080/"
        },
        "outputId": "e6f0a658-9eb3-4669-c358-9a248f8c6e10"
      },
      "outputs": [
        {
          "output_type": "stream",
          "name": "stdout",
          "text": [
            "Loaded BERT: https://tfhub.dev/tensorflow/small_bert/bert_en_uncased_L-4_H-512_A-8/1\n",
            "Pooled Outputs Shape:(1, 512)\n",
            "Pooled Outputs Values:[ 0.8336221   0.9964934  -0.05115601  0.23460734  0.7286012 ]\n",
            "Sequence Outputs Shape:(1, 128, 512)\n",
            "Sequence Outputs Values:[[ 0.5541765  -0.1145913   0.19657245 ...  0.05435814  0.9516731\n",
            "   0.14341547]\n",
            " [-0.264384   -0.04707228 -0.0262022  ...  0.4530273  -0.26070365\n",
            "   1.0104066 ]\n",
            " [-0.56177574  0.7379129  -1.067863   ... -0.08581166 -0.40062517\n",
            "   0.6111446 ]\n",
            " [-1.0181437   0.06509243 -1.1434816  ... -0.5961821  -0.791217\n",
            "   1.5355943 ]\n",
            " [-0.8211703   0.10390081 -0.13943103 ...  0.04969731 -0.32145792\n",
            "   1.4968474 ]]\n"
          ]
        }
      ],
      "source": [
        "bert_results = bert_model(text_preprocessed)\n",
        "\n",
        "print(f\"Loaded BERT: {tfhub_handle_encoder}\")\n",
        "print(f'Pooled Outputs Shape:{bert_results[\"pooled_output\"].shape}')\n",
        "print(f'Pooled Outputs Values:{bert_results[\"pooled_output\"][0, :5]}')\n",
        "print(f'Sequence Outputs Shape:{bert_results[\"sequence_output\"].shape}')\n",
        "print(f'Sequence Outputs Values:{bert_results[\"sequence_output\"][0, :5]}')"
      ]
    },
    {
      "cell_type": "markdown",
      "metadata": {
        "id": "sm61jDrezAll"
      },
      "source": [
        "The BERT models return a map with 3 important keys: `pooled_output`, `sequence_output`, `encoder_outputs`:\n",
        "\n",
        "- `pooled_output` to represent each input sequence as a whole. The shape is `[batch_size, H]`. You can think of this as an embedding for the entire movie review.\n",
        "- `sequence_output` represents each input token in the context. The shape is `[batch_size, seq_length, H]`. You can think of this as a contextual embedding for every token in the movie review.\n",
        "- `encoder_outputs` are the intermediate activations of the `L` Transformer blocks. `outputs[\"encoder_outputs\"][i]` is a Tensor of shape `[batch_size, seq_length, 1024]` with the outputs of the i-th Transformer block, for `0 <= i < L`. The last value of the list is equal to `sequence_output`.\n",
        "\n",
        "For the fine-tuning you are going to use the `pooled_output` array."
      ]
    },
    {
      "cell_type": "markdown",
      "metadata": {
        "id": "pDNKfAXbDnJH"
      },
      "source": [
        "### Define the model"
      ]
    },
    {
      "cell_type": "markdown",
      "metadata": {
        "id": "e2RTqrq25YQ-"
      },
      "source": [
        "The order of the layers in the model will be:\n",
        "1. Input Layer\n",
        "2. Pre-processing Layer\n",
        "3. Encoder Layer\n",
        "4. From the BERT output map, use pooled_output\n",
        "5. Dropout layer\n",
        "6. Dense layer with sigmoid activation"
      ]
    },
    {
      "cell_type": "code",
      "execution_count": null,
      "metadata": {
        "id": "aksj743St9ga",
        "tags": [],
        "colab": {
          "base_uri": "https://localhost:8080/"
        },
        "outputId": "60d47e5c-5fd0-453d-e259-d789dc177771"
      },
      "outputs": [
        {
          "output_type": "stream",
          "name": "stdout",
          "text": [
            "tf.Tensor([[0.41775438]], shape=(1, 1), dtype=float32)\n"
          ]
        }
      ],
      "source": [
        "def build_classifier_model(dropout_rate=0.1):\n",
        "    text_input = tf.keras.layers.Input(shape=(), dtype=tf.string, name=\"text\")\n",
        "    preprocessing_layer = hub.KerasLayer(\n",
        "        tfhub_handle_preprocess, name=\"preprocessing\"\n",
        "    )\n",
        "    encoder_inputs = preprocessing_layer(text_input)\n",
        "    encoder = hub.KerasLayer(\n",
        "        tfhub_handle_encoder, trainable=True, name=\"BERT_encoder\" # trainable for fine-tuning\n",
        "    )\n",
        "    outputs = encoder(encoder_inputs)\n",
        "    net = outputs[\"pooled_output\"]\n",
        "    net = tf.keras.layers.Dropout(dropout_rate)(net)\n",
        "    net = tf.keras.layers.Dense(1, activation=\"sigmoid\", name=\"classifier\")(net)\n",
        "    return tf.keras.Model(text_input, net)\n",
        "\n",
        "\n",
        "# Let's check that the model runs with the output of the preprocessing model.\n",
        "dropout_rate = 0.15\n",
        "classifier_model = build_classifier_model(dropout_rate)\n",
        "bert_raw_result = classifier_model(tf.constant(text_test))\n",
        "print(bert_raw_result)"
      ]
    },
    {
      "cell_type": "markdown",
      "metadata": {
        "id": "ZTUzNV2JE2G3"
      },
      "source": [
        "The output is meaningless, of course, because the model has not been trained yet.\n",
        "\n",
        "Let's take a look at the model's structure."
      ]
    },
    {
      "cell_type": "code",
      "execution_count": null,
      "metadata": {
        "id": "0EmzyHZXKIpm",
        "tags": [],
        "colab": {
          "base_uri": "https://localhost:8080/",
          "height": 466
        },
        "outputId": "46653771-7453-4006-9dca-3aa0b5b4642b"
      },
      "outputs": [
        {
          "output_type": "execute_result",
          "data": {
            "image/png": "[encoded data removed]",
            "text/plain": [
              "<IPython.core.display.Image object>"
            ]
          },
          "metadata": {},
          "execution_count": 38
        }
      ],
      "source": [
        "tf.keras.utils.plot_model(classifier_model)"
      ]
    },
    {
      "cell_type": "markdown",
      "metadata": {
        "id": "WbUWoZMwc302"
      },
      "source": [
        "## Model training\n",
        "\n",
        "You now have all the pieces to train a model, including the preprocessing module, BERT encoder, data, and classifier."
      ]
    },
    {
      "cell_type": "markdown",
      "metadata": {
        "id": "WpJ3xcwDT56v"
      },
      "source": [
        "### Loss function\n",
        "\n",
        "Since this is a binary classification problem and the model outputs a probability (a single-unit layer), you'll use `losses.BinaryCrossentropy` loss function.\n"
      ]
    },
    {
      "cell_type": "markdown",
      "metadata": {
        "id": "erAN35kt5YQ_"
      },
      "source": [
        "Define your loss and evaluation metrics here. Since it is a binary classification use BinaryCrossentropy and BinaryAccuracy"
      ]
    },
    {
      "cell_type": "code",
      "execution_count": null,
      "metadata": {
        "id": "OWPOZE-L3AgE",
        "tags": []
      },
      "outputs": [],
      "source": [
        "loss = tf.keras.losses.BinaryCrossentropy()\n",
        "metrics = tf.metrics.BinaryAccuracy()"
      ]
    },
    {
      "cell_type": "markdown",
      "metadata": {
        "id": "77psrpfzbxtp"
      },
      "source": [
        "### Optimizer\n",
        "\n",
        "For fine-tuning, let's use the same optimizer that BERT was originally trained with: the \"Adaptive Moments\" (Adam). This optimizer minimizes the prediction loss and does regularization by weight decay (not using moments), which is also known as [AdamW](https://www.tensorflow.org/addons/api_docs/python/tfa/optimizers/AdamW).\n",
        "\n",
        "In past labs, we have been using the Adam optimizer which is a popular choice. However, for this lab we will be using a new optimizier which is meant to improve generalization. The intuition and algoritm behind AdamW can be found in this paper [here](https://arxiv.org/abs/1711.05101).\n",
        "\n",
        "For the learning rate (`init_lr`), we use the same schedule as BERT pre-training: linear decay of a notional initial learning rate, prefixed with a linear warm-up phase over the first 10% of training steps (`num_warmup_steps`). In line with the BERT paper, the initial learning rate is smaller for fine-tuning (best of 5e-5, 3e-5, 2e-5)."
      ]
    },
    {
      "cell_type": "code",
      "execution_count": null,
      "metadata": {
        "id": "P9eP2y9dbw32",
        "tags": []
      },
      "outputs": [],
      "source": [
        "epochs = 10\n",
        "steps_per_epoch = tf.data.experimental.cardinality(train_ds).numpy()\n",
        "num_train_steps = steps_per_epoch * epochs\n",
        "num_warmup_steps = int(0.1 * num_train_steps)\n",
        "\n",
        "init_lr = 3e-5\n",
        "optimizer = optimization.create_optimizer(\n",
        "    init_lr=init_lr,\n",
        "    num_train_steps=num_train_steps,\n",
        "    num_warmup_steps=num_warmup_steps,\n",
        "    optimizer_type=\"adamw\",\n",
        ")"
      ]
    },
    {
      "cell_type": "markdown",
      "metadata": {
        "id": "SqlarlpC_v0g"
      },
      "source": [
        "### Loading the BERT model and training\n",
        "\n",
        "Using the `classifier_model` you created earlier, you can compile the model with the loss, metric and optimizer."
      ]
    },
    {
      "cell_type": "markdown",
      "metadata": {
        "id": "1PT0mgf75YRE"
      },
      "source": [
        "Complile the model using the optimizer, loss and metrics you defined above."
      ]
    },
    {
      "cell_type": "code",
      "execution_count": null,
      "metadata": {
        "id": "-7GPDhR98jsD",
        "tags": []
      },
      "outputs": [],
      "source": [
        "classifier_model.compile(optimizer=optimizer, loss=loss, metrics=metrics)"
      ]
    },
    {
      "cell_type": "markdown",
      "metadata": {
        "id": "CpBuV5j2cS_b"
      },
      "source": [
        "Note: training time will vary depending on the complexity of the BERT model you have selected."
      ]
    },
    {
      "cell_type": "markdown",
      "metadata": {
        "id": "8gB_CDkh5YRE"
      },
      "source": [
        "Let's train the model for a few epochs."
      ]
    },
    {
      "cell_type": "code",
      "execution_count": null,
      "metadata": {
        "id": "HtfDFAnN_Neu",
        "colab": {
          "base_uri": "https://localhost:8080/"
        },
        "outputId": "c100d9d5-5339-495a-faff-497af0089dd8"
      },
      "outputs": [
        {
          "output_type": "stream",
          "name": "stdout",
          "text": [
            "Training model with https://tfhub.dev/tensorflow/small_bert/bert_en_uncased_L-4_H-512_A-8/1\n",
            "Epoch 1/10\n",
            "625/625 [==============================] - 182s 286ms/step - loss: 0.5155 - binary_accuracy: 0.7070 - val_loss: 0.3839 - val_binary_accuracy: 0.8284\n",
            "Epoch 2/10\n",
            "625/625 [==============================] - 184s 295ms/step - loss: 0.3537 - binary_accuracy: 0.8464 - val_loss: 0.3634 - val_binary_accuracy: 0.8504\n",
            "Epoch 3/10\n",
            "625/625 [==============================] - 172s 276ms/step - loss: 0.2666 - binary_accuracy: 0.8923 - val_loss: 0.4269 - val_binary_accuracy: 0.8456\n",
            "Epoch 4/10\n",
            "625/625 [==============================] - 172s 275ms/step - loss: 0.1920 - binary_accuracy: 0.9266 - val_loss: 0.5067 - val_binary_accuracy: 0.8432\n",
            "Epoch 5/10\n",
            "625/625 [==============================] - 171s 274ms/step - loss: 0.1389 - binary_accuracy: 0.9519 - val_loss: 0.5894 - val_binary_accuracy: 0.8520\n",
            "Epoch 6/10\n",
            "625/625 [==============================] - 171s 273ms/step - loss: 0.1049 - binary_accuracy: 0.9659 - val_loss: 0.6477 - val_binary_accuracy: 0.8526\n",
            "Epoch 7/10\n",
            "625/625 [==============================] - 172s 276ms/step - loss: 0.0792 - binary_accuracy: 0.9748 - val_loss: 0.7427 - val_binary_accuracy: 0.8544\n",
            "Epoch 8/10\n",
            "625/625 [==============================] - 171s 274ms/step - loss: 0.0661 - binary_accuracy: 0.9807 - val_loss: 0.7795 - val_binary_accuracy: 0.8524\n",
            "Epoch 9/10\n",
            "625/625 [==============================] - 172s 276ms/step - loss: 0.0510 - binary_accuracy: 0.9849 - val_loss: 0.8651 - val_binary_accuracy: 0.8540\n",
            "Epoch 10/10\n",
            "625/625 [==============================] - 171s 274ms/step - loss: 0.0426 - binary_accuracy: 0.9874 - val_loss: 0.8708 - val_binary_accuracy: 0.8568\n"
          ]
        }
      ],
      "source": [
        "print(f\"Training model with {tfhub_handle_encoder}\")\n",
        "history = classifier_model.fit(\n",
        "    x=train_ds, validation_data=val_ds, epochs=epochs\n",
        ")"
      ]
    },
    {
      "cell_type": "markdown",
      "metadata": {
        "id": "uBthMlTSV8kn"
      },
      "source": [
        "### Evaluate the model\n",
        "\n",
        "Let's see how the model performs. Two values will be returned. Loss (a number which represents the error, lower values are better), and accuracy."
      ]
    },
    {
      "cell_type": "code",
      "execution_count": null,
      "metadata": {
        "id": "slqB-urBV9sP",
        "colab": {
          "base_uri": "https://localhost:8080/"
        },
        "outputId": "982b97f1-9a07-4854-c714-6449d9069206"
      },
      "outputs": [
        {
          "output_type": "stream",
          "name": "stdout",
          "text": [
            "782/782 [==============================] - 100s 127ms/step - loss: 0.8691 - binary_accuracy: 0.8546\n",
            "Loss: 0.8691298961639404\n",
            "Accuracy: 0.8546000123023987\n"
          ]
        }
      ],
      "source": [
        "loss, accuracy = classifier_model.evaluate(test_ds)\n",
        "\n",
        "print(f\"Loss: {loss}\")\n",
        "print(f\"Accuracy: {accuracy}\")"
      ]
    },
    {
      "cell_type": "markdown",
      "metadata": {
        "id": "uttWpgmSfzq9"
      },
      "source": [
        "### Training Result: Plot the accuracy and loss over time\n",
        "\n",
        "Based on the `History` object returned by `model.fit()`. You can plot the training and validation loss for comparison, as well as the training and validation accuracy:"
      ]
    },
    {
      "cell_type": "code",
      "execution_count": null,
      "metadata": {
        "id": "fiythcODf0xo",
        "colab": {
          "base_uri": "https://localhost:8080/",
          "height": 466
        },
        "outputId": "21e040dc-94be-432b-ce57-e515115f919c"
      },
      "outputs": [
        {
          "output_type": "stream",
          "name": "stdout",
          "text": [
            "dict_keys(['loss', 'binary_accuracy', 'val_loss', 'val_binary_accuracy'])\n"
          ]
        },
        {
          "output_type": "execute_result",
          "data": {
            "text/plain": [
              "<matplotlib.legend.Legend at 0x79d0f614b2b0>"
            ]
          },
          "metadata": {},
          "execution_count": 49
        },
        {
          "output_type": "display_data",
          "data": {
            "text/plain": [
              "<Figure size 1000x600 with 2 Axes>"
            ],
            "image/png": "[encoded data removed]"
          },
          "metadata": {}
        }
      ],
      "source": [
        "history_dict = history.history\n",
        "print(history_dict.keys())\n",
        "\n",
        "acc = history_dict[\"binary_accuracy\"]\n",
        "val_acc = history_dict[\"val_binary_accuracy\"]\n",
        "loss = history_dict[\"loss\"]\n",
        "val_loss = history_dict[\"val_loss\"]\n",
        "\n",
        "epochs = range(1, len(acc) + 1)\n",
        "fig = plt.figure(figsize=(10, 6))\n",
        "fig.tight_layout()\n",
        "\n",
        "plt.subplot(2, 1, 1)\n",
        "# \"bo\" is for \"blue dot\"\n",
        "plt.plot(epochs, loss, \"r\", label=\"Training loss\")\n",
        "# b is for \"solid blue line\"\n",
        "plt.plot(epochs, val_loss, \"b\", label=\"Validation loss\")\n",
        "plt.title(\"Training and validation loss\")\n",
        "# plt.xlabel('Epochs')\n",
        "plt.ylabel(\"Loss\")\n",
        "plt.legend()\n",
        "\n",
        "plt.subplot(2, 1, 2)\n",
        "plt.plot(epochs, acc, \"r\", label=\"Training acc\")\n",
        "plt.plot(epochs, val_acc, \"b\", label=\"Validation acc\")\n",
        "plt.title(\"Training and validation accuracy\")\n",
        "plt.xlabel(\"Epochs\")\n",
        "plt.ylabel(\"Accuracy\")\n",
        "plt.legend(loc=\"lower right\")"
      ]
    },
    {
      "cell_type": "markdown",
      "metadata": {
        "id": "WzJZCo-cf-Jf"
      },
      "source": [
        "In this plot, the red lines represents the training loss and accuracy, and the blue lines are the validation loss and accuracy.\n",
        "\n",
        "As shown in the results, the model shows signs of overfitting after the second epoch - the training score increases, but the validation score decreases."
      ]
    },
    {
      "cell_type": "markdown",
      "metadata": {
        "id": "Rtn7jewb6dg4"
      },
      "source": [
        "### Export for inference\n",
        "\n",
        "Now you just save your fine-tuned model for later use."
      ]
    },
    {
      "cell_type": "markdown",
      "metadata": {
        "id": "yNvbsxxL5YRG"
      },
      "source": [
        "Save the model to saved_model_path for inference."
      ]
    },
    {
      "cell_type": "code",
      "execution_count": null,
      "metadata": {
        "id": "ShcvqJAgVera"
      },
      "outputs": [],
      "source": [
        "dataset_name = \"imdb\"\n",
        "saved_model_path = \"./{}_bert\".format(dataset_name.replace(\"/\", \"_\"))\n",
        "TIMESTAMP = datetime.datetime.now().strftime(\"%Y%m%d%H%M%S\")\n",
        "\n",
        "EXPORT_PATH = os.path.join(saved_model_path, TIMESTAMP)\n",
        "\n",
        "classifier_model.save(EXPORT_PATH, include_optimizer=False)"
      ]
    },
    {
      "cell_type": "markdown",
      "metadata": {
        "id": "PbI25bS1vD7s"
      },
      "source": [
        "Let's reload the model so you can try it side by side with the model that is still in memory."
      ]
    },
    {
      "cell_type": "code",
      "execution_count": null,
      "metadata": {
        "id": "gUEWVskZjEF0"
      },
      "outputs": [],
      "source": [
        "reloaded_model = tf.saved_model.load(EXPORT_PATH)"
      ]
    },
    {
      "cell_type": "markdown",
      "metadata": {
        "id": "oyTappHTvNCz"
      },
      "source": [
        "### Result\n",
        "\n",
        "Here are the results from some example reviews:"
      ]
    },
    {
      "cell_type": "code",
      "execution_count": null,
      "metadata": {
        "id": "VBWzH6exlCPS",
        "colab": {
          "base_uri": "https://localhost:8080/"
        },
        "outputId": "62673574-58f1-4290-897e-b50a1a39fb21"
      },
      "outputs": [
        {
          "output_type": "stream",
          "name": "stdout",
          "text": [
            "Results from the model in memory:\n",
            "input: this is such an amazing movie! : score: 0.421996\n",
            "input: The movie was great!           : score: 0.479274\n",
            "input: The movie was meh.             : score: 0.455165\n",
            "input: The movie was okish.           : score: 0.531392\n",
            "input: The movie was terrible...      : score: 0.408353\n",
            "input: I loved how the movie was nothing like how it was advertized! I wonder where they spent the $30M budget. : score: 0.433615\n",
            "input: The movie was nothing like how it was advertized! I wonder where they spent the $30M budget. : score: 0.511138\n",
            "input: I regret not watching this movie sooner. This movie is underrated. : score: 0.365268\n",
            "input: asdfasdfgasdggfd ag dsfsdfasdf : score: 0.280563\n",
            "input: Oh, no. Help me, I can't stop watching this movie over and over. : score: 0.452152\n",
            "\n"
          ]
        }
      ],
      "source": [
        "def print_my_examples(inputs, results):\n",
        "    result_for_printing = [\n",
        "        f\"input: {inputs[i]:<30} : score: {results[i][0]:.6f}\"\n",
        "        for i in range(len(inputs))\n",
        "    ]\n",
        "    print(*result_for_printing, sep=\"\\n\")\n",
        "    print()\n",
        "\n",
        "\n",
        "examples = [\n",
        "    \"this is such an amazing movie!\",  # this is the same sentence tried earlier\n",
        "    \"The movie was great!\",\n",
        "    \"The movie was meh.\",\n",
        "    \"The movie was okish.\",\n",
        "    \"The movie was terrible...\",\n",
        "    \"I loved how the movie was nothing like how it was advertized! I wonder where they spent the $30M budget.\",\n",
        "    \"The movie was nothing like how it was advertized! I wonder where they spent the $30M budget.\",\n",
        "    \"I regret not watching this movie sooner. This movie is underrated.\",\n",
        "    \"asdfasdfgasdggfd ag dsfsdfasdf\",\n",
        "    \"Oh, no. Help me, I can't stop watching this movie over and over.\",\n",
        "]\n",
        "\n",
        "# reloaded_results = reloaded_model(tf.constant(examples))\n",
        "original_results = classifier_model(tf.constant(examples))\n",
        "\n",
        "# print(\"Results from the saved model:\")\n",
        "# print_my_examples(examples, reloaded_results)\n",
        "print(\"Results from the model in memory:\")\n",
        "print_my_examples(examples, original_results)"
      ]
    },
    {
      "cell_type": "markdown",
      "source": [
        "These are my observations:\n",
        "\n",
        "1. Shorter and more straightforward phrases are often accurately classified (input 1 ~ 5).\n",
        "2. A sign of overfitting is observed in certain words. Inputs 6 and 7 are the same negative reviews - I added the word 'loved' in a sarcastic way to test whether the model can catch the nuance from reading the second sentence. While input 7 is rated as 99% negative, input 6 is rated as 99% positive - revealing that 'loved' is only associated with positivity in the model.\n",
        "3. Input 9 is rated as positive despite it being a random input.\n",
        "4. It doesn't catch more nuanced inputs like sarcasm (inputs 6, 8, and 10)."
      ],
      "metadata": {
        "id": "tEzzQct9W7nV"
      }
    },
    {
      "cell_type": "markdown",
      "source": [
        "## Discussion\n",
        "\n",
        "These are some ways to combat over-fitting:\n",
        "\n",
        "1. Data augmentation\n",
        "\n",
        "   Based on the explanation from [this article](https://www.analyticsvidhya.com/blog/2022/02/text-data-augmentation-in-natural-language-processing-with-texattack/), I used the [TextAttack](https://textattack.readthedocs.io/en/latest/2notebook/3_Augmentations.html) text augmentation library. After some testing, I employed a `CompositeTransformation` containing:\n",
        "      * `WordSwapWordNet` - Transforms an input by replacing its words with synonyms provided by WordNet.\n",
        "      * `WordSwapNeighboringCharacterSwap` - Transformation that swaps neighboring characters.\n",
        "      * `RepeatModification` - A constraint disallowing the modification of words that have already been modified.\n",
        "      * `MinWordLength` - A constraint that prevents modifications to words less than a certain character length.\n",
        "      * 15% augmentation rate\n",
        "   \n",
        "   > Ex) \"I'd love to go to Japan but the tickets are 500 dollars\" --> \"I'd love to go to Japan but the tikcets are 500 bucks\"\n",
        "\n",
        "2. Feature selection\n",
        "\n",
        "   We already have a dedicated text preprocessor that is doing a good job, so I won't do this step.\n",
        "   \n",
        "3. Remove layers or number of units per layer\n",
        "   \n",
        "   I can't really remove any layers or units, but I can employ a smaller pre-trained model.\n",
        "    \n",
        "4. Dropout\n",
        "   \n",
        "   I can increase the dropout from 0.15 to 0.40.\n",
        "   \n",
        "5. Early stopping\n",
        "   \n",
        "   I can fetch the model before it starts to overfit, which is at the second epoch.\n",
        "\n",
        "6. Hold-out\n",
        "\n",
        "   I've already done the hold-out by separating the data into train, validation, and test.\n",
        "\n",
        "See [this article](https://towardsdatascience.com/8-simple-techniques-to-prevent-overfitting-4d443da2ef7d) for more information on overfitting.\n",
        "\n"
      ],
      "metadata": {
        "id": "glgNIWAbTmUQ"
      }
    },
    {
      "cell_type": "markdown",
      "source": [
        "### Dealing with overfitting"
      ],
      "metadata": {
        "id": "p10gh9eiXWIl"
      }
    },
    {
      "cell_type": "code",
      "source": [
        "!pip install textattack[tensorflow]"
      ],
      "metadata": {
        "id": "13bVaeH-icbW"
      },
      "execution_count": null,
      "outputs": []
    },
    {
      "cell_type": "code",
      "source": [
        "import numpy as np"
      ],
      "metadata": {
        "id": "zEF4Zw1purss"
      },
      "execution_count": null,
      "outputs": []
    },
    {
      "cell_type": "code",
      "source": [
        "# import transformations, contraints, and the Augmenter\n",
        "# Word Swap by Random Character Deletion\n",
        "from textattack.transformations import WordSwapRandomCharacterDeletion\n",
        "# Word Swap by swaps characters with QWERTY adjacent keys... a typical typo scenario\n",
        "from textattack.transformations import WordSwapQWERTY\n",
        "# Transformation that swaps neighboring characters.\n",
        "from textattack.transformations.word_swaps.word_swap_neighboring_character_swap import WordSwapNeighboringCharacterSwap\n",
        "# Transforms an input by replacing its words with synonyms provided by WordNet.\n",
        "from textattack.transformations import WordSwapWordNet\n",
        "\n",
        "# To combine the above tranformation into one\n",
        "from textattack.transformations import CompositeTransformation\n",
        "\n",
        "# A constraint disallowing the modification of words which have already been modified.\n",
        "from textattack.constraints.pre_transformation import RepeatModification\n",
        "# A constraint that prevents modifications to words less than a certain word character-length.\n",
        "from textattack.constraints.pre_transformation import MinWordLength\n",
        "\n",
        "from textattack.augmentation import Augmenter"
      ],
      "metadata": {
        "colab": {
          "base_uri": "https://localhost:8080/"
        },
        "id": "EnHNsGTdkLU5",
        "outputId": "27af8d15-e30d-4888-bcdb-5e26586ee281"
      },
      "execution_count": null,
      "outputs": [
        {
          "output_type": "stream",
          "name": "stderr",
          "text": [
            "textattack: Updating TextAttack package dependencies.\n",
            "textattack: Downloading NLTK required packages.\n",
            "[nltk_data] Downloading package averaged_perceptron_tagger to\n",
            "[nltk_data]     /root/nltk_data...\n",
            "[nltk_data]   Unzipping taggers/averaged_perceptron_tagger.zip.\n",
            "[nltk_data] Downloading package stopwords to /root/nltk_data...\n",
            "[nltk_data]   Unzipping corpora/stopwords.zip.\n",
            "[nltk_data] Downloading package omw to /root/nltk_data...\n",
            "[nltk_data] Downloading package universal_tagset to /root/nltk_data...\n",
            "[nltk_data]   Unzipping taggers/universal_tagset.zip.\n",
            "[nltk_data] Downloading package wordnet to /root/nltk_data...\n",
            "[nltk_data] Downloading package punkt to /root/nltk_data...\n",
            "[nltk_data]   Unzipping tokenizers/punkt.zip.\n"
          ]
        }
      ]
    },
    {
      "cell_type": "markdown",
      "source": [
        "Initialize the text augmenter. Too much augmentation is worse than nothing, so I had to balance it."
      ],
      "metadata": {
        "id": "_XHEZJPFXg9i"
      }
    },
    {
      "cell_type": "code",
      "source": [
        "# Set up transformation using CompositeTransformation()\n",
        "transformation = CompositeTransformation(\n",
        "    [\n",
        "        WordSwapWordNet(),\n",
        "    #  WordSwapRandomCharacterDeletion(),\n",
        "    #  WordSwapQWERTY(skip_first_char=True, skip_last_char=True),\n",
        "     WordSwapNeighboringCharacterSwap(),\n",
        "     ]\n",
        ")\n",
        "# Set up constraints\n",
        "constraints = [RepeatModification(), MinWordLength(3)]\n",
        "\n",
        "# Create augmenter with specified parameters\n",
        "augmenter = Augmenter(\n",
        "    transformation=transformation,\n",
        "    constraints=constraints,\n",
        "    pct_words_to_swap=0.15,\n",
        "    transformations_per_example=1,\n",
        ")\n",
        "\n",
        "s = \"I'd love to go to Japan but the tickets are 500 dollars\"\n",
        "# Augment!\n",
        "augmenter.augment(s)"
      ],
      "metadata": {
        "colab": {
          "base_uri": "https://localhost:8080/"
        },
        "id": "WvZh5x86kJAU",
        "outputId": "425aa89e-1715-4862-afbb-40a47799eb8c"
      },
      "execution_count": null,
      "outputs": [
        {
          "output_type": "stream",
          "name": "stderr",
          "text": [
            "[nltk_data] Downloading package omw-1.4 to /root/nltk_data...\n"
          ]
        },
        {
          "output_type": "execute_result",
          "data": {
            "text/plain": [
              "[\"I'd screw to go to Japan but the tickets are 500 dollars\"]"
            ]
          },
          "metadata": {},
          "execution_count": 23
        }
      ]
    },
    {
      "cell_type": "markdown",
      "source": [
        "Resolve some dependency issues from installing textattack"
      ],
      "metadata": {
        "id": "HyYiEhZuaPvb"
      }
    },
    {
      "cell_type": "code",
      "source": [
        "pip install git+https://github.com/boto/botocore"
      ],
      "metadata": {
        "id": "IUfbA1gNnqrY"
      },
      "execution_count": null,
      "outputs": []
    },
    {
      "cell_type": "code",
      "source": [
        "pip install --upgrade urllib3"
      ],
      "metadata": {
        "id": "wtWcEWOuicZb"
      },
      "execution_count": null,
      "outputs": []
    },
    {
      "cell_type": "code",
      "source": [
        "!pip install tensorflow --upgrade\n",
        "!pip install keras --upgrade"
      ],
      "metadata": {
        "id": "lrRbWbmgNHFT"
      },
      "execution_count": null,
      "outputs": []
    },
    {
      "cell_type": "markdown",
      "source": [
        "Augmentation took very long without a GPU, so I limited the text length."
      ],
      "metadata": {
        "id": "Neas5Om3XtQv"
      }
    },
    {
      "cell_type": "code",
      "source": [
        "the_dataset = raw_train_ds.unbatch() # This turns the dataset into this form: [(text, label), (text, label), ...]\n",
        "\n",
        "new_data = []\n",
        "\n",
        "count = 0\n",
        "\n",
        "for i, (text, label) in enumerate(the_dataset):\n",
        "  text = text.numpy().decode()\n",
        "\n",
        "  # keep the original data\n",
        "  new_data.append((text, label.numpy()))\n",
        "\n",
        "  # Longer texts took too long to process, so skip them\n",
        "  if len(text) < 300:\n",
        "\n",
        "    count += 1\n",
        "\n",
        "    if count % 50 == 0:\n",
        "      print(f'newly added {count} so far.')\n",
        "\n",
        "    text = augmenter.augment(text)[0]\n",
        "    text = bytes(text, 'utf-8')\n",
        "    new_data.append((text, label.numpy()))\n",
        "\n",
        "    # stop at a certain point\n",
        "    if count >= 1000:\n",
        "      break\n",
        "\n",
        "len(new_data)\n"
      ],
      "metadata": {
        "colab": {
          "base_uri": "https://localhost:8080/"
        },
        "id": "HX4nf2_r1mel",
        "outputId": "2cb2e310-1d56-400d-a775-e02ca7953f92"
      },
      "execution_count": null,
      "outputs": [
        {
          "output_type": "stream",
          "name": "stdout",
          "text": [
            "newly added 50 so far.\n",
            "newly added 100 so far.\n",
            "newly added 150 so far.\n",
            "newly added 200 so far.\n",
            "newly added 250 so far.\n",
            "newly added 300 so far.\n",
            "newly added 350 so far.\n",
            "newly added 400 so far.\n",
            "newly added 450 so far.\n",
            "newly added 500 so far.\n",
            "newly added 550 so far.\n",
            "newly added 600 so far.\n"
          ]
        },
        {
          "output_type": "execute_result",
          "data": {
            "text/plain": [
              "20633"
            ]
          },
          "metadata": {},
          "execution_count": 65
        }
      ]
    },
    {
      "cell_type": "code",
      "source": [
        "aug_dataset = tf.data.Dataset.from_generator(\n",
        "    lambda: new_data[:20608],\n",
        "    output_signature=(\n",
        "        tf.TensorSpec(shape=(None, ), dtype=tf.string),\n",
        "        tf.TensorSpec(shape=(), dtype=tf.int32)\n",
        "        )\n",
        "    )\n",
        "\n",
        "aug_dataset = aug_dataset.batch(batch_size)"
      ],
      "metadata": {
        "id": "kwtkTMgGx1Ed"
      },
      "execution_count": null,
      "outputs": []
    },
    {
      "cell_type": "code",
      "source": [
        "# concat the dataset\n",
        "# bigger_train_ds = #raw_train_ds.concatenate(aug_dataset)\n",
        "\n",
        "# check the size to double-check\n",
        "print(aug_dataset.cardinality().numpy())\n",
        "\n",
        "aug_dataset.cache().prefetch(buffer_size=AUTOTUNE)\n"
      ],
      "metadata": {
        "colab": {
          "base_uri": "https://localhost:8080/"
        },
        "id": "E5cvt_KAtuNK",
        "outputId": "66421afc-aea4-41bc-f622-a6b2863a4834"
      },
      "execution_count": null,
      "outputs": [
        {
          "output_type": "stream",
          "name": "stdout",
          "text": [
            "-2\n"
          ]
        },
        {
          "output_type": "execute_result",
          "data": {
            "text/plain": [
              "<_PrefetchDataset element_spec=(TensorSpec(shape=(None, None), dtype=tf.string, name=None), TensorSpec(shape=(None,), dtype=tf.int32, name=None))>"
            ]
          },
          "metadata": {},
          "execution_count": 105
        }
      ]
    },
    {
      "cell_type": "code",
      "source": [
        "# increased the dropout from 0.15 to 0.4 to reduce overfitting\n",
        "dropout_rate = 0.4\n",
        "classifier_model = build_classifier_model(dropout_rate)"
      ],
      "metadata": {
        "id": "8_RQnOmITni0"
      },
      "execution_count": null,
      "outputs": []
    },
    {
      "cell_type": "code",
      "source": [
        "loss = tf.keras.losses.BinaryCrossentropy()\n",
        "metrics = tf.metrics.BinaryAccuracy()"
      ],
      "metadata": {
        "id": "sgZfNiyXTs2W"
      },
      "execution_count": null,
      "outputs": []
    },
    {
      "cell_type": "code",
      "source": [
        "epochs = 5\n",
        "steps_per_epoch = 644\n",
        "num_train_steps = steps_per_epoch * epochs\n",
        "num_warmup_steps = int(0.1 * num_train_steps)\n",
        "\n",
        "init_lr = 3e-5\n",
        "optimizer = optimization.create_optimizer(\n",
        "    init_lr=init_lr,\n",
        "    num_train_steps=num_train_steps,\n",
        "    num_warmup_steps=num_warmup_steps,\n",
        "    optimizer_type=\"adamw\",\n",
        ")"
      ],
      "metadata": {
        "id": "RzOCNBCKTws6"
      },
      "execution_count": null,
      "outputs": []
    },
    {
      "cell_type": "code",
      "source": [
        "classifier_model.compile(optimizer=optimizer, loss=loss, metrics=metrics)"
      ],
      "metadata": {
        "id": "BPD9WcDKT2Wt"
      },
      "execution_count": null,
      "outputs": []
    },
    {
      "cell_type": "markdown",
      "source": [
        "I wanted to test my theory, but Colab won't let me use the GPU... Without a GPU, it'll take 2 hrs per epoch.\n",
        "\n",
        "I wanted to test my changes, but Colab won't let me use the GPU long enough to prepare the data and train. Apparently, it'll take 2 hours to complete one epoch on a CPU. This is because GPUs have more cores (better parallel processing), specialized cores like Tensor Cores, and higher RAM capacity than CPUs, which provide a substantial speedup in training times."
      ],
      "metadata": {
        "id": "YPTYZSIhOnr_"
      }
    },
    {
      "cell_type": "code",
      "source": [
        "print(f\"Training model with {tfhub_handle_encoder}\")\n",
        "history = classifier_model.fit(\n",
        "    x=aug_dataset, validation_data=val_ds, epochs=epochs, steps_per_epoch=steps_per_epoch\n",
        ")"
      ],
      "metadata": {
        "id": "akKJA-fFT2O-"
      },
      "execution_count": null,
      "outputs": []
    },
    {
      "cell_type": "code",
      "source": [
        "loss, accuracy = classifier_model.evaluate(test_ds)\n",
        "\n",
        "print(f\"Loss: {loss}\")\n",
        "print(f\"Accuracy: {accuracy}\")"
      ],
      "metadata": {
        "id": "AWJkfOOkT2IY"
      },
      "execution_count": null,
      "outputs": []
    },
    {
      "cell_type": "code",
      "source": [
        "history_dict = history.history\n",
        "print(history_dict.keys())\n",
        "\n",
        "acc = history_dict[\"binary_accuracy\"]\n",
        "val_acc = history_dict[\"val_binary_accuracy\"]\n",
        "loss = history_dict[\"loss\"]\n",
        "val_loss = history_dict[\"val_loss\"]\n",
        "\n",
        "epochs = range(1, len(acc) + 1)\n",
        "fig = plt.figure(figsize=(10, 6))\n",
        "fig.tight_layout()\n",
        "\n",
        "plt.subplot(2, 1, 1)\n",
        "# \"bo\" is for \"blue dot\"\n",
        "plt.plot(epochs, loss, \"r\", label=\"Training loss\")\n",
        "# b is for \"solid blue line\"\n",
        "plt.plot(epochs, val_loss, \"b\", label=\"Validation loss\")\n",
        "plt.title(\"Training and validation loss\")\n",
        "# plt.xlabel('Epochs')\n",
        "plt.ylabel(\"Loss\")\n",
        "plt.legend()\n",
        "\n",
        "plt.subplot(2, 1, 2)\n",
        "plt.plot(epochs, acc, \"r\", label=\"Training acc\")\n",
        "plt.plot(epochs, val_acc, \"b\", label=\"Validation acc\")\n",
        "plt.title(\"Training and validation accuracy\")\n",
        "plt.xlabel(\"Epochs\")\n",
        "plt.ylabel(\"Accuracy\")\n",
        "plt.legend(loc=\"lower right\")"
      ],
      "metadata": {
        "id": "Tljc_5vkUCEt"
      },
      "execution_count": null,
      "outputs": []
    },
    {
      "cell_type": "markdown",
      "source": [
        "\n",
        "Overall, this project was a nice exercise to get some hands-on experience from working with a large language model (LLM) like BERT. I learned how to incorporate a pre-trained LLM in my model to suit my needs."
      ],
      "metadata": {
        "id": "lB2rCEV2YNV8"
      }
    }
  ],
  "metadata": {
    "colab": {
      "provenance": []
    },
    "environment": {
      "kernel": "python3",
      "name": "tf2-gpu.2-12.m109",
      "type": "gcloud",
      "uri": "gcr.io/deeplearning-platform-release/tf2-gpu.2-12:m109"
    },
    "kernelspec": {
      "display_name": "Python 3",
      "name": "python3"
    },
    "language_info": {
      "codemirror_mode": {
        "name": "ipython",
        "version": 3
      },
      "file_extension": ".py",
      "mimetype": "text/x-python",
      "name": "python",
      "nbconvert_exporter": "python",
      "pygments_lexer": "ipython3",
      "version": "3.10.11"
    }
  },
  "nbformat": 4,
  "nbformat_minor": 0
}