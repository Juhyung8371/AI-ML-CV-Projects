{
  "cells": [
    {
      "cell_type": "markdown",
      "metadata": {
        "id": "CpHZNOhZIxt4"
      },
      "source": [
        "# Continuous Bag of Words - Word Embeddings\n",
        "\n",
        "We can represent the words as numerical vectors for computers to interpret human words. Word embeddings are one of the ways.\n",
        "\n",
        "The CBOW technique captures the context of the word to better understand the relationship between words (syntactic and semantic structures).\n",
        "\n",
        "Word vectors can be a building block of many Natural Language Processing tasks.\n"
      ],
      "id": "CpHZNOhZIxt4"
    },
    {
      "cell_type": "markdown",
      "metadata": {
        "id": "6x8VsCkgIxt_"
      },
      "source": [
        "## Outline\n",
        "\n",
        "- [The Idea of CBOW](#1)\n",
        "- [Data preprocessing](#2)\n",
        "- [Prepare training data](#3)\n",
        "- [Building and training the model](#4)\n",
        "- [Visualizing the word vectors](#5)\n",
        "- [Discussion](#6)\n"
      ],
      "id": "6x8VsCkgIxt_"
    },
    {
      "cell_type": "markdown",
      "metadata": {
        "id": "TBZBDQ1ZIxuA"
      },
      "source": [
        "<a name='1'></a>\n",
        "## 1. The idea of CBOW\n",
        "\n",
        "- In CBOW modeling, we try to predict the center word given a few context words (the words around the center word).\n",
        "\n",
        "- For example, if you were to choose a context half-size of say $C = 2$, then you would try to predict the word **happy** given the context that includes 2 words before and 2 words after the center word:\n",
        "\n",
        ">**'I am happy because I am learning'**.\n",
        "\n",
        "> $context = [I,am, because, I]$\n",
        "\n",
        "> $target = happy$\n",
        "\n",
        "The structure of your model will look like this:\n",
        "\n",
        "<img src='https://drive.google.com/uc?id=11UcTETIGoFccIxp1PS75OSXPPNxWn_sa' width='600'>\n",
        "\n",
        "\n",
        "Where $\\bar x$ is the average of all the one hot vectors of the context words.\n",
        "\n",
        "<img src='https://drive.google.com/uc?export=view&id=1bNSRUb1j3i4BkZB4gQMnYcJZS0PYZ0Xx' width='600'>\n",
        "\n",
        "Once you have encoded all the context words, you can use $\\bar x$ as the input to your model.\n"
      ],
      "id": "TBZBDQ1ZIxuA"
    },
    {
      "cell_type": "markdown",
      "source": [
        "<a name='2'></a>\n",
        "## Data Preprocessing\n",
        "\n",
        "Load the text to train with. I will use one of Shakespeare's texts."
      ],
      "metadata": {
        "id": "FEspSyz8uzMR"
      },
      "id": "FEspSyz8uzMR"
    },
    {
      "cell_type": "code",
      "source": [
        "from google.colab import files\n",
        "upload = files.upload()\n",
        "\n",
        "# A list of sentences separated by newline characters\n",
        "with open('shakespeare.txt') as f:\n",
        "    corpus = [line.rstrip('\\n') for line in f]"
      ],
      "metadata": {
        "colab": {
          "base_uri": "https://localhost:8080/",
          "height": 73
        },
        "id": "7forZbhfheSq",
        "outputId": "07ef84a1-ceda-4c49-ee3d-582ddc5051c8"
      },
      "id": "7forZbhfheSq",
      "execution_count": 1,
      "outputs": [
        {
          "output_type": "display_data",
          "data": {
            "text/plain": [
              "<IPython.core.display.HTML object>"
            ],
            "text/html": [
              "\n",
              "     <input type=\"file\" id=\"files-c37f73f5-a621-42e0-b269-d6a63e2ceacc\" name=\"files[]\" multiple disabled\n",
              "        style=\"border:none\" />\n",
              "     <output id=\"result-c37f73f5-a621-42e0-b269-d6a63e2ceacc\">\n",
              "      Upload widget is only available when the cell has been executed in the\n",
              "      current browser session. Please rerun this cell to enable.\n",
              "      </output>\n",
              "      <script>// Copyright 2017 Google LLC\n",
              "//\n",
              "// Licensed under the Apache License, Version 2.0 (the \"License\");\n",
              "// you may not use this file except in compliance with the License.\n",
              "// You may obtain a copy of the License at\n",
              "//\n",
              "//      http://www.apache.org/licenses/LICENSE-2.0\n",
              "//\n",
              "// Unless required by applicable law or agreed to in writing, software\n",
              "// distributed under the License is distributed on an \"AS IS\" BASIS,\n",
              "// WITHOUT WARRANTIES OR CONDITIONS OF ANY KIND, either express or implied.\n",
              "// See the License for the specific language governing permissions and\n",
              "// limitations under the License.\n",
              "\n",
              "/**\n",
              " * @fileoverview Helpers for google.colab Python module.\n",
              " */\n",
              "(function(scope) {\n",
              "function span(text, styleAttributes = {}) {\n",
              "  const element = document.createElement('span');\n",
              "  element.textContent = text;\n",
              "  for (const key of Object.keys(styleAttributes)) {\n",
              "    element.style[key] = styleAttributes[key];\n",
              "  }\n",
              "  return element;\n",
              "}\n",
              "\n",
              "// Max number of bytes which will be uploaded at a time.\n",
              "const MAX_PAYLOAD_SIZE = 100 * 1024;\n",
              "\n",
              "function _uploadFiles(inputId, outputId) {\n",
              "  const steps = uploadFilesStep(inputId, outputId);\n",
              "  const outputElement = document.getElementById(outputId);\n",
              "  // Cache steps on the outputElement to make it available for the next call\n",
              "  // to uploadFilesContinue from Python.\n",
              "  outputElement.steps = steps;\n",
              "\n",
              "  return _uploadFilesContinue(outputId);\n",
              "}\n",
              "\n",
              "// This is roughly an async generator (not supported in the browser yet),\n",
              "// where there are multiple asynchronous steps and the Python side is going\n",
              "// to poll for completion of each step.\n",
              "// This uses a Promise to block the python side on completion of each step,\n",
              "// then passes the result of the previous step as the input to the next step.\n",
              "function _uploadFilesContinue(outputId) {\n",
              "  const outputElement = document.getElementById(outputId);\n",
              "  const steps = outputElement.steps;\n",
              "\n",
              "  const next = steps.next(outputElement.lastPromiseValue);\n",
              "  return Promise.resolve(next.value.promise).then((value) => {\n",
              "    // Cache the last promise value to make it available to the next\n",
              "    // step of the generator.\n",
              "    outputElement.lastPromiseValue = value;\n",
              "    return next.value.response;\n",
              "  });\n",
              "}\n",
              "\n",
              "/**\n",
              " * Generator function which is called between each async step of the upload\n",
              " * process.\n",
              " * @param {string} inputId Element ID of the input file picker element.\n",
              " * @param {string} outputId Element ID of the output display.\n",
              " * @return {!Iterable<!Object>} Iterable of next steps.\n",
              " */\n",
              "function* uploadFilesStep(inputId, outputId) {\n",
              "  const inputElement = document.getElementById(inputId);\n",
              "  inputElement.disabled = false;\n",
              "\n",
              "  const outputElement = document.getElementById(outputId);\n",
              "  outputElement.innerHTML = '';\n",
              "\n",
              "  const pickedPromise = new Promise((resolve) => {\n",
              "    inputElement.addEventListener('change', (e) => {\n",
              "      resolve(e.target.files);\n",
              "    });\n",
              "  });\n",
              "\n",
              "  const cancel = document.createElement('button');\n",
              "  inputElement.parentElement.appendChild(cancel);\n",
              "  cancel.textContent = 'Cancel upload';\n",
              "  const cancelPromise = new Promise((resolve) => {\n",
              "    cancel.onclick = () => {\n",
              "      resolve(null);\n",
              "    };\n",
              "  });\n",
              "\n",
              "  // Wait for the user to pick the files.\n",
              "  const files = yield {\n",
              "    promise: Promise.race([pickedPromise, cancelPromise]),\n",
              "    response: {\n",
              "      action: 'starting',\n",
              "    }\n",
              "  };\n",
              "\n",
              "  cancel.remove();\n",
              "\n",
              "  // Disable the input element since further picks are not allowed.\n",
              "  inputElement.disabled = true;\n",
              "\n",
              "  if (!files) {\n",
              "    return {\n",
              "      response: {\n",
              "        action: 'complete',\n",
              "      }\n",
              "    };\n",
              "  }\n",
              "\n",
              "  for (const file of files) {\n",
              "    const li = document.createElement('li');\n",
              "    li.append(span(file.name, {fontWeight: 'bold'}));\n",
              "    li.append(span(\n",
              "        `(${file.type || 'n/a'}) - ${file.size} bytes, ` +\n",
              "        `last modified: ${\n",
              "            file.lastModifiedDate ? file.lastModifiedDate.toLocaleDateString() :\n",
              "                                    'n/a'} - `));\n",
              "    const percent = span('0% done');\n",
              "    li.appendChild(percent);\n",
              "\n",
              "    outputElement.appendChild(li);\n",
              "\n",
              "    const fileDataPromise = new Promise((resolve) => {\n",
              "      const reader = new FileReader();\n",
              "      reader.onload = (e) => {\n",
              "        resolve(e.target.result);\n",
              "      };\n",
              "      reader.readAsArrayBuffer(file);\n",
              "    });\n",
              "    // Wait for the data to be ready.\n",
              "    let fileData = yield {\n",
              "      promise: fileDataPromise,\n",
              "      response: {\n",
              "        action: 'continue',\n",
              "      }\n",
              "    };\n",
              "\n",
              "    // Use a chunked sending to avoid message size limits. See b/62115660.\n",
              "    let position = 0;\n",
              "    do {\n",
              "      const length = Math.min(fileData.byteLength - position, MAX_PAYLOAD_SIZE);\n",
              "      const chunk = new Uint8Array(fileData, position, length);\n",
              "      position += length;\n",
              "\n",
              "      const base64 = btoa(String.fromCharCode.apply(null, chunk));\n",
              "      yield {\n",
              "        response: {\n",
              "          action: 'append',\n",
              "          file: file.name,\n",
              "          data: base64,\n",
              "        },\n",
              "      };\n",
              "\n",
              "      let percentDone = fileData.byteLength === 0 ?\n",
              "          100 :\n",
              "          Math.round((position / fileData.byteLength) * 100);\n",
              "      percent.textContent = `${percentDone}% done`;\n",
              "\n",
              "    } while (position < fileData.byteLength);\n",
              "  }\n",
              "\n",
              "  // All done.\n",
              "  yield {\n",
              "    response: {\n",
              "      action: 'complete',\n",
              "    }\n",
              "  };\n",
              "}\n",
              "\n",
              "scope.google = scope.google || {};\n",
              "scope.google.colab = scope.google.colab || {};\n",
              "scope.google.colab._files = {\n",
              "  _uploadFiles,\n",
              "  _uploadFilesContinue,\n",
              "};\n",
              "})(self);\n",
              "</script> "
            ]
          },
          "metadata": {}
        },
        {
          "output_type": "stream",
          "name": "stdout",
          "text": [
            "Saving shakespeare.txt to shakespeare.txt\n"
          ]
        }
      ]
    },
    {
      "cell_type": "markdown",
      "source": [
        "Preprocess the text.\n",
        "\n",
        "1. Tokenization\n",
        "2. Remove punctuation\n",
        "   - punctuation is unimportant in training.\n",
        "3. Converting text to lowercase\n",
        "4. Handle special characters (ex. emoji)\n"
      ],
      "metadata": {
        "id": "njAwq2nluWO0"
      },
      "id": "njAwq2nluWO0"
    },
    {
      "cell_type": "code",
      "source": [
        "import tensorflow as tf\n",
        "from tensorflow.keras.preprocessing.text import Tokenizer\n",
        "from tensorflow.keras.preprocessing.sequence import pad_sequences\n",
        "\n",
        "# Tokenize and create vocabulary\n",
        "tokenizer = Tokenizer()\n",
        "tokenizer.fit_on_texts(corpus)\n",
        "word_index = tokenizer.word_index\n",
        "vocab_size = len(word_index) + 1"
      ],
      "metadata": {
        "id": "RLIb5NhKuX1n"
      },
      "id": "RLIb5NhKuX1n",
      "execution_count": 2,
      "outputs": []
    },
    {
      "cell_type": "code",
      "source": [
        "word_index_example = dict(list(word_index.items())[0: 5])\n",
        "print(word_index_example)"
      ],
      "metadata": {
        "colab": {
          "base_uri": "https://localhost:8080/"
        },
        "id": "eoIPDcmUwmSW",
        "outputId": "76178362-7116-4dd6-b999-06a46be425a8"
      },
      "id": "eoIPDcmUwmSW",
      "execution_count": 3,
      "outputs": [
        {
          "output_type": "stream",
          "name": "stdout",
          "text": [
            "{'the': 1, 'and': 2, 'to': 3, 'i': 4, 'of': 5}\n"
          ]
        }
      ]
    },
    {
      "cell_type": "markdown",
      "source": [
        "<a name='3'></a>\n",
        "## Prepare training data\n",
        "\n",
        "Now, generate the training data. X_train is the arrays of tokenized context words in the sentence, and y_train is the target words.\n",
        "\n",
        "Two things are happening here:\n",
        "1. building the context window\n",
        "2. creating context-target (input-output) pairs"
      ],
      "metadata": {
        "id": "d_NtKvQpyl3b"
      },
      "id": "d_NtKvQpyl3b"
    },
    {
      "cell_type": "code",
      "source": [
        "import numpy as np\n",
        "\n",
        "context_window = 2\n",
        "\n",
        "def generate_data(corpus, context_window, tokenizer):\n",
        "    sequences = tokenizer.texts_to_sequences(corpus)\n",
        "    X, y = [], []\n",
        "    for sequence in sequences:\n",
        "        for i in range(context_window, len(sequence) - context_window):\n",
        "            context = sequence[i - context_window : i] + sequence[i + 1 : i + context_window + 1]\n",
        "            target = sequence[i]\n",
        "            X.append(context)\n",
        "            y.append(target)\n",
        "    return np.array(X), np.array(y)\n",
        "\n",
        "X_train, y_train = generate_data(corpus, context_window, tokenizer)"
      ],
      "metadata": {
        "id": "iEqX8BlWuw5f"
      },
      "id": "iEqX8BlWuw5f",
      "execution_count": 4,
      "outputs": []
    },
    {
      "cell_type": "markdown",
      "metadata": {
        "id": "IovKsRBRIxuH"
      },
      "source": [
        "<a name='4'></a>\n",
        "## Training the Model\n",
        "\n",
        "### Initializing the model\n",
        "1. Embedding layer enables us to convert each word into a fixed length vector of defined size. The fixed length of word vectors helps us to represent words in a better way along with reduced dimensions. It's more efficient than one-hot encoding since this will take up much less space.\n",
        "\n",
        "2. GlobalAveragePooling1D layer averages out the embedding to get the context of the context words.\n",
        "\n",
        "3. Finally, a Dense layer with softmax activation function is used to output the result."
      ],
      "id": "IovKsRBRIxuH"
    },
    {
      "cell_type": "code",
      "source": [
        "# A higher dimension gives a more complex relationship between words,\n",
        "# but it costs more resources and comes at a diminishing result after 300\n",
        "embedding_dim = 100\n",
        "\n",
        "model = tf.keras.Sequential([\n",
        "    tf.keras.layers.Embedding(input_dim=vocab_size, output_dim=embedding_dim,\n",
        "                              input_length=context_window*2),\n",
        "    tf.keras.layers.GlobalAveragePooling1D(),\n",
        "    tf.keras.layers.Dense(vocab_size, activation='softmax')\n",
        "])\n",
        "\n",
        "model.compile(loss='sparse_categorical_crossentropy', optimizer='adam')"
      ],
      "metadata": {
        "id": "gI0XbfhqzE4m"
      },
      "id": "gI0XbfhqzE4m",
      "execution_count": 15,
      "outputs": []
    },
    {
      "cell_type": "markdown",
      "source": [
        "Use checkpoints to save in between epochs."
      ],
      "metadata": {
        "id": "78sCLJS93o79"
      },
      "id": "78sCLJS93o79"
    },
    {
      "cell_type": "code",
      "source": [
        "from tensorflow.keras.callbacks import ModelCheckpoint\n",
        "\n",
        "fname = 'weights-{epoch:03d}-{loss:.4f}.hdf5'\n",
        "\n",
        "checkpoint = ModelCheckpoint(fname, monitor=\"loss\", mode=\"min\",\n",
        "\tsave_best_only=True, verbose=0)\n",
        "\n",
        "history = model.fit(X_train, y_train,\tbatch_size=16, epochs=200,\n",
        "              callbacks=checkpoint, verbose=1)\n"
      ],
      "metadata": {
        "id": "aWsboVuKMrNQ"
      },
      "id": "aWsboVuKMrNQ",
      "execution_count": null,
      "outputs": []
    },
    {
      "cell_type": "markdown",
      "source": [
        "Display some result. This result is achieved after 500+ epoches."
      ],
      "metadata": {
        "id": "-nypoR5z3vIn"
      },
      "id": "-nypoR5z3vIn"
    },
    {
      "cell_type": "code",
      "source": [
        "import matplotlib.pyplot as plt\n",
        "\n",
        "plt.plot(history.history['loss'])\n",
        "plt.title('model loss')\n",
        "plt.ylabel('loss')\n",
        "plt.xlabel('epoch')\n",
        "plt.legend(['train'], loc='upper left')\n",
        "plt.show()"
      ],
      "metadata": {
        "colab": {
          "base_uri": "https://localhost:8080/",
          "height": 472
        },
        "id": "KCUTQMNPU76-",
        "outputId": "b74c5125-0a4d-4f9f-8945-7e1b8f89e6a8"
      },
      "id": "KCUTQMNPU76-",
      "execution_count": 18,
      "outputs": [
        {
          "output_type": "display_data",
          "data": {
            "text/plain": [
              "<Figure size 640x480 with 1 Axes>"
            ],
            "image/png": "[encoded data removed]"
          },
          "metadata": {}
        }
      ]
    },
    {
      "cell_type": "markdown",
      "metadata": {
        "id": "RApvgVieIxuR"
      },
      "source": [
        "<a name='5'></a>\n",
        "## Visualizing the word vectors\n",
        "\n",
        "I will choose some words to check their relationships with each other."
      ],
      "id": "RApvgVieIxuR"
    },
    {
      "cell_type": "code",
      "source": [
        "\n",
        "dictlist = []\n",
        "\n",
        "words_to_check = ['lord', 'he', 'she', 'they', 'you', 'sir', 'i',\n",
        "                  'man', 'king', 'queen', 'wolf']\n",
        "\n",
        "for key, value in tokenizer.word_index.items():\n",
        "    temp = (key,value)\n",
        "    if key in words_to_check:\n",
        "      dictlist.append(temp)\n",
        "\n",
        "dictlist"
      ],
      "metadata": {
        "colab": {
          "base_uri": "https://localhost:8080/"
        },
        "id": "3oEFt74quKnV",
        "outputId": "d3d07007-d02c-4179-e054-05e0a856039c"
      },
      "id": "3oEFt74quKnV",
      "execution_count": 130,
      "outputs": [
        {
          "output_type": "execute_result",
          "data": {
            "text/plain": [
              "[('i', 4),\n",
              " ('you', 10),\n",
              " ('he', 25),\n",
              " ('lord', 36),\n",
              " ('king', 52),\n",
              " ('she', 53),\n",
              " ('they', 54),\n",
              " ('sir', 71),\n",
              " ('man', 123),\n",
              " ('queen', 333),\n",
              " ('wolf', 4062)]"
            ]
          },
          "metadata": {},
          "execution_count": 130
        }
      ]
    },
    {
      "cell_type": "markdown",
      "source": [
        "Use Principal Component Analysis (PCA) method to reduce the embedding dimensions to 2-D for the ease of interpretation."
      ],
      "metadata": {
        "id": "dLlrs1Ii4U2_"
      },
      "id": "dLlrs1Ii4U2_"
    },
    {
      "cell_type": "code",
      "source": [
        "import matplotlib.pyplot as plt\n",
        "from sklearn.decomposition import PCA\n",
        "\n",
        "# Get the word embeddings\n",
        "embeddings = model.get_weights()[0]\n",
        "\n",
        "# Perform PCA to reduce the dimensionality of the embeddings\n",
        "pca = PCA(n_components=2)\n",
        "reduced_embeddings = pca.fit_transform(embeddings)\n",
        "\n",
        "# Visualize the embeddings\n",
        "plt.figure(figsize=(5, 5))\n",
        "\n",
        "for word, index in dictlist:\n",
        "    x, y = reduced_embeddings[index]\n",
        "    plt.scatter(x, y)\n",
        "    plt.annotate(word, xy=(x, y), xytext=(5, 2),\n",
        "                 textcoords='offset points',\n",
        "                 ha='right', va='bottom')\n",
        "plt.show()"
      ],
      "metadata": {
        "colab": {
          "base_uri": "https://localhost:8080/",
          "height": 445
        },
        "id": "Vhx9MMGnFZq1",
        "outputId": "e84947df-fe35-4fd7-9fec-e4afff7487ae"
      },
      "id": "Vhx9MMGnFZq1",
      "execution_count": 131,
      "outputs": [
        {
          "output_type": "display_data",
          "data": {
            "text/plain": [
              "<Figure size 500x500 with 1 Axes>"
            ],
            "image/png": "[encoded data removed]"
          },
          "metadata": {}
        }
      ]
    },
    {
      "cell_type": "markdown",
      "metadata": {
        "id": "j4dibuSaIxuS"
      },
      "source": [
        "We can extract some information from the result above.\n",
        "\n",
        "1. 'man' and 'king' are close.\n",
        "2. Pronouns (ex. i, he, she...) are clustered at the left-bottom corner.\n",
        "3. 'wolf' is by itself at the left-top corner\n",
        "4. 'queen' is by itself at the right-top corner\n",
        "\n",
        "We have to be careful that this result is simplified by PCA."
      ],
      "id": "j4dibuSaIxuS"
    },
    {
      "cell_type": "markdown",
      "source": [
        "<a name='6'></a>\n",
        "## Discussion\n",
        "\n",
        "There are a few challenges associated with CBOW, as explained here (https://spotintelligence.com/2023/07/27/continuous-bag-of-words/#How_can_you_overcoming_challenges_and_limitations_associated_with_the_CBOW_model):\n",
        "\n",
        "1. Handling Out-of-Vocabulary (OOV) Words\n",
        "   - Subword embedding, where the unknown word is split into pieces for inference, can be used.\n",
        "2. Polysemy and Homonymy\n",
        "   - CBOW treats each word as a single entity with a single meaning. More context-sensitive word embedding models like BERT are developed.\n",
        "3. Data Sparsity\n",
        "   - Obtaining high-quality word embeddings with CBOW can be challenging with limited resources. To mitigate data sparsity, researchers may resort to transfer learning, fine-tuning pre-trained embeddings from larger corpora on their specific dataset or domain.\n",
        "4. Context Window Size Selection\n",
        "   - A small window may not provide sufficient context information, while a large window may introduce noise and dilute the relevant information. The optimal context window size often depends on the specific NLP task and the dataset’s characteristics. Experimentation and hyperparameter tuning are essential.\n",
        "5. Scalability\n",
        "    - CBOW can be computationally intensive, especially for large vocabularies and datasets. Training a CBOW model on massive text corpora may require significant computational resources and time. To overcome this challenge, researchers may consider using word2vec libraries like Gensim, which efficiently implement CBOW and other word embedding techniques that can leverage multi-core processors and distributed computing."
      ],
      "metadata": {
        "id": "qGY9hFJ9-0qC"
      },
      "id": "qGY9hFJ9-0qC"
    }
  ],
  "metadata": {
    "kernelspec": {
      "display_name": "Python 3",
      "name": "python3"
    },
    "language_info": {
      "codemirror_mode": {
        "name": "ipython",
        "version": 3
      },
      "file_extension": ".py",
      "mimetype": "text/x-python",
      "name": "python",
      "nbconvert_exporter": "python",
      "pygments_lexer": "ipython3",
      "version": "3.7.6"
    },
    "colab": {
      "provenance": [],
      "gpuType": "T4"
    },
    "accelerator": "GPU"
  },
  "nbformat": 4,
  "nbformat_minor": 5
}