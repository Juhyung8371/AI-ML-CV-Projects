{
  "nbformat": 4,
  "nbformat_minor": 0,
  "metadata": {
    "kernelspec": {
      "display_name": "Python 3",
      "language": "python",
      "name": "python3"
    },
    "language_info": {
      "codemirror_mode": {
        "name": "ipython",
        "version": 3
      },
      "file_extension": ".py",
      "mimetype": "text/x-python",
      "name": "python",
      "nbconvert_exporter": "python",
      "pygments_lexer": "ipython3",
      "version": "3.8.3"
    },
    "nav_menu": {},
    "toc": {
      "navigate_menu": true,
      "number_sections": true,
      "sideBar": true,
      "threshold": 6,
      "toc_cell": false,
      "toc_section_display": "block",
      "toc_window_display": false
    },
    "colab": {
      "provenance": [],
      "collapsed_sections": [
        "wYRaIawfz_l0",
        "P1KYNdEIz_l_",
        "psvyLl4EXwlp",
        "9gPdPAa7Fvmr",
        "9oia_Cnimv5i"
      ]
    }
  },
  "cells": [
    {
      "cell_type": "markdown",
      "metadata": {
        "id": "lbOytv4mz_lx"
      },
      "source": [
        "# Project - Titanic\n",
        "\n",
        "The goal of this project is to predict the survivors of titanic using the given passenger information. The following is the structure of this project:\n",
        "\n",
        "1. Gather data\n",
        "2. Data preprocessing\n",
        "  - Fill missing data\n",
        "  - Feature engineering\n",
        "3. Choosing models\n",
        "4. Hyperparamter tuning\n",
        "5. Ensemble learning\n",
        "6. Result and discussion"
      ]
    },
    {
      "cell_type": "markdown",
      "metadata": {
        "id": "wYRaIawfz_l0"
      },
      "source": [
        "## Downloaded the data (train.csv and test.csv files) from the [Kaggle Titanic challenge](https://www.kaggle.com/c/titanic)\n"
      ]
    },
    {
      "cell_type": "markdown",
      "metadata": {
        "id": "6ucl-YDyF9yu"
      },
      "source": [
        "Upload the dataset. Move them to the `datasets/titanic` directory."
      ]
    },
    {
      "cell_type": "code",
      "metadata": {
        "id": "a5Eb5SNhz_l6",
        "colab": {
          "base_uri": "https://localhost:8080/",
          "height": 128
        },
        "outputId": "ef24fe4b-b179-4db6-90dd-cae77c80d515"
      },
      "source": [
        "from google.colab import files\n",
        "import pandas as pd\n",
        "import io\n",
        "import os\n",
        "\n",
        "train_data_dict = files.upload() #uploads as a disctionary and creates a file\n",
        "os.remove('train.csv') #remove the file created during upload that is in the root folder\n",
        "train_data = pd.read_csv(io.StringIO(train_data_dict['train.csv'].decode('utf-8')),sep=',') #get the data from the dictionary to the dataframe\n",
        "\n",
        "test_data_dict = files.upload() #uploads as a disctionary and creates a file\n",
        "os.remove('test.csv') #remove the file created during upload that is in the root folder\n",
        "test_data = pd.read_csv(io.StringIO(test_data_dict['test.csv'].decode('utf-8')),sep=',') #get the data from the dictionary to the dataframe\n",
        "\n",
        "titanic_dir_path = os.path.join(\"datasets\", \"titanic\")\n",
        "os.makedirs(titanic_dir_path, exist_ok=True) #create the folder\n",
        "train_csv_path = os.path.join(titanic_dir_path, \"train.csv\") #create the path for the csv file\n",
        "test_csv_path = os.path.join(titanic_dir_path, \"test.csv\") #create the path for the csv file\n",
        "\n",
        "train_data.to_csv(train_csv_path, index=False) #save the data to csv file\n",
        "test_data.to_csv(test_csv_path, index=False) #save the data to csv file"
      ],
      "execution_count": null,
      "outputs": [
        {
          "output_type": "display_data",
          "data": {
            "text/plain": [
              "<IPython.core.display.HTML object>"
            ],
            "text/html": [
              "\n",
              "     <input type=\"file\" id=\"files-f6e0a62f-f8cd-4169-a92f-2b89e8ce72e5\" name=\"files[]\" multiple disabled\n",
              "        style=\"border:none\" />\n",
              "     <output id=\"result-f6e0a62f-f8cd-4169-a92f-2b89e8ce72e5\">\n",
              "      Upload widget is only available when the cell has been executed in the\n",
              "      current browser session. Please rerun this cell to enable.\n",
              "      </output>\n",
              "      <script>// Copyright 2017 Google LLC\n",
              "//\n",
              "// Licensed under the Apache License, Version 2.0 (the \"License\");\n",
              "// you may not use this file except in compliance with the License.\n",
              "// You may obtain a copy of the License at\n",
              "//\n",
              "//      http://www.apache.org/licenses/LICENSE-2.0\n",
              "//\n",
              "// Unless required by applicable law or agreed to in writing, software\n",
              "// distributed under the License is distributed on an \"AS IS\" BASIS,\n",
              "// WITHOUT WARRANTIES OR CONDITIONS OF ANY KIND, either express or implied.\n",
              "// See the License for the specific language governing permissions and\n",
              "// limitations under the License.\n",
              "\n",
              "/**\n",
              " * @fileoverview Helpers for google.colab Python module.\n",
              " */\n",
              "(function(scope) {\n",
              "function span(text, styleAttributes = {}) {\n",
              "  const element = document.createElement('span');\n",
              "  element.textContent = text;\n",
              "  for (const key of Object.keys(styleAttributes)) {\n",
              "    element.style[key] = styleAttributes[key];\n",
              "  }\n",
              "  return element;\n",
              "}\n",
              "\n",
              "// Max number of bytes which will be uploaded at a time.\n",
              "const MAX_PAYLOAD_SIZE = 100 * 1024;\n",
              "\n",
              "function _uploadFiles(inputId, outputId) {\n",
              "  const steps = uploadFilesStep(inputId, outputId);\n",
              "  const outputElement = document.getElementById(outputId);\n",
              "  // Cache steps on the outputElement to make it available for the next call\n",
              "  // to uploadFilesContinue from Python.\n",
              "  outputElement.steps = steps;\n",
              "\n",
              "  return _uploadFilesContinue(outputId);\n",
              "}\n",
              "\n",
              "// This is roughly an async generator (not supported in the browser yet),\n",
              "// where there are multiple asynchronous steps and the Python side is going\n",
              "// to poll for completion of each step.\n",
              "// This uses a Promise to block the python side on completion of each step,\n",
              "// then passes the result of the previous step as the input to the next step.\n",
              "function _uploadFilesContinue(outputId) {\n",
              "  const outputElement = document.getElementById(outputId);\n",
              "  const steps = outputElement.steps;\n",
              "\n",
              "  const next = steps.next(outputElement.lastPromiseValue);\n",
              "  return Promise.resolve(next.value.promise).then((value) => {\n",
              "    // Cache the last promise value to make it available to the next\n",
              "    // step of the generator.\n",
              "    outputElement.lastPromiseValue = value;\n",
              "    return next.value.response;\n",
              "  });\n",
              "}\n",
              "\n",
              "/**\n",
              " * Generator function which is called between each async step of the upload\n",
              " * process.\n",
              " * @param {string} inputId Element ID of the input file picker element.\n",
              " * @param {string} outputId Element ID of the output display.\n",
              " * @return {!Iterable<!Object>} Iterable of next steps.\n",
              " */\n",
              "function* uploadFilesStep(inputId, outputId) {\n",
              "  const inputElement = document.getElementById(inputId);\n",
              "  inputElement.disabled = false;\n",
              "\n",
              "  const outputElement = document.getElementById(outputId);\n",
              "  outputElement.innerHTML = '';\n",
              "\n",
              "  const pickedPromise = new Promise((resolve) => {\n",
              "    inputElement.addEventListener('change', (e) => {\n",
              "      resolve(e.target.files);\n",
              "    });\n",
              "  });\n",
              "\n",
              "  const cancel = document.createElement('button');\n",
              "  inputElement.parentElement.appendChild(cancel);\n",
              "  cancel.textContent = 'Cancel upload';\n",
              "  const cancelPromise = new Promise((resolve) => {\n",
              "    cancel.onclick = () => {\n",
              "      resolve(null);\n",
              "    };\n",
              "  });\n",
              "\n",
              "  // Wait for the user to pick the files.\n",
              "  const files = yield {\n",
              "    promise: Promise.race([pickedPromise, cancelPromise]),\n",
              "    response: {\n",
              "      action: 'starting',\n",
              "    }\n",
              "  };\n",
              "\n",
              "  cancel.remove();\n",
              "\n",
              "  // Disable the input element since further picks are not allowed.\n",
              "  inputElement.disabled = true;\n",
              "\n",
              "  if (!files) {\n",
              "    return {\n",
              "      response: {\n",
              "        action: 'complete',\n",
              "      }\n",
              "    };\n",
              "  }\n",
              "\n",
              "  for (const file of files) {\n",
              "    const li = document.createElement('li');\n",
              "    li.append(span(file.name, {fontWeight: 'bold'}));\n",
              "    li.append(span(\n",
              "        `(${file.type || 'n/a'}) - ${file.size} bytes, ` +\n",
              "        `last modified: ${\n",
              "            file.lastModifiedDate ? file.lastModifiedDate.toLocaleDateString() :\n",
              "                                    'n/a'} - `));\n",
              "    const percent = span('0% done');\n",
              "    li.appendChild(percent);\n",
              "\n",
              "    outputElement.appendChild(li);\n",
              "\n",
              "    const fileDataPromise = new Promise((resolve) => {\n",
              "      const reader = new FileReader();\n",
              "      reader.onload = (e) => {\n",
              "        resolve(e.target.result);\n",
              "      };\n",
              "      reader.readAsArrayBuffer(file);\n",
              "    });\n",
              "    // Wait for the data to be ready.\n",
              "    let fileData = yield {\n",
              "      promise: fileDataPromise,\n",
              "      response: {\n",
              "        action: 'continue',\n",
              "      }\n",
              "    };\n",
              "\n",
              "    // Use a chunked sending to avoid message size limits. See b/62115660.\n",
              "    let position = 0;\n",
              "    do {\n",
              "      const length = Math.min(fileData.byteLength - position, MAX_PAYLOAD_SIZE);\n",
              "      const chunk = new Uint8Array(fileData, position, length);\n",
              "      position += length;\n",
              "\n",
              "      const base64 = btoa(String.fromCharCode.apply(null, chunk));\n",
              "      yield {\n",
              "        response: {\n",
              "          action: 'append',\n",
              "          file: file.name,\n",
              "          data: base64,\n",
              "        },\n",
              "      };\n",
              "\n",
              "      let percentDone = fileData.byteLength === 0 ?\n",
              "          100 :\n",
              "          Math.round((position / fileData.byteLength) * 100);\n",
              "      percent.textContent = `${percentDone}% done`;\n",
              "\n",
              "    } while (position < fileData.byteLength);\n",
              "  }\n",
              "\n",
              "  // All done.\n",
              "  yield {\n",
              "    response: {\n",
              "      action: 'complete',\n",
              "    }\n",
              "  };\n",
              "}\n",
              "\n",
              "scope.google = scope.google || {};\n",
              "scope.google.colab = scope.google.colab || {};\n",
              "scope.google.colab._files = {\n",
              "  _uploadFiles,\n",
              "  _uploadFilesContinue,\n",
              "};\n",
              "})(self);\n",
              "</script> "
            ]
          },
          "metadata": {}
        },
        {
          "output_type": "stream",
          "name": "stdout",
          "text": [
            "Saving train.csv to train.csv\n"
          ]
        },
        {
          "output_type": "display_data",
          "data": {
            "text/plain": [
              "<IPython.core.display.HTML object>"
            ],
            "text/html": [
              "\n",
              "     <input type=\"file\" id=\"files-74bcd0ec-f7de-480c-9c66-1619bb4c751f\" name=\"files[]\" multiple disabled\n",
              "        style=\"border:none\" />\n",
              "     <output id=\"result-74bcd0ec-f7de-480c-9c66-1619bb4c751f\">\n",
              "      Upload widget is only available when the cell has been executed in the\n",
              "      current browser session. Please rerun this cell to enable.\n",
              "      </output>\n",
              "      <script>// Copyright 2017 Google LLC\n",
              "//\n",
              "// Licensed under the Apache License, Version 2.0 (the \"License\");\n",
              "// you may not use this file except in compliance with the License.\n",
              "// You may obtain a copy of the License at\n",
              "//\n",
              "//      http://www.apache.org/licenses/LICENSE-2.0\n",
              "//\n",
              "// Unless required by applicable law or agreed to in writing, software\n",
              "// distributed under the License is distributed on an \"AS IS\" BASIS,\n",
              "// WITHOUT WARRANTIES OR CONDITIONS OF ANY KIND, either express or implied.\n",
              "// See the License for the specific language governing permissions and\n",
              "// limitations under the License.\n",
              "\n",
              "/**\n",
              " * @fileoverview Helpers for google.colab Python module.\n",
              " */\n",
              "(function(scope) {\n",
              "function span(text, styleAttributes = {}) {\n",
              "  const element = document.createElement('span');\n",
              "  element.textContent = text;\n",
              "  for (const key of Object.keys(styleAttributes)) {\n",
              "    element.style[key] = styleAttributes[key];\n",
              "  }\n",
              "  return element;\n",
              "}\n",
              "\n",
              "// Max number of bytes which will be uploaded at a time.\n",
              "const MAX_PAYLOAD_SIZE = 100 * 1024;\n",
              "\n",
              "function _uploadFiles(inputId, outputId) {\n",
              "  const steps = uploadFilesStep(inputId, outputId);\n",
              "  const outputElement = document.getElementById(outputId);\n",
              "  // Cache steps on the outputElement to make it available for the next call\n",
              "  // to uploadFilesContinue from Python.\n",
              "  outputElement.steps = steps;\n",
              "\n",
              "  return _uploadFilesContinue(outputId);\n",
              "}\n",
              "\n",
              "// This is roughly an async generator (not supported in the browser yet),\n",
              "// where there are multiple asynchronous steps and the Python side is going\n",
              "// to poll for completion of each step.\n",
              "// This uses a Promise to block the python side on completion of each step,\n",
              "// then passes the result of the previous step as the input to the next step.\n",
              "function _uploadFilesContinue(outputId) {\n",
              "  const outputElement = document.getElementById(outputId);\n",
              "  const steps = outputElement.steps;\n",
              "\n",
              "  const next = steps.next(outputElement.lastPromiseValue);\n",
              "  return Promise.resolve(next.value.promise).then((value) => {\n",
              "    // Cache the last promise value to make it available to the next\n",
              "    // step of the generator.\n",
              "    outputElement.lastPromiseValue = value;\n",
              "    return next.value.response;\n",
              "  });\n",
              "}\n",
              "\n",
              "/**\n",
              " * Generator function which is called between each async step of the upload\n",
              " * process.\n",
              " * @param {string} inputId Element ID of the input file picker element.\n",
              " * @param {string} outputId Element ID of the output display.\n",
              " * @return {!Iterable<!Object>} Iterable of next steps.\n",
              " */\n",
              "function* uploadFilesStep(inputId, outputId) {\n",
              "  const inputElement = document.getElementById(inputId);\n",
              "  inputElement.disabled = false;\n",
              "\n",
              "  const outputElement = document.getElementById(outputId);\n",
              "  outputElement.innerHTML = '';\n",
              "\n",
              "  const pickedPromise = new Promise((resolve) => {\n",
              "    inputElement.addEventListener('change', (e) => {\n",
              "      resolve(e.target.files);\n",
              "    });\n",
              "  });\n",
              "\n",
              "  const cancel = document.createElement('button');\n",
              "  inputElement.parentElement.appendChild(cancel);\n",
              "  cancel.textContent = 'Cancel upload';\n",
              "  const cancelPromise = new Promise((resolve) => {\n",
              "    cancel.onclick = () => {\n",
              "      resolve(null);\n",
              "    };\n",
              "  });\n",
              "\n",
              "  // Wait for the user to pick the files.\n",
              "  const files = yield {\n",
              "    promise: Promise.race([pickedPromise, cancelPromise]),\n",
              "    response: {\n",
              "      action: 'starting',\n",
              "    }\n",
              "  };\n",
              "\n",
              "  cancel.remove();\n",
              "\n",
              "  // Disable the input element since further picks are not allowed.\n",
              "  inputElement.disabled = true;\n",
              "\n",
              "  if (!files) {\n",
              "    return {\n",
              "      response: {\n",
              "        action: 'complete',\n",
              "      }\n",
              "    };\n",
              "  }\n",
              "\n",
              "  for (const file of files) {\n",
              "    const li = document.createElement('li');\n",
              "    li.append(span(file.name, {fontWeight: 'bold'}));\n",
              "    li.append(span(\n",
              "        `(${file.type || 'n/a'}) - ${file.size} bytes, ` +\n",
              "        `last modified: ${\n",
              "            file.lastModifiedDate ? file.lastModifiedDate.toLocaleDateString() :\n",
              "                                    'n/a'} - `));\n",
              "    const percent = span('0% done');\n",
              "    li.appendChild(percent);\n",
              "\n",
              "    outputElement.appendChild(li);\n",
              "\n",
              "    const fileDataPromise = new Promise((resolve) => {\n",
              "      const reader = new FileReader();\n",
              "      reader.onload = (e) => {\n",
              "        resolve(e.target.result);\n",
              "      };\n",
              "      reader.readAsArrayBuffer(file);\n",
              "    });\n",
              "    // Wait for the data to be ready.\n",
              "    let fileData = yield {\n",
              "      promise: fileDataPromise,\n",
              "      response: {\n",
              "        action: 'continue',\n",
              "      }\n",
              "    };\n",
              "\n",
              "    // Use a chunked sending to avoid message size limits. See b/62115660.\n",
              "    let position = 0;\n",
              "    do {\n",
              "      const length = Math.min(fileData.byteLength - position, MAX_PAYLOAD_SIZE);\n",
              "      const chunk = new Uint8Array(fileData, position, length);\n",
              "      position += length;\n",
              "\n",
              "      const base64 = btoa(String.fromCharCode.apply(null, chunk));\n",
              "      yield {\n",
              "        response: {\n",
              "          action: 'append',\n",
              "          file: file.name,\n",
              "          data: base64,\n",
              "        },\n",
              "      };\n",
              "\n",
              "      let percentDone = fileData.byteLength === 0 ?\n",
              "          100 :\n",
              "          Math.round((position / fileData.byteLength) * 100);\n",
              "      percent.textContent = `${percentDone}% done`;\n",
              "\n",
              "    } while (position < fileData.byteLength);\n",
              "  }\n",
              "\n",
              "  // All done.\n",
              "  yield {\n",
              "    response: {\n",
              "      action: 'complete',\n",
              "    }\n",
              "  };\n",
              "}\n",
              "\n",
              "scope.google = scope.google || {};\n",
              "scope.google.colab = scope.google.colab || {};\n",
              "scope.google.colab._files = {\n",
              "  _uploadFiles,\n",
              "  _uploadFilesContinue,\n",
              "};\n",
              "})(self);\n",
              "</script> "
            ]
          },
          "metadata": {}
        },
        {
          "output_type": "stream",
          "name": "stdout",
          "text": [
            "Saving test.csv to test.csv\n"
          ]
        }
      ]
    },
    {
      "cell_type": "code",
      "metadata": {
        "id": "Ipoqlpnxz_l8"
      },
      "source": [
        "import pandas as pd\n",
        "import os\n",
        "\n",
        "titanic_dir_path = os.path.join(\"datasets\", \"titanic\")\n",
        "train_csv_path = os.path.join(titanic_dir_path, \"train.csv\") #create the path for the csv file\n",
        "test_csv_path = os.path.join(titanic_dir_path, \"test.csv\") #create the path for the csv file\n",
        "\n",
        "train_data = pd.read_csv(train_csv_path)\n",
        "test_data = pd.read_csv(test_csv_path)\n"
      ],
      "execution_count": null,
      "outputs": []
    },
    {
      "cell_type": "markdown",
      "metadata": {
        "id": "P1KYNdEIz_l_"
      },
      "source": [
        "## Understanding the dataset"
      ]
    },
    {
      "cell_type": "markdown",
      "metadata": {
        "id": "uPi2qvhJGmN3"
      },
      "source": [
        "### 1. Features:\n",
        "\n",
        "- Survived: that's the target, 0 means the passenger did not survive, while 1 means he/she survived.\n",
        "- Pclass: passenger class.\n",
        "- Name, Sex, Age: self-explanatory\n",
        "- SibSp: how many siblings & spouses of the passenger aboard the Titanic.\n",
        "- Parch: how many children & parents of the passenger aboard the Titanic.\n",
        "- Ticket: ticket id\n",
        "- Fare: price paid (in pounds)\n",
        "- Cabin: passenger's cabin number\n",
        "- Embarked: where the passenger embarked the Titanic\n"
      ]
    },
    {
      "cell_type": "markdown",
      "metadata": {
        "id": "3tqYP2IeR_ro"
      },
      "source": [
        "### 2. Taking a look at info(), we can see:\n",
        "\n",
        "-'Survided' feature is missing in the test data.\n",
        "- Most of the 'Cabin' feature is null\n",
        "- 'Age' feature is missing 177 elements"
      ]
    },
    {
      "cell_type": "code",
      "metadata": {
        "id": "OW6Sa3uwSD28",
        "colab": {
          "base_uri": "https://localhost:8080/"
        },
        "outputId": "a3036860-245e-4801-8959-0a6a56ee389b"
      },
      "source": [
        "train_data.info()"
      ],
      "execution_count": null,
      "outputs": [
        {
          "output_type": "stream",
          "name": "stdout",
          "text": [
            "<class 'pandas.core.frame.DataFrame'>\n",
            "RangeIndex: 891 entries, 0 to 890\n",
            "Data columns (total 12 columns):\n",
            " #   Column       Non-Null Count  Dtype  \n",
            "---  ------       --------------  -----  \n",
            " 0   PassengerId  891 non-null    int64  \n",
            " 1   Survived     891 non-null    int64  \n",
            " 2   Pclass       891 non-null    int64  \n",
            " 3   Name         891 non-null    object \n",
            " 4   Sex          891 non-null    object \n",
            " 5   Age          714 non-null    float64\n",
            " 6   SibSp        891 non-null    int64  \n",
            " 7   Parch        891 non-null    int64  \n",
            " 8   Ticket       891 non-null    object \n",
            " 9   Fare         891 non-null    float64\n",
            " 10  Cabin        204 non-null    object \n",
            " 11  Embarked     889 non-null    object \n",
            "dtypes: float64(2), int64(5), object(5)\n",
            "memory usage: 83.7+ KB\n"
          ]
        }
      ]
    },
    {
      "cell_type": "code",
      "metadata": {
        "id": "W_QQUQ8hSdNk",
        "colab": {
          "base_uri": "https://localhost:8080/"
        },
        "outputId": "c2a399bf-1a54-4a13-85ff-6206a8c8ec18"
      },
      "source": [
        "test_data.info()"
      ],
      "execution_count": null,
      "outputs": [
        {
          "output_type": "stream",
          "name": "stdout",
          "text": [
            "<class 'pandas.core.frame.DataFrame'>\n",
            "RangeIndex: 418 entries, 0 to 417\n",
            "Data columns (total 11 columns):\n",
            " #   Column       Non-Null Count  Dtype  \n",
            "---  ------       --------------  -----  \n",
            " 0   PassengerId  418 non-null    int64  \n",
            " 1   Pclass       418 non-null    int64  \n",
            " 2   Name         418 non-null    object \n",
            " 3   Sex          418 non-null    object \n",
            " 4   Age          332 non-null    float64\n",
            " 5   SibSp        418 non-null    int64  \n",
            " 6   Parch        418 non-null    int64  \n",
            " 7   Ticket       418 non-null    object \n",
            " 8   Fare         417 non-null    float64\n",
            " 9   Cabin        91 non-null     object \n",
            " 10  Embarked     418 non-null    object \n",
            "dtypes: float64(2), int64(4), object(5)\n",
            "memory usage: 36.0+ KB\n"
          ]
        }
      ]
    },
    {
      "cell_type": "markdown",
      "metadata": {
        "id": "Qm-gDdhPnsHV"
      },
      "source": [
        "### 3. Using histogram to check the distribution.\n",
        "\n",
        "Insights:\n",
        "- Age is mostly between 20 and 30\n",
        "- Fare is mostly has low values (less than 20 dollars)\n"
      ]
    },
    {
      "cell_type": "code",
      "metadata": {
        "id": "4KdqGnajhrw3",
        "colab": {
          "base_uri": "https://localhost:8080/",
          "height": 895
        },
        "outputId": "8ca584ec-349b-43b7-a58a-67cea1432e9f"
      },
      "source": [
        "%matplotlib inline\n",
        "import matplotlib.pyplot as plt\n",
        "hist_data = train_data[[\"Survived\", \"Sex\", \"Age\", \"SibSp\", \"Parch\", \"Fare\"]]\n",
        "hist_data.hist(figsize=(20,15))\n",
        "#hist_data.Fare[train_data[\"Fare\"] < 20].hist(bins=20,figsize=(20,15))\n"
      ],
      "execution_count": null,
      "outputs": [
        {
          "output_type": "execute_result",
          "data": {
            "text/plain": [
              "array([[<matplotlib.axes._subplots.AxesSubplot object at 0x7f690f9976d0>,\n",
              "        <matplotlib.axes._subplots.AxesSubplot object at 0x7f690dc8ce10>],\n",
              "       [<matplotlib.axes._subplots.AxesSubplot object at 0x7f690dc51450>,\n",
              "        <matplotlib.axes._subplots.AxesSubplot object at 0x7f690dc07a50>],\n",
              "       [<matplotlib.axes._subplots.AxesSubplot object at 0x7f690dbd05d0>,\n",
              "        <matplotlib.axes._subplots.AxesSubplot object at 0x7f690db8a810>]],\n",
              "      dtype=object)"
            ]
          },
          "metadata": {},
          "execution_count": 15
        },
        {
          "output_type": "display_data",
          "data": {
            "text/plain": [
              "<Figure size 1440x1080 with 6 Axes>"
            ],
            "image/png": "[encoded data removed]"
          },
          "metadata": {
            "needs_background": "light"
          }
        }
      ]
    },
    {
      "cell_type": "markdown",
      "source": [
        "## Data preprocessing\n",
        "\n",
        "1. Fill missing data\n",
        "2. Feature engineering\n"
      ],
      "metadata": {
        "id": "JCSuVIzoRo_x"
      }
    },
    {
      "cell_type": "markdown",
      "metadata": {
        "id": "psvyLl4EXwlp"
      },
      "source": [
        "### Fill missing data\n",
        "\n",
        "Create a new 'all_data' frame by appending test data to train data.\n"
      ]
    },
    {
      "cell_type": "code",
      "metadata": {
        "id": "zHCjFiYIXMe9",
        "colab": {
          "base_uri": "https://localhost:8080/"
        },
        "outputId": "1e1d9425-b38d-4a0e-db58-9c47532d4403"
      },
      "source": [
        "all_data = train_data.append(test_data) # important\n",
        "all_data.info()"
      ],
      "execution_count": null,
      "outputs": [
        {
          "output_type": "stream",
          "name": "stdout",
          "text": [
            "<class 'pandas.core.frame.DataFrame'>\n",
            "Int64Index: 1309 entries, 0 to 417\n",
            "Data columns (total 12 columns):\n",
            " #   Column       Non-Null Count  Dtype  \n",
            "---  ------       --------------  -----  \n",
            " 0   PassengerId  1309 non-null   int64  \n",
            " 1   Survived     891 non-null    float64\n",
            " 2   Pclass       1309 non-null   int64  \n",
            " 3   Name         1309 non-null   object \n",
            " 4   Sex          1309 non-null   object \n",
            " 5   Age          1046 non-null   float64\n",
            " 6   SibSp        1309 non-null   int64  \n",
            " 7   Parch        1309 non-null   int64  \n",
            " 8   Ticket       1309 non-null   object \n",
            " 9   Fare         1308 non-null   float64\n",
            " 10  Cabin        295 non-null    object \n",
            " 11  Embarked     1307 non-null   object \n",
            "dtypes: float64(3), int64(4), object(5)\n",
            "memory usage: 132.9+ KB\n"
          ]
        }
      ]
    },
    {
      "cell_type": "markdown",
      "source": [
        "There are some duplicate indices. Reset them."
      ],
      "metadata": {
        "id": "zuwFl5nJOwAY"
      }
    },
    {
      "cell_type": "code",
      "metadata": {
        "id": "ENSFHdV_C10T",
        "colab": {
          "base_uri": "https://localhost:8080/"
        },
        "outputId": "897474b8-1f17-4bad-8fde-af971fae604c"
      },
      "source": [
        "all_data.index.value_counts()>1  # see that some index values exists more than 1"
      ],
      "execution_count": null,
      "outputs": [
        {
          "output_type": "execute_result",
          "data": {
            "text/plain": [
              "0       True\n",
              "314     True\n",
              "286     True\n",
              "285     True\n",
              "284     True\n",
              "       ...  \n",
              "571    False\n",
              "570    False\n",
              "569    False\n",
              "568    False\n",
              "890    False\n",
              "Length: 891, dtype: bool"
            ]
          },
          "metadata": {},
          "execution_count": 24
        }
      ]
    },
    {
      "cell_type": "code",
      "metadata": {
        "id": "2SLJYzIiBve_"
      },
      "source": [
        "all_data.reset_index(inplace = True, drop = True) # reset the inde inplace and drop the created extra 'index' column"
      ],
      "execution_count": null,
      "outputs": []
    },
    {
      "cell_type": "markdown",
      "source": [
        "These features are missing data. I will fill them up while minimizing bias.\n",
        "\n",
        "- Age\n",
        "- Fare\n",
        "- Cabin\n",
        "- Embarked"
      ],
      "metadata": {
        "id": "d1Vb_JR7PDwQ"
      }
    },
    {
      "cell_type": "code",
      "metadata": {
        "id": "Hr7aqZxqAQp6",
        "colab": {
          "base_uri": "https://localhost:8080/"
        },
        "outputId": "c91285f4-05d0-42c0-d3ef-eae6844d4a0b"
      },
      "source": [
        "all_data.info()"
      ],
      "execution_count": null,
      "outputs": [
        {
          "output_type": "stream",
          "name": "stdout",
          "text": [
            "<class 'pandas.core.frame.DataFrame'>\n",
            "RangeIndex: 1309 entries, 0 to 1308\n",
            "Data columns (total 12 columns):\n",
            " #   Column       Non-Null Count  Dtype  \n",
            "---  ------       --------------  -----  \n",
            " 0   PassengerId  1309 non-null   int64  \n",
            " 1   Survived     891 non-null    float64\n",
            " 2   Pclass       1309 non-null   int64  \n",
            " 3   Name         1309 non-null   object \n",
            " 4   Sex          1309 non-null   object \n",
            " 5   Age          1046 non-null   float64\n",
            " 6   SibSp        1309 non-null   int64  \n",
            " 7   Parch        1309 non-null   int64  \n",
            " 8   Ticket       1309 non-null   object \n",
            " 9   Fare         1308 non-null   float64\n",
            " 10  Cabin        295 non-null    object \n",
            " 11  Embarked     1307 non-null   object \n",
            "dtypes: float64(3), int64(4), object(5)\n",
            "memory usage: 122.8+ KB\n"
          ]
        }
      ]
    },
    {
      "cell_type": "markdown",
      "metadata": {
        "id": "glJEC9N6EhqN"
      },
      "source": [
        "Fill missing values of 'Cabin' field with the 'NA' value."
      ]
    },
    {
      "cell_type": "code",
      "metadata": {
        "id": "HNSrcYFcBL0H"
      },
      "source": [
        "all_data.Cabin = all_data.Cabin.fillna('NA')\n",
        "all_data.Cabin.fillna('NA', inplace=True)"
      ],
      "execution_count": null,
      "outputs": []
    },
    {
      "cell_type": "markdown",
      "metadata": {
        "id": "Qaay5ZK6YPZB"
      },
      "source": [
        "Fill missing values of 'Age' field with the median age of the passenger class and sex.\n"
      ]
    },
    {
      "cell_type": "code",
      "metadata": {
        "id": "vBvugB1KbSKD"
      },
      "source": [
        "# Fill in missing age information based on the median age for its class and sex.\n",
        "all_data['Age'] = all_data.groupby(['Pclass','Sex'])['Age'].apply(lambda x : x.fillna(x.median()))"
      ],
      "execution_count": null,
      "outputs": []
    },
    {
      "cell_type": "markdown",
      "metadata": {
        "id": "_uaurJv6EtY_"
      },
      "source": [
        "Fill missing values of 'Embarked' field with the most frequently seen 'Embarked' value."
      ]
    },
    {
      "cell_type": "code",
      "metadata": {
        "id": "T0hBScBbbpDB"
      },
      "source": [
        "# Fill in missing Embarked based on the most frequent Embarked\n",
        "all_data['Embarked'].fillna(all_data['Embarked'].mode()[0], inplace = True)"
      ],
      "execution_count": null,
      "outputs": []
    },
    {
      "cell_type": "markdown",
      "metadata": {
        "id": "_pLjO1ktaQBn"
      },
      "source": [
        "Fill missing values of 'Fare' field with the median fare of the passenger class and embarked location."
      ]
    },
    {
      "cell_type": "code",
      "metadata": {
        "id": "uetSvIgCcaHQ"
      },
      "source": [
        "# Fill in missing fare based on its class and embarked place\n",
        "all_data['Fare'] = all_data.groupby(['Pclass','Embarked'])['Fare'].apply(lambda x : x.fillna(x.median()))"
      ],
      "execution_count": null,
      "outputs": []
    },
    {
      "cell_type": "code",
      "metadata": {
        "colab": {
          "base_uri": "https://localhost:8080/"
        },
        "id": "cADY-ZOSqAGM",
        "outputId": "ffb2f6c3-8ae7-424b-80f4-95c4389287f8"
      },
      "source": [
        "all_data.info()"
      ],
      "execution_count": null,
      "outputs": [
        {
          "output_type": "stream",
          "name": "stdout",
          "text": [
            "<class 'pandas.core.frame.DataFrame'>\n",
            "RangeIndex: 1309 entries, 0 to 1308\n",
            "Data columns (total 12 columns):\n",
            " #   Column       Non-Null Count  Dtype  \n",
            "---  ------       --------------  -----  \n",
            " 0   PassengerId  1309 non-null   int64  \n",
            " 1   Survived     891 non-null    float64\n",
            " 2   Pclass       1309 non-null   int64  \n",
            " 3   Name         1309 non-null   object \n",
            " 4   Sex          1309 non-null   object \n",
            " 5   Age          1309 non-null   float64\n",
            " 6   SibSp        1309 non-null   int64  \n",
            " 7   Parch        1309 non-null   int64  \n",
            " 8   Ticket       1309 non-null   object \n",
            " 9   Fare         1309 non-null   float64\n",
            " 10  Cabin        1309 non-null   object \n",
            " 11  Embarked     1309 non-null   object \n",
            "dtypes: float64(3), int64(4), object(5)\n",
            "memory usage: 122.8+ KB\n"
          ]
        }
      ]
    },
    {
      "cell_type": "markdown",
      "metadata": {
        "id": "9gPdPAa7Fvmr"
      },
      "source": [
        "### Feature Engineering"
      ]
    },
    {
      "cell_type": "markdown",
      "metadata": {
        "id": "VSAEAZk2ZhtF"
      },
      "source": [
        "Create a new feature 'Family_Size' using `SibSp` and `Parch` features. Include the person too.\n",
        "'"
      ]
    },
    {
      "cell_type": "code",
      "source": [
        "# Create a new feature by adding SibSp, Parch and the person herself.\n",
        "all_data['Family_Size'] = all_data['SibSp'] + all_data['Parch'] + 1\n",
        "\n",
        "all_data['Family_Size'].value_counts().plot(kind='bar')"
      ],
      "metadata": {
        "id": "Y9JtWJi0Qhjt",
        "colab": {
          "base_uri": "https://localhost:8080/",
          "height": 285
        },
        "outputId": "68968ed6-9afb-47d4-fd35-a7a633e0510e"
      },
      "execution_count": null,
      "outputs": [
        {
          "output_type": "execute_result",
          "data": {
            "text/plain": [
              "<matplotlib.axes._subplots.AxesSubplot at 0x7f6917f4bd10>"
            ]
          },
          "metadata": {},
          "execution_count": 35
        },
        {
          "output_type": "display_data",
          "data": {
            "text/plain": [
              "<Figure size 432x288 with 1 Axes>"
            ],
            "image/png": "[encoded data removed]"
          },
          "metadata": {
            "needs_background": "light"
          }
        }
      ]
    },
    {
      "cell_type": "markdown",
      "source": [
        "The bar chart shows that a a family size under 5 has a higher chance of survival."
      ],
      "metadata": {
        "id": "vRanSDBiUf5j"
      }
    },
    {
      "cell_type": "code",
      "source": [
        "all_data[['Family_Size','Survived']].groupby('Family_Size')['Survived'].mean().plot(kind='bar')"
      ],
      "metadata": {
        "id": "vEx20dCJTEn5",
        "colab": {
          "base_uri": "https://localhost:8080/",
          "height": 300
        },
        "outputId": "3b87650b-7818-4dc5-dc25-ee8994fe2c64"
      },
      "execution_count": null,
      "outputs": [
        {
          "output_type": "execute_result",
          "data": {
            "text/plain": [
              "<matplotlib.axes._subplots.AxesSubplot at 0x7f690d351d50>"
            ]
          },
          "metadata": {},
          "execution_count": 36
        },
        {
          "output_type": "display_data",
          "data": {
            "text/plain": [
              "<Figure size 432x288 with 1 Axes>"
            ],
            "image/png": "[encoded data removed]"
          },
          "metadata": {
            "needs_background": "light"
          }
        }
      ]
    },
    {
      "cell_type": "markdown",
      "metadata": {
        "id": "cR1B_JwlG_x6"
      },
      "source": [
        "Create a new feature `Fare_Category` using qcut. It appears that higher fare correlates to higher survival rate."
      ]
    },
    {
      "cell_type": "code",
      "source": [
        "results_categorical = pd.qcut(all_data['Fare'],5)\n",
        "all_data['Fare_Category'] = pd.Series(results_categorical).astype(str)\n",
        "all_data['Fare_Category'].value_counts()"
      ],
      "metadata": {
        "id": "tR72lSZ9S0EP",
        "colab": {
          "base_uri": "https://localhost:8080/"
        },
        "outputId": "a122bdea-5d4f-469e-e82a-d9371d0bf6f1"
      },
      "execution_count": null,
      "outputs": [
        {
          "output_type": "execute_result",
          "data": {
            "text/plain": [
              "(-0.001, 7.854]      275\n",
              "(21.558, 41.579]     265\n",
              "(41.579, 512.329]    259\n",
              "(7.854, 10.5]        255\n",
              "(10.5, 21.558]       255\n",
              "Name: Fare_Category, dtype: int64"
            ]
          },
          "metadata": {},
          "execution_count": 37
        }
      ]
    },
    {
      "cell_type": "code",
      "source": [
        "all_data[['Fare_Category','Survived']].groupby('Fare_Category')['Survived'].mean().plot(kind='bar')"
      ],
      "metadata": {
        "id": "3cgqyMB0Talo",
        "colab": {
          "base_uri": "https://localhost:8080/"
        },
        "outputId": "aecae22f-74d7-474e-d92b-f05aa26679eb"
      },
      "execution_count": null,
      "outputs": [
        {
          "output_type": "execute_result",
          "data": {
            "text/plain": [
              "<matplotlib.axes._subplots.AxesSubplot at 0x7f690d322090>"
            ]
          },
          "metadata": {},
          "execution_count": 39
        },
        {
          "output_type": "display_data",
          "data": {
            "text/plain": [
              "<Figure size 432x288 with 1 Axes>"
            ],
            "image/png": "[encoded data removed]"
          },
          "metadata": {
            "needs_background": "light"
          }
        }
      ]
    },
    {
      "cell_type": "markdown",
      "metadata": {
        "id": "58hnI5BCHo7N"
      },
      "source": [
        "Create a new feature `Age_Category`. It appears that middle age (16-32) and very old age (64+) has the lower survival rate.\n",
        "\n"
      ]
    },
    {
      "cell_type": "code",
      "source": [
        "results_categorical = pd.cut(all_data['Age'].astype(int),5)\n",
        "all_data['Age_Category'] = pd.Series(results_categorical).astype(str)\n",
        "all_data['Age_Category'].value_counts()"
      ],
      "metadata": {
        "id": "GujRZLmBTgXX",
        "colab": {
          "base_uri": "https://localhost:8080/"
        },
        "outputId": "368089e1-5bfd-4331-b92f-ecdc587fa8ea"
      },
      "execution_count": null,
      "outputs": [
        {
          "output_type": "execute_result",
          "data": {
            "text/plain": [
              "(16.0, 32.0]     752\n",
              "(32.0, 48.0]     304\n",
              "(-0.08, 16.0]    134\n",
              "(48.0, 64.0]     106\n",
              "(64.0, 80.0]      13\n",
              "Name: Age_Category, dtype: int64"
            ]
          },
          "metadata": {},
          "execution_count": 40
        }
      ]
    },
    {
      "cell_type": "code",
      "source": [
        "all_data[['Age_Category','Survived']].groupby('Age_Category')['Survived'].mean().plot(kind='bar')"
      ],
      "metadata": {
        "id": "PLImw81JThPm",
        "colab": {
          "base_uri": "https://localhost:8080/",
          "height": 349
        },
        "outputId": "bd2761aa-3bfb-4455-e2ce-24549da64d4e"
      },
      "execution_count": null,
      "outputs": [
        {
          "output_type": "execute_result",
          "data": {
            "text/plain": [
              "<matplotlib.axes._subplots.AxesSubplot at 0x7f690d1eb310>"
            ]
          },
          "metadata": {},
          "execution_count": 41
        },
        {
          "output_type": "display_data",
          "data": {
            "text/plain": [
              "<Figure size 432x288 with 1 Axes>"
            ],
            "image/png": "[encoded data removed]"
          },
          "metadata": {
            "needs_background": "light"
          }
        }
      ]
    },
    {
      "cell_type": "markdown",
      "metadata": {
        "id": "FHDDLP94e5HK"
      },
      "source": [
        "#### Encoders\n",
        "\n",
        "Now, I need to encode object categories to number so the machine learning model can understand them. I will use Label Encoder and One Hot Encoder."
      ]
    },
    {
      "cell_type": "markdown",
      "metadata": {
        "id": "l_qBVUXyZahG"
      },
      "source": [
        "Using LabelEncoder, create the 'Sex_Numeric' based on the values of the 'Sex' attribute."
      ]
    },
    {
      "cell_type": "code",
      "source": [
        "from sklearn.preprocessing import LabelEncoder\n",
        "all_data['Sex_Numeric'] = LabelEncoder().fit_transform(all_data['Sex'])\n",
        "all_data.info()"
      ],
      "metadata": {
        "id": "SHHQDVrUT5V4",
        "colab": {
          "base_uri": "https://localhost:8080/"
        },
        "outputId": "e2a083f0-48c9-43ec-c7d4-93e7eed816ba"
      },
      "execution_count": null,
      "outputs": [
        {
          "output_type": "stream",
          "name": "stdout",
          "text": [
            "<class 'pandas.core.frame.DataFrame'>\n",
            "RangeIndex: 1309 entries, 0 to 1308\n",
            "Data columns (total 16 columns):\n",
            " #   Column         Non-Null Count  Dtype  \n",
            "---  ------         --------------  -----  \n",
            " 0   PassengerId    1309 non-null   int64  \n",
            " 1   Survived       891 non-null    float64\n",
            " 2   Pclass         1309 non-null   int64  \n",
            " 3   Name           1309 non-null   object \n",
            " 4   Sex            1309 non-null   object \n",
            " 5   Age            1309 non-null   float64\n",
            " 6   SibSp          1309 non-null   int64  \n",
            " 7   Parch          1309 non-null   int64  \n",
            " 8   Ticket         1309 non-null   object \n",
            " 9   Fare           1309 non-null   float64\n",
            " 10  Cabin          1309 non-null   object \n",
            " 11  Embarked       1309 non-null   object \n",
            " 12  Family_Size    1309 non-null   int64  \n",
            " 13  Fare_Category  1309 non-null   object \n",
            " 14  Age_Category   1309 non-null   object \n",
            " 15  Sex_Numeric    1309 non-null   int64  \n",
            "dtypes: float64(3), int64(6), object(7)\n",
            "memory usage: 163.8+ KB\n"
          ]
        }
      ]
    },
    {
      "cell_type": "markdown",
      "metadata": {
        "id": "fsq00_8fgoSY"
      },
      "source": [
        "A utiliy function for transforming categorical data to one-hot data:"
      ]
    },
    {
      "cell_type": "code",
      "source": [
        "from sklearn.preprocessing import OneHotEncoder\n",
        "import numpy as np\n",
        "\n",
        "def encode_category_to_numeric(feature,data_frame):\n",
        "  encoded_feat = OneHotEncoder().fit_transform(data_frame[feature].values.reshape(-1,1)).toarray()\n",
        "  #number_unique = data_frame[feature].nunique()\n",
        "  unique_values = data_frame[feature].unique()\n",
        "  sorted_unique_value = np.sort(unique_values)\n",
        "  cols = ['{}_{}'.format(feature,value) for value in sorted_unique_value]\n",
        "  encoded_data = pd.DataFrame(encoded_feat, columns=cols)\n",
        "  return encoded_data"
      ],
      "metadata": {
        "id": "-cwc2sQ0UKGU"
      },
      "execution_count": null,
      "outputs": []
    },
    {
      "cell_type": "markdown",
      "source": [
        "One-hot encode 'Embarked'."
      ],
      "metadata": {
        "id": "LQo2LAEmUzyS"
      }
    },
    {
      "cell_type": "code",
      "source": [
        "encoded_data = encode_category_to_numeric('Embarked',all_data)\n",
        "all_data = pd.concat([all_data, encoded_data], axis=1)\n",
        "encoded_data.info()\n",
        "all_data.info()\n",
        "all_data.head()"
      ],
      "metadata": {
        "id": "h7-I4xMkCHE0"
      },
      "execution_count": null,
      "outputs": []
    },
    {
      "cell_type": "markdown",
      "metadata": {
        "id": "YRb4iOZxOSWN"
      },
      "source": [
        "One-hot encode 'Embarked'. 'Fare_Category'."
      ]
    },
    {
      "cell_type": "code",
      "source": [
        "encoded_data = encode_category_to_numeric('Fare_Category',all_data)\n",
        "all_data = pd.concat([all_data, encoded_data], axis=1)\n",
        "encoded_data.info()\n",
        "all_data.info()\n",
        "all_data.head()"
      ],
      "metadata": {
        "id": "lhVDvWbmVDKx"
      },
      "execution_count": null,
      "outputs": []
    },
    {
      "cell_type": "markdown",
      "metadata": {
        "id": "BommJmQ9Oeqq"
      },
      "source": [
        "One-hot encode 'Age_Category'."
      ]
    },
    {
      "cell_type": "code",
      "source": [
        "encoded_data = encode_category_to_numeric('Age_Category',all_data)\n",
        "all_data = pd.concat([all_data, encoded_data], axis=1)\n",
        "encoded_data.info()\n",
        "all_data.info()"
      ],
      "metadata": {
        "id": "D4IVlbezVLG7"
      },
      "execution_count": null,
      "outputs": []
    },
    {
      "cell_type": "markdown",
      "source": [
        "One-hot encode 'PClass'."
      ],
      "metadata": {
        "id": "jQa8XrZUaxz6"
      }
    },
    {
      "cell_type": "code",
      "source": [
        "# encode\n",
        "encoded_data = encode_category_to_numeric('Pclass',all_data)\n",
        "all_data = pd.concat([all_data, encoded_data], axis=1)\n",
        "\n",
        "# output to check the result\n",
        "encoded_data.info()\n",
        "all_data.info()\n",
        "all_data.head()"
      ],
      "metadata": {
        "colab": {
          "base_uri": "https://localhost:8080/"
        },
        "id": "ZO0vZJ11a7Cu",
        "outputId": "ad547bc4-369d-4e82-a9d6-a19a58dc0410"
      },
      "execution_count": null,
      "outputs": [
        {
          "output_type": "stream",
          "name": "stdout",
          "text": [
            "<class 'pandas.core.frame.DataFrame'>\n",
            "RangeIndex: 1309 entries, 0 to 1308\n",
            "Data columns (total 3 columns):\n",
            " #   Column    Non-Null Count  Dtype  \n",
            "---  ------    --------------  -----  \n",
            " 0   Pclass_1  1309 non-null   float64\n",
            " 1   Pclass_2  1309 non-null   float64\n",
            " 2   Pclass_3  1309 non-null   float64\n",
            "dtypes: float64(3)\n",
            "memory usage: 30.8 KB\n",
            "<class 'pandas.core.frame.DataFrame'>\n",
            "RangeIndex: 1309 entries, 0 to 1308\n",
            "Data columns (total 32 columns):\n",
            " #   Column                           Non-Null Count  Dtype  \n",
            "---  ------                           --------------  -----  \n",
            " 0   PassengerId                      1309 non-null   int64  \n",
            " 1   Survived                         891 non-null    float64\n",
            " 2   Pclass                           1309 non-null   int64  \n",
            " 3   Name                             1309 non-null   object \n",
            " 4   Sex                              1309 non-null   object \n",
            " 5   Age                              1309 non-null   float64\n",
            " 6   SibSp                            1309 non-null   int64  \n",
            " 7   Parch                            1309 non-null   int64  \n",
            " 8   Ticket                           1309 non-null   object \n",
            " 9   Fare                             1309 non-null   float64\n",
            " 10  Cabin                            1309 non-null   object \n",
            " 11  Embarked                         1309 non-null   object \n",
            " 12  Family_Size                      1309 non-null   int64  \n",
            " 13  Fare_Category                    1309 non-null   object \n",
            " 14  Age_Category                     1309 non-null   object \n",
            " 15  Sex_Numeric                      1309 non-null   int64  \n",
            " 16  Embarked_C                       1309 non-null   float64\n",
            " 17  Embarked_Q                       1309 non-null   float64\n",
            " 18  Embarked_S                       1309 non-null   float64\n",
            " 19  Fare_Category_(-0.001, 7.854]    1309 non-null   float64\n",
            " 20  Fare_Category_(10.5, 21.558]     1309 non-null   float64\n",
            " 21  Fare_Category_(21.558, 41.579]   1309 non-null   float64\n",
            " 22  Fare_Category_(41.579, 512.329]  1309 non-null   float64\n",
            " 23  Fare_Category_(7.854, 10.5]      1309 non-null   float64\n",
            " 24  Age_Category_(-0.08, 16.0]       1309 non-null   float64\n",
            " 25  Age_Category_(16.0, 32.0]        1309 non-null   float64\n",
            " 26  Age_Category_(32.0, 48.0]        1309 non-null   float64\n",
            " 27  Age_Category_(48.0, 64.0]        1309 non-null   float64\n",
            " 28  Age_Category_(64.0, 80.0]        1309 non-null   float64\n",
            " 29  Pclass_1                         1309 non-null   float64\n",
            " 30  Pclass_2                         1309 non-null   float64\n",
            " 31  Pclass_3                         1309 non-null   float64\n",
            "dtypes: float64(19), int64(6), object(7)\n",
            "memory usage: 327.4+ KB\n"
          ]
        },
        {
          "output_type": "execute_result",
          "data": {
            "text/plain": [
              "   PassengerId  Survived  Pclass  \\\n",
              "0            1       0.0       3   \n",
              "1            2       1.0       1   \n",
              "2            3       1.0       3   \n",
              "3            4       1.0       1   \n",
              "4            5       0.0       3   \n",
              "\n",
              "                                                Name     Sex   Age  SibSp  \\\n",
              "0                            Braund, Mr. Owen Harris    male  22.0      1   \n",
              "1  Cumings, Mrs. John Bradley (Florence Briggs Th...  female  38.0      1   \n",
              "2                             Heikkinen, Miss. Laina  female  26.0      0   \n",
              "3       Futrelle, Mrs. Jacques Heath (Lily May Peel)  female  35.0      1   \n",
              "4                           Allen, Mr. William Henry    male  35.0      0   \n",
              "\n",
              "   Parch            Ticket     Fare  ... Fare_Category_(41.579, 512.329]  \\\n",
              "0      0         A/5 21171   7.2500  ...                             0.0   \n",
              "1      0          PC 17599  71.2833  ...                             1.0   \n",
              "2      0  STON/O2. 3101282   7.9250  ...                             0.0   \n",
              "3      0            113803  53.1000  ...                             1.0   \n",
              "4      0            373450   8.0500  ...                             0.0   \n",
              "\n",
              "  Fare_Category_(7.854, 10.5]  Age_Category_(-0.08, 16.0]  \\\n",
              "0                         0.0                         0.0   \n",
              "1                         0.0                         0.0   \n",
              "2                         1.0                         0.0   \n",
              "3                         0.0                         0.0   \n",
              "4                         1.0                         0.0   \n",
              "\n",
              "  Age_Category_(16.0, 32.0] Age_Category_(32.0, 48.0]  \\\n",
              "0                       1.0                       0.0   \n",
              "1                       0.0                       1.0   \n",
              "2                       1.0                       0.0   \n",
              "3                       0.0                       1.0   \n",
              "4                       0.0                       1.0   \n",
              "\n",
              "   Age_Category_(48.0, 64.0]  Age_Category_(64.0, 80.0]  Pclass_1  Pclass_2  \\\n",
              "0                        0.0                        0.0       0.0       0.0   \n",
              "1                        0.0                        0.0       1.0       0.0   \n",
              "2                        0.0                        0.0       0.0       0.0   \n",
              "3                        0.0                        0.0       1.0       0.0   \n",
              "4                        0.0                        0.0       0.0       0.0   \n",
              "\n",
              "   Pclass_3  \n",
              "0       1.0  \n",
              "1       0.0  \n",
              "2       1.0  \n",
              "3       0.0  \n",
              "4       1.0  \n",
              "\n",
              "[5 rows x 32 columns]"
            ],
            "text/html": [
              "\n",
              "  <div id=\"df-19702c71-a4b5-45b2-b628-6e003674c74b\">\n",
              "    <div class=\"colab-df-container\">\n",
              "      <div>\n",
              "<style scoped>\n",
              "    .dataframe tbody tr th:only-of-type {\n",
              "        vertical-align: middle;\n",
              "    }\n",
              "\n",
              "    .dataframe tbody tr th {\n",
              "        vertical-align: top;\n",
              "    }\n",
              "\n",
              "    .dataframe thead th {\n",
              "        text-align: right;\n",
              "    }\n",
              "</style>\n",
              "<table border=\"1\" class=\"dataframe\">\n",
              "  <thead>\n",
              "    <tr style=\"text-align: right;\">\n",
              "      <th></th>\n",
              "      <th>PassengerId</th>\n",
              "      <th>Survived</th>\n",
              "      <th>Pclass</th>\n",
              "      <th>Name</th>\n",
              "      <th>Sex</th>\n",
              "      <th>Age</th>\n",
              "      <th>SibSp</th>\n",
              "      <th>Parch</th>\n",
              "      <th>Ticket</th>\n",
              "      <th>Fare</th>\n",
              "      <th>...</th>\n",
              "      <th>Fare_Category_(41.579, 512.329]</th>\n",
              "      <th>Fare_Category_(7.854, 10.5]</th>\n",
              "      <th>Age_Category_(-0.08, 16.0]</th>\n",
              "      <th>Age_Category_(16.0, 32.0]</th>\n",
              "      <th>Age_Category_(32.0, 48.0]</th>\n",
              "      <th>Age_Category_(48.0, 64.0]</th>\n",
              "      <th>Age_Category_(64.0, 80.0]</th>\n",
              "      <th>Pclass_1</th>\n",
              "      <th>Pclass_2</th>\n",
              "      <th>Pclass_3</th>\n",
              "    </tr>\n",
              "  </thead>\n",
              "  <tbody>\n",
              "    <tr>\n",
              "      <th>0</th>\n",
              "      <td>1</td>\n",
              "      <td>0.0</td>\n",
              "      <td>3</td>\n",
              "      <td>Braund, Mr. Owen Harris</td>\n",
              "      <td>male</td>\n",
              "      <td>22.0</td>\n",
              "      <td>1</td>\n",
              "      <td>0</td>\n",
              "      <td>A/5 21171</td>\n",
              "      <td>7.2500</td>\n",
              "      <td>...</td>\n",
              "      <td>0.0</td>\n",
              "      <td>0.0</td>\n",
              "      <td>0.0</td>\n",
              "      <td>1.0</td>\n",
              "      <td>0.0</td>\n",
              "      <td>0.0</td>\n",
              "      <td>0.0</td>\n",
              "      <td>0.0</td>\n",
              "      <td>0.0</td>\n",
              "      <td>1.0</td>\n",
              "    </tr>\n",
              "    <tr>\n",
              "      <th>1</th>\n",
              "      <td>2</td>\n",
              "      <td>1.0</td>\n",
              "      <td>1</td>\n",
              "      <td>Cumings, Mrs. John Bradley (Florence Briggs Th...</td>\n",
              "      <td>female</td>\n",
              "      <td>38.0</td>\n",
              "      <td>1</td>\n",
              "      <td>0</td>\n",
              "      <td>PC 17599</td>\n",
              "      <td>71.2833</td>\n",
              "      <td>...</td>\n",
              "      <td>1.0</td>\n",
              "      <td>0.0</td>\n",
              "      <td>0.0</td>\n",
              "      <td>0.0</td>\n",
              "      <td>1.0</td>\n",
              "      <td>0.0</td>\n",
              "      <td>0.0</td>\n",
              "      <td>1.0</td>\n",
              "      <td>0.0</td>\n",
              "      <td>0.0</td>\n",
              "    </tr>\n",
              "    <tr>\n",
              "      <th>2</th>\n",
              "      <td>3</td>\n",
              "      <td>1.0</td>\n",
              "      <td>3</td>\n",
              "      <td>Heikkinen, Miss. Laina</td>\n",
              "      <td>female</td>\n",
              "      <td>26.0</td>\n",
              "      <td>0</td>\n",
              "      <td>0</td>\n",
              "      <td>STON/O2. 3101282</td>\n",
              "      <td>7.9250</td>\n",
              "      <td>...</td>\n",
              "      <td>0.0</td>\n",
              "      <td>1.0</td>\n",
              "      <td>0.0</td>\n",
              "      <td>1.0</td>\n",
              "      <td>0.0</td>\n",
              "      <td>0.0</td>\n",
              "      <td>0.0</td>\n",
              "      <td>0.0</td>\n",
              "      <td>0.0</td>\n",
              "      <td>1.0</td>\n",
              "    </tr>\n",
              "    <tr>\n",
              "      <th>3</th>\n",
              "      <td>4</td>\n",
              "      <td>1.0</td>\n",
              "      <td>1</td>\n",
              "      <td>Futrelle, Mrs. Jacques Heath (Lily May Peel)</td>\n",
              "      <td>female</td>\n",
              "      <td>35.0</td>\n",
              "      <td>1</td>\n",
              "      <td>0</td>\n",
              "      <td>113803</td>\n",
              "      <td>53.1000</td>\n",
              "      <td>...</td>\n",
              "      <td>1.0</td>\n",
              "      <td>0.0</td>\n",
              "      <td>0.0</td>\n",
              "      <td>0.0</td>\n",
              "      <td>1.0</td>\n",
              "      <td>0.0</td>\n",
              "      <td>0.0</td>\n",
              "      <td>1.0</td>\n",
              "      <td>0.0</td>\n",
              "      <td>0.0</td>\n",
              "    </tr>\n",
              "    <tr>\n",
              "      <th>4</th>\n",
              "      <td>5</td>\n",
              "      <td>0.0</td>\n",
              "      <td>3</td>\n",
              "      <td>Allen, Mr. William Henry</td>\n",
              "      <td>male</td>\n",
              "      <td>35.0</td>\n",
              "      <td>0</td>\n",
              "      <td>0</td>\n",
              "      <td>373450</td>\n",
              "      <td>8.0500</td>\n",
              "      <td>...</td>\n",
              "      <td>0.0</td>\n",
              "      <td>1.0</td>\n",
              "      <td>0.0</td>\n",
              "      <td>0.0</td>\n",
              "      <td>1.0</td>\n",
              "      <td>0.0</td>\n",
              "      <td>0.0</td>\n",
              "      <td>0.0</td>\n",
              "      <td>0.0</td>\n",
              "      <td>1.0</td>\n",
              "    </tr>\n",
              "  </tbody>\n",
              "</table>\n",
              "<p>5 rows × 32 columns</p>\n",
              "</div>\n",
              "      <button class=\"colab-df-convert\" onclick=\"convertToInteractive('df-19702c71-a4b5-45b2-b628-6e003674c74b')\"\n",
              "              title=\"Convert this dataframe to an interactive table.\"\n",
              "              style=\"display:none;\">\n",
              "        \n",
              "  <svg xmlns=\"http://www.w3.org/2000/svg\" height=\"24px\"viewBox=\"0 0 24 24\"\n",
              "       width=\"24px\">\n",
              "    <path d=\"M0 0h24v24H0V0z\" fill=\"none\"/>\n",
              "    <path d=\"M18.56 5.44l.94 2.06.94-2.06 2.06-.94-2.06-.94-.94-2.06-.94 2.06-2.06.94zm-11 1L8.5 8.5l.94-2.06 2.06-.94-2.06-.94L8.5 2.5l-.94 2.06-2.06.94zm10 10l.94 2.06.94-2.06 2.06-.94-2.06-.94-.94-2.06-.94 2.06-2.06.94z\"/><path d=\"M17.41 7.96l-1.37-1.37c-.4-.4-.92-.59-1.43-.59-.52 0-1.04.2-1.43.59L10.3 9.45l-7.72 7.72c-.78.78-.78 2.05 0 2.83L4 21.41c.39.39.9.59 1.41.59.51 0 1.02-.2 1.41-.59l7.78-7.78 2.81-2.81c.8-.78.8-2.07 0-2.86zM5.41 20L4 18.59l7.72-7.72 1.47 1.35L5.41 20z\"/>\n",
              "  </svg>\n",
              "      </button>\n",
              "      \n",
              "  <style>\n",
              "    .colab-df-container {\n",
              "      display:flex;\n",
              "      flex-wrap:wrap;\n",
              "      gap: 12px;\n",
              "    }\n",
              "\n",
              "    .colab-df-convert {\n",
              "      background-color: #E8F0FE;\n",
              "      border: none;\n",
              "      border-radius: 50%;\n",
              "      cursor: pointer;\n",
              "      display: none;\n",
              "      fill: #1967D2;\n",
              "      height: 32px;\n",
              "      padding: 0 0 0 0;\n",
              "      width: 32px;\n",
              "    }\n",
              "\n",
              "    .colab-df-convert:hover {\n",
              "      background-color: #E2EBFA;\n",
              "      box-shadow: 0px 1px 2px rgba(60, 64, 67, 0.3), 0px 1px 3px 1px rgba(60, 64, 67, 0.15);\n",
              "      fill: #174EA6;\n",
              "    }\n",
              "\n",
              "    [theme=dark] .colab-df-convert {\n",
              "      background-color: #3B4455;\n",
              "      fill: #D2E3FC;\n",
              "    }\n",
              "\n",
              "    [theme=dark] .colab-df-convert:hover {\n",
              "      background-color: #434B5C;\n",
              "      box-shadow: 0px 1px 3px 1px rgba(0, 0, 0, 0.15);\n",
              "      filter: drop-shadow(0px 1px 2px rgba(0, 0, 0, 0.3));\n",
              "      fill: #FFFFFF;\n",
              "    }\n",
              "  </style>\n",
              "\n",
              "      <script>\n",
              "        const buttonEl =\n",
              "          document.querySelector('#df-19702c71-a4b5-45b2-b628-6e003674c74b button.colab-df-convert');\n",
              "        buttonEl.style.display =\n",
              "          google.colab.kernel.accessAllowed ? 'block' : 'none';\n",
              "\n",
              "        async function convertToInteractive(key) {\n",
              "          const element = document.querySelector('#df-19702c71-a4b5-45b2-b628-6e003674c74b');\n",
              "          const dataTable =\n",
              "            await google.colab.kernel.invokeFunction('convertToInteractive',\n",
              "                                                     [key], {});\n",
              "          if (!dataTable) return;\n",
              "\n",
              "          const docLinkHtml = 'Like what you see? Visit the ' +\n",
              "            '<a target=\"_blank\" href=https://colab.research.google.com/notebooks/data_table.ipynb>data table notebook</a>'\n",
              "            + ' to learn more about interactive tables.';\n",
              "          element.innerHTML = '';\n",
              "          dataTable['output_type'] = 'display_data';\n",
              "          await google.colab.output.renderOutput(dataTable, element);\n",
              "          const docLink = document.createElement('div');\n",
              "          docLink.innerHTML = docLinkHtml;\n",
              "          element.appendChild(docLink);\n",
              "        }\n",
              "      </script>\n",
              "    </div>\n",
              "  </div>\n",
              "  "
            ]
          },
          "metadata": {},
          "execution_count": 55
        }
      ]
    },
    {
      "cell_type": "markdown",
      "source": [
        "Convert 'Sex_Numeric' and 'Family_Size' fields to 'float16'"
      ],
      "metadata": {
        "id": "myLswPzAc8Eh"
      }
    },
    {
      "cell_type": "code",
      "source": [
        "all_data = all_data.astype({'Sex_Numeric': 'float16'})\n",
        "all_data = all_data.astype({'Family_Size': 'float16'})"
      ],
      "metadata": {
        "id": "WxLiJHc9dHrj"
      },
      "execution_count": null,
      "outputs": []
    },
    {
      "cell_type": "markdown",
      "source": [
        "#### Correlation matrix\n",
        "Show the values for 'Survived' column of the corr_matrix in descending order."
      ],
      "metadata": {
        "id": "PE3m3t03eoz3"
      }
    },
    {
      "cell_type": "code",
      "source": [
        "corr_matrix = all_data.corr()\n",
        "corr_matrix.sort_values(by=['Survived'], ascending=False, inplace=True)\n",
        "corr_matrix"
      ],
      "metadata": {
        "colab": {
          "base_uri": "https://localhost:8080/",
          "height": 1000
        },
        "id": "n95l0I98ewOT",
        "outputId": "8e071c94-0ac3-47e8-f71d-0c7e0576f272"
      },
      "execution_count": null,
      "outputs": [
        {
          "output_type": "execute_result",
          "data": {
            "text/plain": [
              "                                 PassengerId  Survived    Pclass       Age  \\\n",
              "Survived                           -0.005007  1.000000 -0.338481 -0.058635   \n",
              "Pclass_1                            0.026495  0.285904 -0.884911  0.434773   \n",
              "Fare_Category_(41.579, 512.329]     0.021562  0.263007 -0.616763  0.229912   \n",
              "Fare                                0.031029  0.257307 -0.558740  0.198711   \n",
              "Embarked_C                          0.048101  0.168240 -0.269658  0.082854   \n",
              "Age_Category_(-0.08, 16.0]         -0.046825  0.121485  0.127844 -0.545366   \n",
              "Pclass_2                            0.022714  0.093349 -0.182413  0.008966   \n",
              "Parch                               0.008942  0.081629  0.018322 -0.134239   \n",
              "Fare_Category_(21.558, 41.579]     -0.014435  0.062529 -0.231870  0.065825   \n",
              "Fare_Category_(10.5, 21.558]       -0.001128  0.043153  0.128526 -0.122612   \n",
              "Age_Category_(32.0, 48.0]          -0.020099  0.032801 -0.301654  0.435073   \n",
              "Age_Category_(48.0, 64.0]           0.024989  0.030350 -0.305133  0.584582   \n",
              "Family_Size                        -0.031437  0.016639  0.050027 -0.207570   \n",
              "Embarked_Q                          0.011585  0.003650  0.230491 -0.087217   \n",
              "PassengerId                         1.000000 -0.005007 -0.038354  0.020478   \n",
              "SibSp                              -0.055224 -0.035322  0.060832 -0.204025   \n",
              "Age                                 0.020478 -0.058635 -0.451983  1.000000   \n",
              "Age_Category_(64.0, 80.0]          -0.043162 -0.067344 -0.081258  0.309084   \n",
              "Age_Category_(16.0, 32.0]           0.040743 -0.106821  0.363903 -0.421744   \n",
              "Embarked_S                         -0.049836 -0.149683  0.091320 -0.017620   \n",
              "Fare_Category_(-0.001, 7.854]       0.048268 -0.171109  0.384924 -0.093939   \n",
              "Fare_Category_(7.854, 10.5]        -0.055563 -0.191707  0.331201 -0.078817   \n",
              "Pclass_3                           -0.041544 -0.322308  0.915201 -0.383537   \n",
              "Pclass                             -0.038354 -0.338481  1.000000 -0.451983   \n",
              "Sex_Numeric                         0.013406 -0.543351  0.124617  0.074529   \n",
              "\n",
              "                                    SibSp     Parch      Fare  Family_Size  \\\n",
              "Survived                        -0.035322  0.081629  0.257307     0.016639   \n",
              "Pclass_1                        -0.034256 -0.013033  0.600115    -0.029656   \n",
              "Fare_Category_(41.579, 512.329]  0.226143  0.177918  0.715122     0.245992   \n",
              "Fare                             0.160388  0.221668  1.000000     0.226653   \n",
              "Embarked_C                      -0.048396 -0.008635  0.286405    -0.036553   \n",
              "Age_Category_(-0.08, 16.0]       0.331953  0.307018 -0.006540     0.386151   \n",
              "Pclass_2                        -0.052419 -0.010057 -0.121168    -0.039976   \n",
              "Parch                            0.373587  1.000000  0.221668     0.792296   \n",
              "Fare_Category_(21.558, 41.579]   0.178576  0.215268 -0.042452     0.235118   \n",
              "Fare_Category_(10.5, 21.558]     0.001468  0.015200 -0.172353     0.009273   \n",
              "Age_Category_(32.0, 48.0]       -0.086269  0.022900  0.137490    -0.044228   \n",
              "Age_Category_(48.0, 64.0]       -0.018499 -0.002631  0.173843    -0.013606   \n",
              "Family_Size                      0.861952  0.792296  0.226653     1.000000   \n",
              "Embarked_Q                      -0.048678 -0.100943 -0.129922    -0.087190   \n",
              "PassengerId                     -0.055224  0.008942  0.031029    -0.031437   \n",
              "SibSp                            1.000000  0.373587  0.160388     0.861952   \n",
              "Age                             -0.204025 -0.134239  0.198711    -0.207570   \n",
              "Age_Category_(64.0, 80.0]       -0.025786 -0.026760  0.027705    -0.031587   \n",
              "Age_Category_(16.0, 32.0]       -0.114465 -0.200974 -0.214889    -0.185136   \n",
              "Embarked_S                       0.073709  0.071881 -0.170123     0.087771   \n",
              "Fare_Category_(-0.001, 7.854]   -0.211050 -0.207817 -0.261977    -0.252406   \n",
              "Fare_Category_(7.854, 10.5]     -0.193041 -0.198817 -0.234452    -0.235642   \n",
              "Pclass_3                         0.072610  0.019521 -0.419921     0.058430   \n",
              "Pclass                           0.060832  0.018322 -0.558740     0.050027   \n",
              "Sex_Numeric                     -0.109609 -0.213125 -0.185744    -0.188583   \n",
              "\n",
              "                                 Sex_Numeric  Embarked_C  ...  \\\n",
              "Survived                           -0.543351    0.168240  ...   \n",
              "Pclass_1                           -0.107371    0.325722  ...   \n",
              "Fare_Category_(41.579, 512.329]    -0.171396    0.253915  ...   \n",
              "Fare                               -0.185744    0.286405  ...   \n",
              "Embarked_C                         -0.066564    1.000000  ...   \n",
              "Age_Category_(-0.08, 16.0]         -0.085774   -0.010211  ...   \n",
              "Pclass_2                           -0.028862   -0.134675  ...   \n",
              "Parch                              -0.213125   -0.008635  ...   \n",
              "Fare_Category_(21.558, 41.579]     -0.038360   -0.007800  ...   \n",
              "Fare_Category_(10.5, 21.558]       -0.077431   -0.007615  ...   \n",
              "Age_Category_(32.0, 48.0]          -0.002936    0.037092  ...   \n",
              "Age_Category_(48.0, 64.0]          -0.007394    0.077071  ...   \n",
              "Family_Size                        -0.188583   -0.036553  ...   \n",
              "Embarked_Q                         -0.088651   -0.164166  ...   \n",
              "PassengerId                         0.013406    0.048101  ...   \n",
              "SibSp                              -0.109609   -0.048396  ...   \n",
              "Age                                 0.074529    0.082854  ...   \n",
              "Age_Category_(64.0, 80.0]           0.058374    0.006066  ...   \n",
              "Age_Category_(16.0, 32.0]           0.047468   -0.069159  ...   \n",
              "Embarked_S                          0.115193   -0.778262  ...   \n",
              "Fare_Category_(-0.001, 7.854]       0.128852   -0.035792  ...   \n",
              "Fare_Category_(7.854, 10.5]         0.156222   -0.203069  ...   \n",
              "Pclass_3                            0.116562   -0.171430  ...   \n",
              "Pclass                              0.124617   -0.269658  ...   \n",
              "Sex_Numeric                         1.000000   -0.066564  ...   \n",
              "\n",
              "                                 Fare_Category_(41.579, 512.329]  \\\n",
              "Survived                                                0.263007   \n",
              "Pclass_1                                                0.694277   \n",
              "Fare_Category_(41.579, 512.329]                         1.000000   \n",
              "Fare                                                    0.715122   \n",
              "Embarked_C                                              0.253915   \n",
              "Age_Category_(-0.08, 16.0]                             -0.053855   \n",
              "Pclass_2                                               -0.200972   \n",
              "Parch                                                   0.177918   \n",
              "Fare_Category_(21.558, 41.579]                         -0.250223   \n",
              "Fare_Category_(10.5, 21.558]                           -0.244290   \n",
              "Age_Category_(32.0, 48.0]                               0.131016   \n",
              "Age_Category_(48.0, 64.0]                               0.182949   \n",
              "Family_Size                                             0.245992   \n",
              "Embarked_Q                                             -0.140227   \n",
              "PassengerId                                             0.021562   \n",
              "SibSp                                                   0.226143   \n",
              "Age                                                     0.229912   \n",
              "Age_Category_(64.0, 80.0]                               0.046950   \n",
              "Age_Category_(16.0, 32.0]                              -0.189235   \n",
              "Embarked_S                                             -0.134882   \n",
              "Fare_Category_(-0.001, 7.854]                          -0.256131   \n",
              "Fare_Category_(7.854, 10.5]                            -0.244290   \n",
              "Pclass_3                                               -0.435976   \n",
              "Pclass                                                 -0.616763   \n",
              "Sex_Numeric                                            -0.171396   \n",
              "\n",
              "                                 Fare_Category_(7.854, 10.5]  \\\n",
              "Survived                                           -0.191707   \n",
              "Pclass_1                                           -0.281522   \n",
              "Fare_Category_(41.579, 512.329]                    -0.244290   \n",
              "Fare                                               -0.234452   \n",
              "Embarked_C                                         -0.203069   \n",
              "Age_Category_(-0.08, 16.0]                         -0.096110   \n",
              "Pclass_2                                           -0.084821   \n",
              "Parch                                              -0.198817   \n",
              "Fare_Category_(21.558, 41.579]                     -0.247812   \n",
              "Fare_Category_(10.5, 21.558]                       -0.241935   \n",
              "Age_Category_(32.0, 48.0]                          -0.110641   \n",
              "Age_Category_(48.0, 64.0]                          -0.075299   \n",
              "Family_Size                                        -0.235642   \n",
              "Embarked_Q                                         -0.072461   \n",
              "PassengerId                                        -0.055563   \n",
              "SibSp                                              -0.193041   \n",
              "Age                                                -0.078817   \n",
              "Age_Category_(64.0, 80.0]                          -0.010358   \n",
              "Age_Category_(16.0, 32.0]                           0.197043   \n",
              "Embarked_S                                          0.225389   \n",
              "Fare_Category_(-0.001, 7.854]                      -0.253662   \n",
              "Fare_Category_(7.854, 10.5]                         1.000000   \n",
              "Pclass_3                                            0.313118   \n",
              "Pclass                                              0.331201   \n",
              "Sex_Numeric                                         0.156222   \n",
              "\n",
              "                                 Age_Category_(-0.08, 16.0]  \\\n",
              "Survived                                           0.121485   \n",
              "Pclass_1                                          -0.128983   \n",
              "Fare_Category_(41.579, 512.329]                   -0.053855   \n",
              "Fare                                              -0.006540   \n",
              "Embarked_C                                        -0.010211   \n",
              "Age_Category_(-0.08, 16.0]                         1.000000   \n",
              "Pclass_2                                           0.010144   \n",
              "Parch                                              0.307018   \n",
              "Fare_Category_(21.558, 41.579]                     0.155996   \n",
              "Fare_Category_(10.5, 21.558]                       0.113877   \n",
              "Age_Category_(32.0, 48.0]                         -0.185732   \n",
              "Age_Category_(48.0, 64.0]                         -0.100243   \n",
              "Family_Size                                        0.386151   \n",
              "Embarked_Q                                        -0.039656   \n",
              "PassengerId                                       -0.046825   \n",
              "SibSp                                              0.331953   \n",
              "Age                                               -0.545366   \n",
              "Age_Category_(64.0, 80.0]                         -0.033822   \n",
              "Age_Category_(16.0, 32.0]                         -0.392387   \n",
              "Embarked_S                                         0.034258   \n",
              "Fare_Category_(-0.001, 7.854]                     -0.118478   \n",
              "Fare_Category_(7.854, 10.5]                       -0.096110   \n",
              "Pclass_3                                           0.103287   \n",
              "Pclass                                             0.127844   \n",
              "Sex_Numeric                                       -0.085774   \n",
              "\n",
              "                                 Age_Category_(16.0, 32.0]  \\\n",
              "Survived                                         -0.106821   \n",
              "Pclass_1                                         -0.349646   \n",
              "Fare_Category_(41.579, 512.329]                  -0.189235   \n",
              "Fare                                             -0.214889   \n",
              "Embarked_C                                       -0.069159   \n",
              "Age_Category_(-0.08, 16.0]                       -0.392387   \n",
              "Pclass_2                                         -0.008066   \n",
              "Parch                                            -0.200974   \n",
              "Fare_Category_(21.558, 41.579]                   -0.239325   \n",
              "Fare_Category_(10.5, 21.558]                     -0.001925   \n",
              "Age_Category_(32.0, 48.0]                        -0.639050   \n",
              "Age_Category_(48.0, 64.0]                        -0.344907   \n",
              "Family_Size                                      -0.185136   \n",
              "Embarked_Q                                        0.155362   \n",
              "PassengerId                                       0.040743   \n",
              "SibSp                                            -0.114465   \n",
              "Age                                              -0.421744   \n",
              "Age_Category_(64.0, 80.0]                        -0.116373   \n",
              "Age_Category_(16.0, 32.0]                         1.000000   \n",
              "Embarked_S                                       -0.037848   \n",
              "Fare_Category_(-0.001, 7.854]                     0.231433   \n",
              "Fare_Category_(7.854, 10.5]                       0.197043   \n",
              "Pclass_3                                          0.309142   \n",
              "Pclass                                            0.363903   \n",
              "Sex_Numeric                                       0.047468   \n",
              "\n",
              "                                 Age_Category_(32.0, 48.0]  \\\n",
              "Survived                                          0.032801   \n",
              "Pclass_1                                          0.293696   \n",
              "Fare_Category_(41.579, 512.329]                   0.131016   \n",
              "Fare                                              0.137490   \n",
              "Embarked_C                                        0.037092   \n",
              "Age_Category_(-0.08, 16.0]                       -0.185732   \n",
              "Pclass_2                                         -0.001462   \n",
              "Parch                                             0.022900   \n",
              "Fare_Category_(21.558, 41.579]                    0.119120   \n",
              "Fare_Category_(10.5, 21.558]                     -0.023849   \n",
              "Age_Category_(32.0, 48.0]                         1.000000   \n",
              "Age_Category_(48.0, 64.0]                        -0.163258   \n",
              "Family_Size                                      -0.044228   \n",
              "Embarked_Q                                       -0.115114   \n",
              "PassengerId                                      -0.020099   \n",
              "SibSp                                            -0.086269   \n",
              "Age                                               0.435073   \n",
              "Age_Category_(64.0, 80.0]                        -0.055084   \n",
              "Age_Category_(16.0, 32.0]                        -0.639050   \n",
              "Embarked_S                                        0.040535   \n",
              "Fare_Category_(-0.001, 7.854]                    -0.114872   \n",
              "Fare_Category_(7.854, 10.5]                      -0.110641   \n",
              "Pclass_3                                         -0.252922   \n",
              "Pclass                                           -0.301654   \n",
              "Sex_Numeric                                      -0.002936   \n",
              "\n",
              "                                 Age_Category_(48.0, 64.0]  \\\n",
              "Survived                                          0.030350   \n",
              "Pclass_1                                          0.291286   \n",
              "Fare_Category_(41.579, 512.329]                   0.182949   \n",
              "Fare                                              0.173843   \n",
              "Embarked_C                                        0.077071   \n",
              "Age_Category_(-0.08, 16.0]                       -0.100243   \n",
              "Pclass_2                                          0.010758   \n",
              "Parch                                            -0.002631   \n",
              "Fare_Category_(21.558, 41.579]                    0.073461   \n",
              "Fare_Category_(10.5, 21.558]                     -0.068228   \n",
              "Age_Category_(32.0, 48.0]                        -0.163258   \n",
              "Age_Category_(48.0, 64.0]                         1.000000   \n",
              "Family_Size                                      -0.013606   \n",
              "Embarked_Q                                       -0.066801   \n",
              "PassengerId                                       0.024989   \n",
              "SibSp                                            -0.018499   \n",
              "Age                                               0.584582   \n",
              "Age_Category_(64.0, 80.0]                        -0.029730   \n",
              "Age_Category_(16.0, 32.0]                        -0.344907   \n",
              "Embarked_S                                       -0.025512   \n",
              "Fare_Category_(-0.001, 7.854]                    -0.111837   \n",
              "Fare_Category_(7.854, 10.5]                      -0.075299   \n",
              "Pclass_3                                         -0.260854   \n",
              "Pclass                                           -0.305133   \n",
              "Sex_Numeric                                      -0.007394   \n",
              "\n",
              "                                 Age_Category_(64.0, 80.0]  Pclass_1  \\\n",
              "Survived                                         -0.067344  0.285904   \n",
              "Pclass_1                                          0.085637  1.000000   \n",
              "Fare_Category_(41.579, 512.329]                   0.046950  0.694277   \n",
              "Fare                                              0.027705  0.600115   \n",
              "Embarked_C                                        0.006066  0.325722   \n",
              "Age_Category_(-0.08, 16.0]                       -0.033822 -0.128983   \n",
              "Pclass_2                                         -0.014164 -0.296526   \n",
              "Parch                                            -0.026760 -0.013033   \n",
              "Fare_Category_(21.558, 41.579]                    0.007060  0.130578   \n",
              "Fare_Category_(10.5, 21.558]                     -0.049263 -0.281522   \n",
              "Age_Category_(32.0, 48.0]                        -0.055084  0.293696   \n",
              "Age_Category_(48.0, 64.0]                        -0.029730  0.291286   \n",
              "Family_Size                                      -0.031587 -0.029656   \n",
              "Embarked_Q                                        0.020554 -0.166101   \n",
              "PassengerId                                      -0.043162  0.026495   \n",
              "SibSp                                            -0.025786 -0.034256   \n",
              "Age                                               0.309084  0.434773   \n",
              "Age_Category_(64.0, 80.0]                         1.000000  0.085637   \n",
              "Age_Category_(16.0, 32.0]                        -0.116373 -0.349646   \n",
              "Embarked_S                                       -0.018439 -0.181800   \n",
              "Fare_Category_(-0.001, 7.854]                     0.005086 -0.260369   \n",
              "Fare_Category_(7.854, 10.5]                      -0.010358 -0.281522   \n",
              "Pclass_3                                         -0.062486 -0.622172   \n",
              "Pclass                                           -0.081258 -0.884911   \n",
              "Sex_Numeric                                       0.058374 -0.107371   \n",
              "\n",
              "                                 Pclass_2  Pclass_3  \n",
              "Survived                         0.093349 -0.322308  \n",
              "Pclass_1                        -0.296526 -0.622172  \n",
              "Fare_Category_(41.579, 512.329] -0.200972 -0.435976  \n",
              "Fare                            -0.121168 -0.419921  \n",
              "Embarked_C                      -0.134675 -0.171430  \n",
              "Age_Category_(-0.08, 16.0]       0.010144  0.103287  \n",
              "Pclass_2                         1.000000 -0.563180  \n",
              "Parch                           -0.010057  0.019521  \n",
              "Fare_Category_(21.558, 41.579]   0.199791 -0.276761  \n",
              "Fare_Category_(10.5, 21.558]     0.330757 -0.027551  \n",
              "Age_Category_(32.0, 48.0]       -0.001462 -0.252922  \n",
              "Age_Category_(48.0, 64.0]        0.010758 -0.260854  \n",
              "Family_Size                     -0.039976  0.058430  \n",
              "Embarked_Q                      -0.121973  0.243706  \n",
              "PassengerId                      0.022714 -0.041544  \n",
              "SibSp                           -0.052419  0.072610  \n",
              "Age                              0.008966 -0.383537  \n",
              "Age_Category_(64.0, 80.0]       -0.014164 -0.062486  \n",
              "Age_Category_(16.0, 32.0]       -0.008066  0.309142  \n",
              "Embarked_S                       0.196532 -0.003805  \n",
              "Fare_Category_(-0.001, 7.854]   -0.239634  0.421723  \n",
              "Fare_Category_(7.854, 10.5]     -0.084821  0.313118  \n",
              "Pclass_3                        -0.563180  1.000000  \n",
              "Pclass                          -0.182413  0.915201  \n",
              "Sex_Numeric                     -0.028862  0.116562  \n",
              "\n",
              "[25 rows x 25 columns]"
            ],
            "text/html": [
              "\n",
              "  <div id=\"df-c20b8f1a-6aeb-4925-b9fc-7a99bd5898d5\">\n",
              "    <div class=\"colab-df-container\">\n",
              "      <div>\n",
              "<style scoped>\n",
              "    .dataframe tbody tr th:only-of-type {\n",
              "        vertical-align: middle;\n",
              "    }\n",
              "\n",
              "    .dataframe tbody tr th {\n",
              "        vertical-align: top;\n",
              "    }\n",
              "\n",
              "    .dataframe thead th {\n",
              "        text-align: right;\n",
              "    }\n",
              "</style>\n",
              "<table border=\"1\" class=\"dataframe\">\n",
              "  <thead>\n",
              "    <tr style=\"text-align: right;\">\n",
              "      <th></th>\n",
              "      <th>PassengerId</th>\n",
              "      <th>Survived</th>\n",
              "      <th>Pclass</th>\n",
              "      <th>Age</th>\n",
              "      <th>SibSp</th>\n",
              "      <th>Parch</th>\n",
              "      <th>Fare</th>\n",
              "      <th>Family_Size</th>\n",
              "      <th>Sex_Numeric</th>\n",
              "      <th>Embarked_C</th>\n",
              "      <th>...</th>\n",
              "      <th>Fare_Category_(41.579, 512.329]</th>\n",
              "      <th>Fare_Category_(7.854, 10.5]</th>\n",
              "      <th>Age_Category_(-0.08, 16.0]</th>\n",
              "      <th>Age_Category_(16.0, 32.0]</th>\n",
              "      <th>Age_Category_(32.0, 48.0]</th>\n",
              "      <th>Age_Category_(48.0, 64.0]</th>\n",
              "      <th>Age_Category_(64.0, 80.0]</th>\n",
              "      <th>Pclass_1</th>\n",
              "      <th>Pclass_2</th>\n",
              "      <th>Pclass_3</th>\n",
              "    </tr>\n",
              "  </thead>\n",
              "  <tbody>\n",
              "    <tr>\n",
              "      <th>Survived</th>\n",
              "      <td>-0.005007</td>\n",
              "      <td>1.000000</td>\n",
              "      <td>-0.338481</td>\n",
              "      <td>-0.058635</td>\n",
              "      <td>-0.035322</td>\n",
              "      <td>0.081629</td>\n",
              "      <td>0.257307</td>\n",
              "      <td>0.016639</td>\n",
              "      <td>-0.543351</td>\n",
              "      <td>0.168240</td>\n",
              "      <td>...</td>\n",
              "      <td>0.263007</td>\n",
              "      <td>-0.191707</td>\n",
              "      <td>0.121485</td>\n",
              "      <td>-0.106821</td>\n",
              "      <td>0.032801</td>\n",
              "      <td>0.030350</td>\n",
              "      <td>-0.067344</td>\n",
              "      <td>0.285904</td>\n",
              "      <td>0.093349</td>\n",
              "      <td>-0.322308</td>\n",
              "    </tr>\n",
              "    <tr>\n",
              "      <th>Pclass_1</th>\n",
              "      <td>0.026495</td>\n",
              "      <td>0.285904</td>\n",
              "      <td>-0.884911</td>\n",
              "      <td>0.434773</td>\n",
              "      <td>-0.034256</td>\n",
              "      <td>-0.013033</td>\n",
              "      <td>0.600115</td>\n",
              "      <td>-0.029656</td>\n",
              "      <td>-0.107371</td>\n",
              "      <td>0.325722</td>\n",
              "      <td>...</td>\n",
              "      <td>0.694277</td>\n",
              "      <td>-0.281522</td>\n",
              "      <td>-0.128983</td>\n",
              "      <td>-0.349646</td>\n",
              "      <td>0.293696</td>\n",
              "      <td>0.291286</td>\n",
              "      <td>0.085637</td>\n",
              "      <td>1.000000</td>\n",
              "      <td>-0.296526</td>\n",
              "      <td>-0.622172</td>\n",
              "    </tr>\n",
              "    <tr>\n",
              "      <th>Fare_Category_(41.579, 512.329]</th>\n",
              "      <td>0.021562</td>\n",
              "      <td>0.263007</td>\n",
              "      <td>-0.616763</td>\n",
              "      <td>0.229912</td>\n",
              "      <td>0.226143</td>\n",
              "      <td>0.177918</td>\n",
              "      <td>0.715122</td>\n",
              "      <td>0.245992</td>\n",
              "      <td>-0.171396</td>\n",
              "      <td>0.253915</td>\n",
              "      <td>...</td>\n",
              "      <td>1.000000</td>\n",
              "      <td>-0.244290</td>\n",
              "      <td>-0.053855</td>\n",
              "      <td>-0.189235</td>\n",
              "      <td>0.131016</td>\n",
              "      <td>0.182949</td>\n",
              "      <td>0.046950</td>\n",
              "      <td>0.694277</td>\n",
              "      <td>-0.200972</td>\n",
              "      <td>-0.435976</td>\n",
              "    </tr>\n",
              "    <tr>\n",
              "      <th>Fare</th>\n",
              "      <td>0.031029</td>\n",
              "      <td>0.257307</td>\n",
              "      <td>-0.558740</td>\n",
              "      <td>0.198711</td>\n",
              "      <td>0.160388</td>\n",
              "      <td>0.221668</td>\n",
              "      <td>1.000000</td>\n",
              "      <td>0.226653</td>\n",
              "      <td>-0.185744</td>\n",
              "      <td>0.286405</td>\n",
              "      <td>...</td>\n",
              "      <td>0.715122</td>\n",
              "      <td>-0.234452</td>\n",
              "      <td>-0.006540</td>\n",
              "      <td>-0.214889</td>\n",
              "      <td>0.137490</td>\n",
              "      <td>0.173843</td>\n",
              "      <td>0.027705</td>\n",
              "      <td>0.600115</td>\n",
              "      <td>-0.121168</td>\n",
              "      <td>-0.419921</td>\n",
              "    </tr>\n",
              "    <tr>\n",
              "      <th>Embarked_C</th>\n",
              "      <td>0.048101</td>\n",
              "      <td>0.168240</td>\n",
              "      <td>-0.269658</td>\n",
              "      <td>0.082854</td>\n",
              "      <td>-0.048396</td>\n",
              "      <td>-0.008635</td>\n",
              "      <td>0.286405</td>\n",
              "      <td>-0.036553</td>\n",
              "      <td>-0.066564</td>\n",
              "      <td>1.000000</td>\n",
              "      <td>...</td>\n",
              "      <td>0.253915</td>\n",
              "      <td>-0.203069</td>\n",
              "      <td>-0.010211</td>\n",
              "      <td>-0.069159</td>\n",
              "      <td>0.037092</td>\n",
              "      <td>0.077071</td>\n",
              "      <td>0.006066</td>\n",
              "      <td>0.325722</td>\n",
              "      <td>-0.134675</td>\n",
              "      <td>-0.171430</td>\n",
              "    </tr>\n",
              "    <tr>\n",
              "      <th>Age_Category_(-0.08, 16.0]</th>\n",
              "      <td>-0.046825</td>\n",
              "      <td>0.121485</td>\n",
              "      <td>0.127844</td>\n",
              "      <td>-0.545366</td>\n",
              "      <td>0.331953</td>\n",
              "      <td>0.307018</td>\n",
              "      <td>-0.006540</td>\n",
              "      <td>0.386151</td>\n",
              "      <td>-0.085774</td>\n",
              "      <td>-0.010211</td>\n",
              "      <td>...</td>\n",
              "      <td>-0.053855</td>\n",
              "      <td>-0.096110</td>\n",
              "      <td>1.000000</td>\n",
              "      <td>-0.392387</td>\n",
              "      <td>-0.185732</td>\n",
              "      <td>-0.100243</td>\n",
              "      <td>-0.033822</td>\n",
              "      <td>-0.128983</td>\n",
              "      <td>0.010144</td>\n",
              "      <td>0.103287</td>\n",
              "    </tr>\n",
              "    <tr>\n",
              "      <th>Pclass_2</th>\n",
              "      <td>0.022714</td>\n",
              "      <td>0.093349</td>\n",
              "      <td>-0.182413</td>\n",
              "      <td>0.008966</td>\n",
              "      <td>-0.052419</td>\n",
              "      <td>-0.010057</td>\n",
              "      <td>-0.121168</td>\n",
              "      <td>-0.039976</td>\n",
              "      <td>-0.028862</td>\n",
              "      <td>-0.134675</td>\n",
              "      <td>...</td>\n",
              "      <td>-0.200972</td>\n",
              "      <td>-0.084821</td>\n",
              "      <td>0.010144</td>\n",
              "      <td>-0.008066</td>\n",
              "      <td>-0.001462</td>\n",
              "      <td>0.010758</td>\n",
              "      <td>-0.014164</td>\n",
              "      <td>-0.296526</td>\n",
              "      <td>1.000000</td>\n",
              "      <td>-0.563180</td>\n",
              "    </tr>\n",
              "    <tr>\n",
              "      <th>Parch</th>\n",
              "      <td>0.008942</td>\n",
              "      <td>0.081629</td>\n",
              "      <td>0.018322</td>\n",
              "      <td>-0.134239</td>\n",
              "      <td>0.373587</td>\n",
              "      <td>1.000000</td>\n",
              "      <td>0.221668</td>\n",
              "      <td>0.792296</td>\n",
              "      <td>-0.213125</td>\n",
              "      <td>-0.008635</td>\n",
              "      <td>...</td>\n",
              "      <td>0.177918</td>\n",
              "      <td>-0.198817</td>\n",
              "      <td>0.307018</td>\n",
              "      <td>-0.200974</td>\n",
              "      <td>0.022900</td>\n",
              "      <td>-0.002631</td>\n",
              "      <td>-0.026760</td>\n",
              "      <td>-0.013033</td>\n",
              "      <td>-0.010057</td>\n",
              "      <td>0.019521</td>\n",
              "    </tr>\n",
              "    <tr>\n",
              "      <th>Fare_Category_(21.558, 41.579]</th>\n",
              "      <td>-0.014435</td>\n",
              "      <td>0.062529</td>\n",
              "      <td>-0.231870</td>\n",
              "      <td>0.065825</td>\n",
              "      <td>0.178576</td>\n",
              "      <td>0.215268</td>\n",
              "      <td>-0.042452</td>\n",
              "      <td>0.235118</td>\n",
              "      <td>-0.038360</td>\n",
              "      <td>-0.007800</td>\n",
              "      <td>...</td>\n",
              "      <td>-0.250223</td>\n",
              "      <td>-0.247812</td>\n",
              "      <td>0.155996</td>\n",
              "      <td>-0.239325</td>\n",
              "      <td>0.119120</td>\n",
              "      <td>0.073461</td>\n",
              "      <td>0.007060</td>\n",
              "      <td>0.130578</td>\n",
              "      <td>0.199791</td>\n",
              "      <td>-0.276761</td>\n",
              "    </tr>\n",
              "    <tr>\n",
              "      <th>Fare_Category_(10.5, 21.558]</th>\n",
              "      <td>-0.001128</td>\n",
              "      <td>0.043153</td>\n",
              "      <td>0.128526</td>\n",
              "      <td>-0.122612</td>\n",
              "      <td>0.001468</td>\n",
              "      <td>0.015200</td>\n",
              "      <td>-0.172353</td>\n",
              "      <td>0.009273</td>\n",
              "      <td>-0.077431</td>\n",
              "      <td>-0.007615</td>\n",
              "      <td>...</td>\n",
              "      <td>-0.244290</td>\n",
              "      <td>-0.241935</td>\n",
              "      <td>0.113877</td>\n",
              "      <td>-0.001925</td>\n",
              "      <td>-0.023849</td>\n",
              "      <td>-0.068228</td>\n",
              "      <td>-0.049263</td>\n",
              "      <td>-0.281522</td>\n",
              "      <td>0.330757</td>\n",
              "      <td>-0.027551</td>\n",
              "    </tr>\n",
              "    <tr>\n",
              "      <th>Age_Category_(32.0, 48.0]</th>\n",
              "      <td>-0.020099</td>\n",
              "      <td>0.032801</td>\n",
              "      <td>-0.301654</td>\n",
              "      <td>0.435073</td>\n",
              "      <td>-0.086269</td>\n",
              "      <td>0.022900</td>\n",
              "      <td>0.137490</td>\n",
              "      <td>-0.044228</td>\n",
              "      <td>-0.002936</td>\n",
              "      <td>0.037092</td>\n",
              "      <td>...</td>\n",
              "      <td>0.131016</td>\n",
              "      <td>-0.110641</td>\n",
              "      <td>-0.185732</td>\n",
              "      <td>-0.639050</td>\n",
              "      <td>1.000000</td>\n",
              "      <td>-0.163258</td>\n",
              "      <td>-0.055084</td>\n",
              "      <td>0.293696</td>\n",
              "      <td>-0.001462</td>\n",
              "      <td>-0.252922</td>\n",
              "    </tr>\n",
              "    <tr>\n",
              "      <th>Age_Category_(48.0, 64.0]</th>\n",
              "      <td>0.024989</td>\n",
              "      <td>0.030350</td>\n",
              "      <td>-0.305133</td>\n",
              "      <td>0.584582</td>\n",
              "      <td>-0.018499</td>\n",
              "      <td>-0.002631</td>\n",
              "      <td>0.173843</td>\n",
              "      <td>-0.013606</td>\n",
              "      <td>-0.007394</td>\n",
              "      <td>0.077071</td>\n",
              "      <td>...</td>\n",
              "      <td>0.182949</td>\n",
              "      <td>-0.075299</td>\n",
              "      <td>-0.100243</td>\n",
              "      <td>-0.344907</td>\n",
              "      <td>-0.163258</td>\n",
              "      <td>1.000000</td>\n",
              "      <td>-0.029730</td>\n",
              "      <td>0.291286</td>\n",
              "      <td>0.010758</td>\n",
              "      <td>-0.260854</td>\n",
              "    </tr>\n",
              "    <tr>\n",
              "      <th>Family_Size</th>\n",
              "      <td>-0.031437</td>\n",
              "      <td>0.016639</td>\n",
              "      <td>0.050027</td>\n",
              "      <td>-0.207570</td>\n",
              "      <td>0.861952</td>\n",
              "      <td>0.792296</td>\n",
              "      <td>0.226653</td>\n",
              "      <td>1.000000</td>\n",
              "      <td>-0.188583</td>\n",
              "      <td>-0.036553</td>\n",
              "      <td>...</td>\n",
              "      <td>0.245992</td>\n",
              "      <td>-0.235642</td>\n",
              "      <td>0.386151</td>\n",
              "      <td>-0.185136</td>\n",
              "      <td>-0.044228</td>\n",
              "      <td>-0.013606</td>\n",
              "      <td>-0.031587</td>\n",
              "      <td>-0.029656</td>\n",
              "      <td>-0.039976</td>\n",
              "      <td>0.058430</td>\n",
              "    </tr>\n",
              "    <tr>\n",
              "      <th>Embarked_Q</th>\n",
              "      <td>0.011585</td>\n",
              "      <td>0.003650</td>\n",
              "      <td>0.230491</td>\n",
              "      <td>-0.087217</td>\n",
              "      <td>-0.048678</td>\n",
              "      <td>-0.100943</td>\n",
              "      <td>-0.129922</td>\n",
              "      <td>-0.087190</td>\n",
              "      <td>-0.088651</td>\n",
              "      <td>-0.164166</td>\n",
              "      <td>...</td>\n",
              "      <td>-0.140227</td>\n",
              "      <td>-0.072461</td>\n",
              "      <td>-0.039656</td>\n",
              "      <td>0.155362</td>\n",
              "      <td>-0.115114</td>\n",
              "      <td>-0.066801</td>\n",
              "      <td>0.020554</td>\n",
              "      <td>-0.166101</td>\n",
              "      <td>-0.121973</td>\n",
              "      <td>0.243706</td>\n",
              "    </tr>\n",
              "    <tr>\n",
              "      <th>PassengerId</th>\n",
              "      <td>1.000000</td>\n",
              "      <td>-0.005007</td>\n",
              "      <td>-0.038354</td>\n",
              "      <td>0.020478</td>\n",
              "      <td>-0.055224</td>\n",
              "      <td>0.008942</td>\n",
              "      <td>0.031029</td>\n",
              "      <td>-0.031437</td>\n",
              "      <td>0.013406</td>\n",
              "      <td>0.048101</td>\n",
              "      <td>...</td>\n",
              "      <td>0.021562</td>\n",
              "      <td>-0.055563</td>\n",
              "      <td>-0.046825</td>\n",
              "      <td>0.040743</td>\n",
              "      <td>-0.020099</td>\n",
              "      <td>0.024989</td>\n",
              "      <td>-0.043162</td>\n",
              "      <td>0.026495</td>\n",
              "      <td>0.022714</td>\n",
              "      <td>-0.041544</td>\n",
              "    </tr>\n",
              "    <tr>\n",
              "      <th>SibSp</th>\n",
              "      <td>-0.055224</td>\n",
              "      <td>-0.035322</td>\n",
              "      <td>0.060832</td>\n",
              "      <td>-0.204025</td>\n",
              "      <td>1.000000</td>\n",
              "      <td>0.373587</td>\n",
              "      <td>0.160388</td>\n",
              "      <td>0.861952</td>\n",
              "      <td>-0.109609</td>\n",
              "      <td>-0.048396</td>\n",
              "      <td>...</td>\n",
              "      <td>0.226143</td>\n",
              "      <td>-0.193041</td>\n",
              "      <td>0.331953</td>\n",
              "      <td>-0.114465</td>\n",
              "      <td>-0.086269</td>\n",
              "      <td>-0.018499</td>\n",
              "      <td>-0.025786</td>\n",
              "      <td>-0.034256</td>\n",
              "      <td>-0.052419</td>\n",
              "      <td>0.072610</td>\n",
              "    </tr>\n",
              "    <tr>\n",
              "      <th>Age</th>\n",
              "      <td>0.020478</td>\n",
              "      <td>-0.058635</td>\n",
              "      <td>-0.451983</td>\n",
              "      <td>1.000000</td>\n",
              "      <td>-0.204025</td>\n",
              "      <td>-0.134239</td>\n",
              "      <td>0.198711</td>\n",
              "      <td>-0.207570</td>\n",
              "      <td>0.074529</td>\n",
              "      <td>0.082854</td>\n",
              "      <td>...</td>\n",
              "      <td>0.229912</td>\n",
              "      <td>-0.078817</td>\n",
              "      <td>-0.545366</td>\n",
              "      <td>-0.421744</td>\n",
              "      <td>0.435073</td>\n",
              "      <td>0.584582</td>\n",
              "      <td>0.309084</td>\n",
              "      <td>0.434773</td>\n",
              "      <td>0.008966</td>\n",
              "      <td>-0.383537</td>\n",
              "    </tr>\n",
              "    <tr>\n",
              "      <th>Age_Category_(64.0, 80.0]</th>\n",
              "      <td>-0.043162</td>\n",
              "      <td>-0.067344</td>\n",
              "      <td>-0.081258</td>\n",
              "      <td>0.309084</td>\n",
              "      <td>-0.025786</td>\n",
              "      <td>-0.026760</td>\n",
              "      <td>0.027705</td>\n",
              "      <td>-0.031587</td>\n",
              "      <td>0.058374</td>\n",
              "      <td>0.006066</td>\n",
              "      <td>...</td>\n",
              "      <td>0.046950</td>\n",
              "      <td>-0.010358</td>\n",
              "      <td>-0.033822</td>\n",
              "      <td>-0.116373</td>\n",
              "      <td>-0.055084</td>\n",
              "      <td>-0.029730</td>\n",
              "      <td>1.000000</td>\n",
              "      <td>0.085637</td>\n",
              "      <td>-0.014164</td>\n",
              "      <td>-0.062486</td>\n",
              "    </tr>\n",
              "    <tr>\n",
              "      <th>Age_Category_(16.0, 32.0]</th>\n",
              "      <td>0.040743</td>\n",
              "      <td>-0.106821</td>\n",
              "      <td>0.363903</td>\n",
              "      <td>-0.421744</td>\n",
              "      <td>-0.114465</td>\n",
              "      <td>-0.200974</td>\n",
              "      <td>-0.214889</td>\n",
              "      <td>-0.185136</td>\n",
              "      <td>0.047468</td>\n",
              "      <td>-0.069159</td>\n",
              "      <td>...</td>\n",
              "      <td>-0.189235</td>\n",
              "      <td>0.197043</td>\n",
              "      <td>-0.392387</td>\n",
              "      <td>1.000000</td>\n",
              "      <td>-0.639050</td>\n",
              "      <td>-0.344907</td>\n",
              "      <td>-0.116373</td>\n",
              "      <td>-0.349646</td>\n",
              "      <td>-0.008066</td>\n",
              "      <td>0.309142</td>\n",
              "    </tr>\n",
              "    <tr>\n",
              "      <th>Embarked_S</th>\n",
              "      <td>-0.049836</td>\n",
              "      <td>-0.149683</td>\n",
              "      <td>0.091320</td>\n",
              "      <td>-0.017620</td>\n",
              "      <td>0.073709</td>\n",
              "      <td>0.071881</td>\n",
              "      <td>-0.170123</td>\n",
              "      <td>0.087771</td>\n",
              "      <td>0.115193</td>\n",
              "      <td>-0.778262</td>\n",
              "      <td>...</td>\n",
              "      <td>-0.134882</td>\n",
              "      <td>0.225389</td>\n",
              "      <td>0.034258</td>\n",
              "      <td>-0.037848</td>\n",
              "      <td>0.040535</td>\n",
              "      <td>-0.025512</td>\n",
              "      <td>-0.018439</td>\n",
              "      <td>-0.181800</td>\n",
              "      <td>0.196532</td>\n",
              "      <td>-0.003805</td>\n",
              "    </tr>\n",
              "    <tr>\n",
              "      <th>Fare_Category_(-0.001, 7.854]</th>\n",
              "      <td>0.048268</td>\n",
              "      <td>-0.171109</td>\n",
              "      <td>0.384924</td>\n",
              "      <td>-0.093939</td>\n",
              "      <td>-0.211050</td>\n",
              "      <td>-0.207817</td>\n",
              "      <td>-0.261977</td>\n",
              "      <td>-0.252406</td>\n",
              "      <td>0.128852</td>\n",
              "      <td>-0.035792</td>\n",
              "      <td>...</td>\n",
              "      <td>-0.256131</td>\n",
              "      <td>-0.253662</td>\n",
              "      <td>-0.118478</td>\n",
              "      <td>0.231433</td>\n",
              "      <td>-0.114872</td>\n",
              "      <td>-0.111837</td>\n",
              "      <td>0.005086</td>\n",
              "      <td>-0.260369</td>\n",
              "      <td>-0.239634</td>\n",
              "      <td>0.421723</td>\n",
              "    </tr>\n",
              "    <tr>\n",
              "      <th>Fare_Category_(7.854, 10.5]</th>\n",
              "      <td>-0.055563</td>\n",
              "      <td>-0.191707</td>\n",
              "      <td>0.331201</td>\n",
              "      <td>-0.078817</td>\n",
              "      <td>-0.193041</td>\n",
              "      <td>-0.198817</td>\n",
              "      <td>-0.234452</td>\n",
              "      <td>-0.235642</td>\n",
              "      <td>0.156222</td>\n",
              "      <td>-0.203069</td>\n",
              "      <td>...</td>\n",
              "      <td>-0.244290</td>\n",
              "      <td>1.000000</td>\n",
              "      <td>-0.096110</td>\n",
              "      <td>0.197043</td>\n",
              "      <td>-0.110641</td>\n",
              "      <td>-0.075299</td>\n",
              "      <td>-0.010358</td>\n",
              "      <td>-0.281522</td>\n",
              "      <td>-0.084821</td>\n",
              "      <td>0.313118</td>\n",
              "    </tr>\n",
              "    <tr>\n",
              "      <th>Pclass_3</th>\n",
              "      <td>-0.041544</td>\n",
              "      <td>-0.322308</td>\n",
              "      <td>0.915201</td>\n",
              "      <td>-0.383537</td>\n",
              "      <td>0.072610</td>\n",
              "      <td>0.019521</td>\n",
              "      <td>-0.419921</td>\n",
              "      <td>0.058430</td>\n",
              "      <td>0.116562</td>\n",
              "      <td>-0.171430</td>\n",
              "      <td>...</td>\n",
              "      <td>-0.435976</td>\n",
              "      <td>0.313118</td>\n",
              "      <td>0.103287</td>\n",
              "      <td>0.309142</td>\n",
              "      <td>-0.252922</td>\n",
              "      <td>-0.260854</td>\n",
              "      <td>-0.062486</td>\n",
              "      <td>-0.622172</td>\n",
              "      <td>-0.563180</td>\n",
              "      <td>1.000000</td>\n",
              "    </tr>\n",
              "    <tr>\n",
              "      <th>Pclass</th>\n",
              "      <td>-0.038354</td>\n",
              "      <td>-0.338481</td>\n",
              "      <td>1.000000</td>\n",
              "      <td>-0.451983</td>\n",
              "      <td>0.060832</td>\n",
              "      <td>0.018322</td>\n",
              "      <td>-0.558740</td>\n",
              "      <td>0.050027</td>\n",
              "      <td>0.124617</td>\n",
              "      <td>-0.269658</td>\n",
              "      <td>...</td>\n",
              "      <td>-0.616763</td>\n",
              "      <td>0.331201</td>\n",
              "      <td>0.127844</td>\n",
              "      <td>0.363903</td>\n",
              "      <td>-0.301654</td>\n",
              "      <td>-0.305133</td>\n",
              "      <td>-0.081258</td>\n",
              "      <td>-0.884911</td>\n",
              "      <td>-0.182413</td>\n",
              "      <td>0.915201</td>\n",
              "    </tr>\n",
              "    <tr>\n",
              "      <th>Sex_Numeric</th>\n",
              "      <td>0.013406</td>\n",
              "      <td>-0.543351</td>\n",
              "      <td>0.124617</td>\n",
              "      <td>0.074529</td>\n",
              "      <td>-0.109609</td>\n",
              "      <td>-0.213125</td>\n",
              "      <td>-0.185744</td>\n",
              "      <td>-0.188583</td>\n",
              "      <td>1.000000</td>\n",
              "      <td>-0.066564</td>\n",
              "      <td>...</td>\n",
              "      <td>-0.171396</td>\n",
              "      <td>0.156222</td>\n",
              "      <td>-0.085774</td>\n",
              "      <td>0.047468</td>\n",
              "      <td>-0.002936</td>\n",
              "      <td>-0.007394</td>\n",
              "      <td>0.058374</td>\n",
              "      <td>-0.107371</td>\n",
              "      <td>-0.028862</td>\n",
              "      <td>0.116562</td>\n",
              "    </tr>\n",
              "  </tbody>\n",
              "</table>\n",
              "<p>25 rows × 25 columns</p>\n",
              "</div>\n",
              "      <button class=\"colab-df-convert\" onclick=\"convertToInteractive('df-c20b8f1a-6aeb-4925-b9fc-7a99bd5898d5')\"\n",
              "              title=\"Convert this dataframe to an interactive table.\"\n",
              "              style=\"display:none;\">\n",
              "        \n",
              "  <svg xmlns=\"http://www.w3.org/2000/svg\" height=\"24px\"viewBox=\"0 0 24 24\"\n",
              "       width=\"24px\">\n",
              "    <path d=\"M0 0h24v24H0V0z\" fill=\"none\"/>\n",
              "    <path d=\"M18.56 5.44l.94 2.06.94-2.06 2.06-.94-2.06-.94-.94-2.06-.94 2.06-2.06.94zm-11 1L8.5 8.5l.94-2.06 2.06-.94-2.06-.94L8.5 2.5l-.94 2.06-2.06.94zm10 10l.94 2.06.94-2.06 2.06-.94-2.06-.94-.94-2.06-.94 2.06-2.06.94z\"/><path d=\"M17.41 7.96l-1.37-1.37c-.4-.4-.92-.59-1.43-.59-.52 0-1.04.2-1.43.59L10.3 9.45l-7.72 7.72c-.78.78-.78 2.05 0 2.83L4 21.41c.39.39.9.59 1.41.59.51 0 1.02-.2 1.41-.59l7.78-7.78 2.81-2.81c.8-.78.8-2.07 0-2.86zM5.41 20L4 18.59l7.72-7.72 1.47 1.35L5.41 20z\"/>\n",
              "  </svg>\n",
              "      </button>\n",
              "      \n",
              "  <style>\n",
              "    .colab-df-container {\n",
              "      display:flex;\n",
              "      flex-wrap:wrap;\n",
              "      gap: 12px;\n",
              "    }\n",
              "\n",
              "    .colab-df-convert {\n",
              "      background-color: #E8F0FE;\n",
              "      border: none;\n",
              "      border-radius: 50%;\n",
              "      cursor: pointer;\n",
              "      display: none;\n",
              "      fill: #1967D2;\n",
              "      height: 32px;\n",
              "      padding: 0 0 0 0;\n",
              "      width: 32px;\n",
              "    }\n",
              "\n",
              "    .colab-df-convert:hover {\n",
              "      background-color: #E2EBFA;\n",
              "      box-shadow: 0px 1px 2px rgba(60, 64, 67, 0.3), 0px 1px 3px 1px rgba(60, 64, 67, 0.15);\n",
              "      fill: #174EA6;\n",
              "    }\n",
              "\n",
              "    [theme=dark] .colab-df-convert {\n",
              "      background-color: #3B4455;\n",
              "      fill: #D2E3FC;\n",
              "    }\n",
              "\n",
              "    [theme=dark] .colab-df-convert:hover {\n",
              "      background-color: #434B5C;\n",
              "      box-shadow: 0px 1px 3px 1px rgba(0, 0, 0, 0.15);\n",
              "      filter: drop-shadow(0px 1px 2px rgba(0, 0, 0, 0.3));\n",
              "      fill: #FFFFFF;\n",
              "    }\n",
              "  </style>\n",
              "\n",
              "      <script>\n",
              "        const buttonEl =\n",
              "          document.querySelector('#df-c20b8f1a-6aeb-4925-b9fc-7a99bd5898d5 button.colab-df-convert');\n",
              "        buttonEl.style.display =\n",
              "          google.colab.kernel.accessAllowed ? 'block' : 'none';\n",
              "\n",
              "        async function convertToInteractive(key) {\n",
              "          const element = document.querySelector('#df-c20b8f1a-6aeb-4925-b9fc-7a99bd5898d5');\n",
              "          const dataTable =\n",
              "            await google.colab.kernel.invokeFunction('convertToInteractive',\n",
              "                                                     [key], {});\n",
              "          if (!dataTable) return;\n",
              "\n",
              "          const docLinkHtml = 'Like what you see? Visit the ' +\n",
              "            '<a target=\"_blank\" href=https://colab.research.google.com/notebooks/data_table.ipynb>data table notebook</a>'\n",
              "            + ' to learn more about interactive tables.';\n",
              "          element.innerHTML = '';\n",
              "          dataTable['output_type'] = 'display_data';\n",
              "          await google.colab.output.renderOutput(dataTable, element);\n",
              "          const docLink = document.createElement('div');\n",
              "          docLink.innerHTML = docLinkHtml;\n",
              "          element.appendChild(docLink);\n",
              "        }\n",
              "      </script>\n",
              "    </div>\n",
              "  </div>\n",
              "  "
            ]
          },
          "metadata": {},
          "execution_count": 61
        }
      ]
    },
    {
      "cell_type": "markdown",
      "source": [
        "The correlation ranges from around 0.28 to -0.54. I think I can drop 10 features with the lowest absolute value of correlation, leaving me with 14 most relevant features (besides Survived)."
      ],
      "metadata": {
        "id": "6wi-2iUYh0qg"
      }
    },
    {
      "cell_type": "code",
      "source": [
        "# sort 'Survived' feature by absolute value\n",
        "temp_matrix = corr_matrix[['Survived']].apply(np.abs).sort_values(by=['Survived'], ascending=False)\n",
        "# and drop the last 10\n",
        "temp_matrix.drop(temp_matrix.tail(10).index, inplace=True)\n",
        "\n",
        "# now get the important data using the remaining features\n",
        "important_data = all_data[temp_matrix.index]\n",
        "important_data.info()\n"
      ],
      "metadata": {
        "colab": {
          "base_uri": "https://localhost:8080/"
        },
        "id": "erxAustThr6o",
        "outputId": "7a43640b-1346-436b-ef3e-588ff398ece3"
      },
      "execution_count": null,
      "outputs": [
        {
          "output_type": "stream",
          "name": "stdout",
          "text": [
            "<class 'pandas.core.frame.DataFrame'>\n",
            "RangeIndex: 1309 entries, 0 to 1308\n",
            "Data columns (total 15 columns):\n",
            " #   Column                           Non-Null Count  Dtype  \n",
            "---  ------                           --------------  -----  \n",
            " 0   Survived                         891 non-null    float64\n",
            " 1   Sex_Numeric                      1309 non-null   float16\n",
            " 2   Pclass                           1309 non-null   int64  \n",
            " 3   Pclass_3                         1309 non-null   float64\n",
            " 4   Pclass_1                         1309 non-null   float64\n",
            " 5   Fare_Category_(41.579, 512.329]  1309 non-null   float64\n",
            " 6   Fare                             1309 non-null   float64\n",
            " 7   Fare_Category_(7.854, 10.5]      1309 non-null   float64\n",
            " 8   Fare_Category_(-0.001, 7.854]    1309 non-null   float64\n",
            " 9   Embarked_C                       1309 non-null   float64\n",
            " 10  Embarked_S                       1309 non-null   float64\n",
            " 11  Age_Category_(-0.08, 16.0]       1309 non-null   float64\n",
            " 12  Age_Category_(16.0, 32.0]        1309 non-null   float64\n",
            " 13  Pclass_2                         1309 non-null   float64\n",
            " 14  Parch                            1309 non-null   int64  \n",
            "dtypes: float16(1), float64(12), int64(2)\n",
            "memory usage: 145.9 KB\n"
          ]
        }
      ]
    },
    {
      "cell_type": "markdown",
      "source": [
        "### Prepare training and testing data.\n",
        "\n",
        "X_train: dataframe with except for 'survived'. The rows that has 'survived' filled  will be train, otherwise test.\n",
        "\n",
        "Y_train: dataframe with only targets for X-train (survived feature)\n",
        "\n",
        "X_test: Like X-train, but the rows without 'survived' filled\n",
        "\n",
        "\n"
      ],
      "metadata": {
        "id": "9oia_Cnimv5i"
      }
    },
    {
      "cell_type": "code",
      "source": [
        "# Non-NaN Survived rows will be used for training\n",
        "# drop Survived column because it's for Y_train\n",
        "X_train = important_data[important_data['Survived'].notnull()].drop('Survived', axis=1)\n",
        "X_train.info()"
      ],
      "metadata": {
        "colab": {
          "base_uri": "https://localhost:8080/"
        },
        "id": "Dqh_NGUnmy7z",
        "outputId": "92ea7b1f-b0c6-4c85-a455-b3a643a8fa68"
      },
      "execution_count": null,
      "outputs": [
        {
          "output_type": "stream",
          "name": "stdout",
          "text": [
            "<class 'pandas.core.frame.DataFrame'>\n",
            "Int64Index: 891 entries, 0 to 890\n",
            "Data columns (total 14 columns):\n",
            " #   Column                           Non-Null Count  Dtype  \n",
            "---  ------                           --------------  -----  \n",
            " 0   Sex_Numeric                      891 non-null    float16\n",
            " 1   Pclass                           891 non-null    int64  \n",
            " 2   Pclass_3                         891 non-null    float64\n",
            " 3   Pclass_1                         891 non-null    float64\n",
            " 4   Fare_Category_(41.579, 512.329]  891 non-null    float64\n",
            " 5   Fare                             891 non-null    float64\n",
            " 6   Fare_Category_(7.854, 10.5]      891 non-null    float64\n",
            " 7   Fare_Category_(-0.001, 7.854]    891 non-null    float64\n",
            " 8   Embarked_C                       891 non-null    float64\n",
            " 9   Embarked_S                       891 non-null    float64\n",
            " 10  Age_Category_(-0.08, 16.0]       891 non-null    float64\n",
            " 11  Age_Category_(16.0, 32.0]        891 non-null    float64\n",
            " 12  Pclass_2                         891 non-null    float64\n",
            " 13  Parch                            891 non-null    int64  \n",
            "dtypes: float16(1), float64(11), int64(2)\n",
            "memory usage: 99.2 KB\n"
          ]
        }
      ]
    },
    {
      "cell_type": "code",
      "source": [
        "# Get the non-NaN Survived rows in a 1-D array\n",
        "# data type converted to int so the training model can learn easier\n",
        "Y_train = important_data['Survived'].dropna().astype(int)\n",
        "Y_train"
      ],
      "metadata": {
        "colab": {
          "base_uri": "https://localhost:8080/"
        },
        "id": "m5fWWHmAy3nW",
        "outputId": "5b34b8e4-6476-4090-d98a-a891413a5848"
      },
      "execution_count": null,
      "outputs": [
        {
          "output_type": "execute_result",
          "data": {
            "text/plain": [
              "0      0\n",
              "1      1\n",
              "2      1\n",
              "3      1\n",
              "4      0\n",
              "      ..\n",
              "886    0\n",
              "887    1\n",
              "888    0\n",
              "889    1\n",
              "890    0\n",
              "Name: Survived, Length: 891, dtype: int64"
            ]
          },
          "metadata": {},
          "execution_count": 116
        }
      ]
    },
    {
      "cell_type": "code",
      "source": [
        "# NaN Survived rows will be used for testing\n",
        "X_test = important_data[important_data['Survived'].isna()].drop('Survived', axis=1)\n",
        "X_test.info()"
      ],
      "metadata": {
        "colab": {
          "base_uri": "https://localhost:8080/"
        },
        "id": "yk24FZAKxruc",
        "outputId": "84fe5f98-d8f8-45d4-8f89-80a48d8cce26"
      },
      "execution_count": null,
      "outputs": [
        {
          "output_type": "stream",
          "name": "stdout",
          "text": [
            "<class 'pandas.core.frame.DataFrame'>\n",
            "Int64Index: 418 entries, 891 to 1308\n",
            "Data columns (total 14 columns):\n",
            " #   Column                           Non-Null Count  Dtype  \n",
            "---  ------                           --------------  -----  \n",
            " 0   Sex_Numeric                      418 non-null    float16\n",
            " 1   Pclass                           418 non-null    int64  \n",
            " 2   Pclass_3                         418 non-null    float64\n",
            " 3   Pclass_1                         418 non-null    float64\n",
            " 4   Fare_Category_(41.579, 512.329]  418 non-null    float64\n",
            " 5   Fare                             418 non-null    float64\n",
            " 6   Fare_Category_(7.854, 10.5]      418 non-null    float64\n",
            " 7   Fare_Category_(-0.001, 7.854]    418 non-null    float64\n",
            " 8   Embarked_C                       418 non-null    float64\n",
            " 9   Embarked_S                       418 non-null    float64\n",
            " 10  Age_Category_(-0.08, 16.0]       418 non-null    float64\n",
            " 11  Age_Category_(16.0, 32.0]        418 non-null    float64\n",
            " 12  Pclass_2                         418 non-null    float64\n",
            " 13  Parch                            418 non-null    int64  \n",
            "dtypes: float16(1), float64(11), int64(2)\n",
            "memory usage: 46.5 KB\n"
          ]
        }
      ]
    },
    {
      "cell_type": "markdown",
      "source": [
        "Use StandardScaler of Scikit Learn to scale the 'Fare' feature of both X_train and X_test. Overwrite the 'Fare' column."
      ],
      "metadata": {
        "id": "65bShXhL1ay0"
      }
    },
    {
      "cell_type": "code",
      "source": [
        "from sklearn.preprocessing import StandardScaler\n",
        "\n",
        "# initialize the scaler\n",
        "scaler = StandardScaler()\n",
        "\n",
        "# transform data\n",
        "X_train['Fare'] = scaler.fit_transform(X_train[['Fare']])\n",
        "X_test['Fare'] = scaler.fit_transform(X_test[['Fare']])\n"
      ],
      "metadata": {
        "id": "NyoUVxGZ1e9I"
      },
      "execution_count": null,
      "outputs": []
    },
    {
      "cell_type": "markdown",
      "source": [
        "## Models, hyperparameter tuning, and ensemble learning\n"
      ],
      "metadata": {
        "id": "PW-xDf9Evqd-"
      }
    },
    {
      "cell_type": "markdown",
      "source": [
        "### Models\n",
        "\n",
        "For each of the algorithms listed below, I will use Scikit-Learn's cross-validation feature to measure the performance and print out the mean and std for each algorithm.\n",
        "\n",
        "1. Stochastic Gradient Descent (SGD)\n",
        "2. LogisticRegression\n",
        "3. Support Vector Machine (kernel='linear' parameter)\n",
        "4. Support Vector Machine (kernel = 'rbf' parameter)\n",
        "5. DecisionTreeClassifier\n",
        "6. RandomForestClassifier\n",
        "7. ExtraTreesClassifier\n",
        "8. AdaBoostClassifier\n",
        "9. GradientBoostingClassifier\n",
        "10. XGBoost\n",
        "\n",
        "I will use the following parameters:\n",
        "\n",
        "* Set the scoring parameter of cross-validation to 'f1'\n",
        "* Use the default cv = 5 parameter of cross-validation\n",
        "* Use random_state = 42 for initializing model algorithms\n"
      ],
      "metadata": {
        "id": "LDrEnS6q4cxo"
      }
    },
    {
      "cell_type": "code",
      "source": [
        "# First, remove the ] from the feature name why switching it to ),\n",
        "# since XGBoost doesn't like it.\n",
        "X_train.columns = X_train.columns.str.replace(r\"[]]\", \")\", regex=True)\n",
        "X_test.columns = X_test.columns.str.replace(r\"[]]\", \")\", regex=True)"
      ],
      "metadata": {
        "id": "6ILQIc51muAR"
      },
      "execution_count": null,
      "outputs": []
    },
    {
      "cell_type": "code",
      "source": [
        "from sklearn.linear_model import LogisticRegression, SGDClassifier\n",
        "from sklearn.svm import SVC\n",
        "from sklearn.tree import DecisionTreeClassifier\n",
        "from sklearn.ensemble import RandomForestClassifier, AdaBoostClassifier, GradientBoostingClassifier, ExtraTreesClassifier\n",
        "from xgboost import XGBClassifier\n",
        "\n",
        "from sklearn.model_selection import cross_val_score\n",
        "\n",
        "# to keep the result consistent for multiple tries\n",
        "the_random_state = 42\n",
        "\n",
        "models = [] # append all models or predictive models\n",
        "cv_results = [] # cross validation result\n",
        "cv_means = [] # cross validation mean value\n",
        "cv_std = [] # cross validation standard deviation\n",
        "\n",
        "# Stochastic Gradient Descent (SGD)\n",
        "models.append(SGDClassifier(random_state = the_random_state))\n",
        "\n",
        "# Logistic Regression\n",
        "models.append(LogisticRegression(random_state = the_random_state))\n",
        "\n",
        "# Support Vector Machine (kernel='linear' parameter)\n",
        "models.append(SVC(kernel = 'linear', random_state = the_random_state))\n",
        "\n",
        "# Support Vector Machine (kernel='rbf' parameter)\n",
        "models.append(SVC(kernel = 'rbf', random_state = the_random_state))\n",
        "\n",
        "# DecisionTreeClassifier\n",
        "models.append(DecisionTreeClassifier(random_state = the_random_state))\n",
        "\n",
        "# RandomForestClassifier\n",
        "models.append(RandomForestClassifier(random_state = the_random_state))\n",
        "\n",
        "# ExtraTreesClassifier\n",
        "models.append(ExtraTreesClassifier(random_state = the_random_state))\n",
        "\n",
        "# AdaBoostClassifier\n",
        "models.append(AdaBoostClassifier(DecisionTreeClassifier(random_state = the_random_state)))\n",
        "\n",
        "# GradientBoostingClassifier\n",
        "models.append(GradientBoostingClassifier(random_state = the_random_state))\n",
        "\n",
        "# XGBoost\n",
        "models.append(XGBClassifier(random_state = the_random_state))"
      ],
      "metadata": {
        "id": "eWMFe_7q48Im"
      },
      "execution_count": null,
      "outputs": []
    },
    {
      "cell_type": "code",
      "source": [
        "# fit and test\n",
        "for model in models :\n",
        "  cv_results.append(cross_val_score(model, X_train, Y_train, scoring=\"f1\", cv=5))\n",
        "\n",
        "# keep the score\n",
        "for cv_result in cv_results:\n",
        "  cv_means.append(cv_result.mean())\n",
        "  cv_std.append(cv_result.std())"
      ],
      "metadata": {
        "id": "BAl8Q55DIVYl"
      },
      "execution_count": null,
      "outputs": []
    },
    {
      "cell_type": "code",
      "source": [
        "import matplotlib.pyplot as plt\n",
        "import seaborn as sns\n",
        "\n",
        "# Make a dataframe to show the result\n",
        "cv_frame = pd.DataFrame(\n",
        "    {\n",
        "        \"CrossValMeans\":cv_means,\n",
        "        \"CrossValErrors\": cv_std,\n",
        "        \"Algorithms\":[\n",
        "                     \"Stochastic Gradient Descent\",\n",
        "                     \"Logistic Regression\",\n",
        "                     \"Support Vector Machine (Linear)\",\n",
        "                     \"Support Vector Machine (RBF)\",\n",
        "                     \"DecisionTreeClassifier\",\n",
        "                     \"RandomForestClassifier\",\n",
        "                     \"ExtraTreesClassifier\",\n",
        "                     \"AdaBoostClassifier\",\n",
        "                     \"GradientBoostingClassifier\",\n",
        "                     \"XGBoost\"\n",
        "                     ]\n",
        "    })\n",
        "\n",
        "# sort the result in descending order\n",
        "cv_frame.sort_values(by=['CrossValMeans'], ascending=False, inplace=True)\n",
        "\n",
        "# plot the result (mean) and the std will be the error bar\n",
        "cv_plot = sns.barplot(x=\"CrossValMeans\",y=\"Algorithms\", data = cv_frame,\n",
        "                palette=\"husl\", orient = \"h\", **{'xerr':cv_frame['CrossValErrors']})\n",
        "\n",
        "cv_plot.set_xlabel(\"Mean Accuracy\")\n",
        "cv_plot = cv_plot.set_title(\"CV Scores\")\n"
      ],
      "metadata": {
        "colab": {
          "base_uri": "https://localhost:8080/",
          "height": 295
        },
        "id": "sxsdnoRfJtS6",
        "outputId": "5053a1a7-dd37-49da-9b2d-9ee70b97f898"
      },
      "execution_count": null,
      "outputs": [
        {
          "output_type": "display_data",
          "data": {
            "text/plain": [
              "<Figure size 432x288 with 1 Axes>"
            ],
            "image/png": "[encoded data removed]"
          },
          "metadata": {
            "needs_background": "light"
          }
        }
      ]
    },
    {
      "cell_type": "code",
      "source": [
        "# display the result dataframe too\n",
        "cv_frame"
      ],
      "metadata": {
        "colab": {
          "base_uri": "https://localhost:8080/",
          "height": 363
        },
        "id": "WslnWNpCo1cu",
        "outputId": "799b5e9a-b49c-42a9-f61a-75fc330885c6"
      },
      "execution_count": null,
      "outputs": [
        {
          "output_type": "execute_result",
          "data": {
            "text/plain": [
              "   CrossValMeans  CrossValErrors                       Algorithms\n",
              "8       0.746333        0.052286       GradientBoostingClassifier\n",
              "3       0.737288        0.020952     Support Vector Machine (RBF)\n",
              "9       0.727414        0.048552                          XGBoost\n",
              "5       0.724844        0.027706           RandomForestClassifier\n",
              "6       0.718064        0.033734             ExtraTreesClassifier\n",
              "4       0.715055        0.038707           DecisionTreeClassifier\n",
              "1       0.710921        0.036351              Logistic Regression\n",
              "2       0.709268        0.034996  Support Vector Machine (Linear)\n",
              "7       0.701494        0.026903               AdaBoostClassifier\n",
              "0       0.691672        0.038631      Stochastic Gradient Descent"
            ],
            "text/html": [
              "\n",
              "  <div id=\"df-3dcb0334-8b3a-496f-ba20-ccb0614cb0d1\">\n",
              "    <div class=\"colab-df-container\">\n",
              "      <div>\n",
              "<style scoped>\n",
              "    .dataframe tbody tr th:only-of-type {\n",
              "        vertical-align: middle;\n",
              "    }\n",
              "\n",
              "    .dataframe tbody tr th {\n",
              "        vertical-align: top;\n",
              "    }\n",
              "\n",
              "    .dataframe thead th {\n",
              "        text-align: right;\n",
              "    }\n",
              "</style>\n",
              "<table border=\"1\" class=\"dataframe\">\n",
              "  <thead>\n",
              "    <tr style=\"text-align: right;\">\n",
              "      <th></th>\n",
              "      <th>CrossValMeans</th>\n",
              "      <th>CrossValErrors</th>\n",
              "      <th>Algorithms</th>\n",
              "    </tr>\n",
              "  </thead>\n",
              "  <tbody>\n",
              "    <tr>\n",
              "      <th>8</th>\n",
              "      <td>0.746333</td>\n",
              "      <td>0.052286</td>\n",
              "      <td>GradientBoostingClassifier</td>\n",
              "    </tr>\n",
              "    <tr>\n",
              "      <th>3</th>\n",
              "      <td>0.737288</td>\n",
              "      <td>0.020952</td>\n",
              "      <td>Support Vector Machine (RBF)</td>\n",
              "    </tr>\n",
              "    <tr>\n",
              "      <th>9</th>\n",
              "      <td>0.727414</td>\n",
              "      <td>0.048552</td>\n",
              "      <td>XGBoost</td>\n",
              "    </tr>\n",
              "    <tr>\n",
              "      <th>5</th>\n",
              "      <td>0.724844</td>\n",
              "      <td>0.027706</td>\n",
              "      <td>RandomForestClassifier</td>\n",
              "    </tr>\n",
              "    <tr>\n",
              "      <th>6</th>\n",
              "      <td>0.718064</td>\n",
              "      <td>0.033734</td>\n",
              "      <td>ExtraTreesClassifier</td>\n",
              "    </tr>\n",
              "    <tr>\n",
              "      <th>4</th>\n",
              "      <td>0.715055</td>\n",
              "      <td>0.038707</td>\n",
              "      <td>DecisionTreeClassifier</td>\n",
              "    </tr>\n",
              "    <tr>\n",
              "      <th>1</th>\n",
              "      <td>0.710921</td>\n",
              "      <td>0.036351</td>\n",
              "      <td>Logistic Regression</td>\n",
              "    </tr>\n",
              "    <tr>\n",
              "      <th>2</th>\n",
              "      <td>0.709268</td>\n",
              "      <td>0.034996</td>\n",
              "      <td>Support Vector Machine (Linear)</td>\n",
              "    </tr>\n",
              "    <tr>\n",
              "      <th>7</th>\n",
              "      <td>0.701494</td>\n",
              "      <td>0.026903</td>\n",
              "      <td>AdaBoostClassifier</td>\n",
              "    </tr>\n",
              "    <tr>\n",
              "      <th>0</th>\n",
              "      <td>0.691672</td>\n",
              "      <td>0.038631</td>\n",
              "      <td>Stochastic Gradient Descent</td>\n",
              "    </tr>\n",
              "  </tbody>\n",
              "</table>\n",
              "</div>\n",
              "      <button class=\"colab-df-convert\" onclick=\"convertToInteractive('df-3dcb0334-8b3a-496f-ba20-ccb0614cb0d1')\"\n",
              "              title=\"Convert this dataframe to an interactive table.\"\n",
              "              style=\"display:none;\">\n",
              "        \n",
              "  <svg xmlns=\"http://www.w3.org/2000/svg\" height=\"24px\"viewBox=\"0 0 24 24\"\n",
              "       width=\"24px\">\n",
              "    <path d=\"M0 0h24v24H0V0z\" fill=\"none\"/>\n",
              "    <path d=\"M18.56 5.44l.94 2.06.94-2.06 2.06-.94-2.06-.94-.94-2.06-.94 2.06-2.06.94zm-11 1L8.5 8.5l.94-2.06 2.06-.94-2.06-.94L8.5 2.5l-.94 2.06-2.06.94zm10 10l.94 2.06.94-2.06 2.06-.94-2.06-.94-.94-2.06-.94 2.06-2.06.94z\"/><path d=\"M17.41 7.96l-1.37-1.37c-.4-.4-.92-.59-1.43-.59-.52 0-1.04.2-1.43.59L10.3 9.45l-7.72 7.72c-.78.78-.78 2.05 0 2.83L4 21.41c.39.39.9.59 1.41.59.51 0 1.02-.2 1.41-.59l7.78-7.78 2.81-2.81c.8-.78.8-2.07 0-2.86zM5.41 20L4 18.59l7.72-7.72 1.47 1.35L5.41 20z\"/>\n",
              "  </svg>\n",
              "      </button>\n",
              "      \n",
              "  <style>\n",
              "    .colab-df-container {\n",
              "      display:flex;\n",
              "      flex-wrap:wrap;\n",
              "      gap: 12px;\n",
              "    }\n",
              "\n",
              "    .colab-df-convert {\n",
              "      background-color: #E8F0FE;\n",
              "      border: none;\n",
              "      border-radius: 50%;\n",
              "      cursor: pointer;\n",
              "      display: none;\n",
              "      fill: #1967D2;\n",
              "      height: 32px;\n",
              "      padding: 0 0 0 0;\n",
              "      width: 32px;\n",
              "    }\n",
              "\n",
              "    .colab-df-convert:hover {\n",
              "      background-color: #E2EBFA;\n",
              "      box-shadow: 0px 1px 2px rgba(60, 64, 67, 0.3), 0px 1px 3px 1px rgba(60, 64, 67, 0.15);\n",
              "      fill: #174EA6;\n",
              "    }\n",
              "\n",
              "    [theme=dark] .colab-df-convert {\n",
              "      background-color: #3B4455;\n",
              "      fill: #D2E3FC;\n",
              "    }\n",
              "\n",
              "    [theme=dark] .colab-df-convert:hover {\n",
              "      background-color: #434B5C;\n",
              "      box-shadow: 0px 1px 3px 1px rgba(0, 0, 0, 0.15);\n",
              "      filter: drop-shadow(0px 1px 2px rgba(0, 0, 0, 0.3));\n",
              "      fill: #FFFFFF;\n",
              "    }\n",
              "  </style>\n",
              "\n",
              "      <script>\n",
              "        const buttonEl =\n",
              "          document.querySelector('#df-3dcb0334-8b3a-496f-ba20-ccb0614cb0d1 button.colab-df-convert');\n",
              "        buttonEl.style.display =\n",
              "          google.colab.kernel.accessAllowed ? 'block' : 'none';\n",
              "\n",
              "        async function convertToInteractive(key) {\n",
              "          const element = document.querySelector('#df-3dcb0334-8b3a-496f-ba20-ccb0614cb0d1');\n",
              "          const dataTable =\n",
              "            await google.colab.kernel.invokeFunction('convertToInteractive',\n",
              "                                                     [key], {});\n",
              "          if (!dataTable) return;\n",
              "\n",
              "          const docLinkHtml = 'Like what you see? Visit the ' +\n",
              "            '<a target=\"_blank\" href=https://colab.research.google.com/notebooks/data_table.ipynb>data table notebook</a>'\n",
              "            + ' to learn more about interactive tables.';\n",
              "          element.innerHTML = '';\n",
              "          dataTable['output_type'] = 'display_data';\n",
              "          await google.colab.output.renderOutput(dataTable, element);\n",
              "          const docLink = document.createElement('div');\n",
              "          docLink.innerHTML = docLinkHtml;\n",
              "          element.appendChild(docLink);\n",
              "        }\n",
              "      </script>\n",
              "    </div>\n",
              "  </div>\n",
              "  "
            ]
          },
          "metadata": {},
          "execution_count": 231
        }
      ]
    },
    {
      "cell_type": "markdown",
      "source": [
        "Mean and std scores for each algorithm\n",
        "\n",
        "Algorithm: Mean Score - Std\n",
        "\n"
      ],
      "metadata": {
        "id": "mnYubJ2-rcxh"
      }
    },
    {
      "cell_type": "code",
      "source": [
        "for i in range(0,10):\n",
        "  print(str(i+1) + \". \" + cv_frame['Algorithms'][i]\n",
        "        + \" : \" + str(cv_frame['CrossValMeans'][i])[:6]\n",
        "        + \" - \" + str(cv_frame['CrossValErrors'][i])[:6])"
      ],
      "metadata": {
        "colab": {
          "base_uri": "https://localhost:8080/"
        },
        "id": "vU1NM079sFvf",
        "outputId": "c6b03285-e08b-4f67-a54b-4b28618436f3"
      },
      "execution_count": null,
      "outputs": [
        {
          "output_type": "stream",
          "name": "stdout",
          "text": [
            "1. Stochastic Gradient Descent : 0.6916 - 0.0386\n",
            "2. Logistic Regression : 0.7109 - 0.0363\n",
            "3. Support Vector Machine (Linear) : 0.7092 - 0.0349\n",
            "4. Support Vector Machine (RBF) : 0.7372 - 0.0209\n",
            "5. DecisionTreeClassifier : 0.7150 - 0.0387\n",
            "6. RandomForestClassifier : 0.7248 - 0.0277\n",
            "7. ExtraTreesClassifier : 0.7180 - 0.0337\n",
            "8. AdaBoostClassifier : 0.7014 - 0.0269\n",
            "9. GradientBoostingClassifier : 0.7463 - 0.0522\n",
            "10. XGBoost : 0.7274 - 0.0485\n"
          ]
        }
      ]
    },
    {
      "cell_type": "markdown",
      "source": [
        "### Hyperparamter tuning\n",
        "\n",
        "I looks like Gradient boost performs the best with default parameters. However, I can make it better with hyperparameter tuning using GridSearchCV. I will check the top 3 best performing models with the following hyperparameters:\n",
        "\n",
        "n_estimators = [300, 400, 500]\n",
        "\n",
        "learning_rate = [0.3, 0.1, 0.05]\n",
        "\n",
        "max_features = [1, 0.5, 0.3]\n",
        "\n",
        "subsample = [1, 0.5, 0.3]\n",
        "\n",
        "max_samples = [1, 0.5, 0.3]\n",
        "\n",
        "bootstrap = [True, False]\n",
        "\n",
        "\n"
      ],
      "metadata": {
        "id": "e-PAMY93BW80"
      }
    },
    {
      "cell_type": "markdown",
      "source": [
        "Gradient Boost"
      ],
      "metadata": {
        "id": "eUNb8Si3GSDc"
      }
    },
    {
      "cell_type": "code",
      "source": [
        "# Gradient Boost hyperparameters\n",
        "models[8].get_params().keys()"
      ],
      "metadata": {
        "colab": {
          "base_uri": "https://localhost:8080/"
        },
        "id": "xofn3N3S6LKH",
        "outputId": "95a53ef1-d611-45dd-b462-a66386450e39"
      },
      "execution_count": null,
      "outputs": [
        {
          "output_type": "execute_result",
          "data": {
            "text/plain": [
              "dict_keys(['ccp_alpha', 'criterion', 'init', 'learning_rate', 'loss', 'max_depth', 'max_features', 'max_leaf_nodes', 'min_impurity_decrease', 'min_samples_leaf', 'min_samples_split', 'min_weight_fraction_leaf', 'n_estimators', 'n_iter_no_change', 'random_state', 'subsample', 'tol', 'validation_fraction', 'verbose', 'warm_start'])"
            ]
          },
          "metadata": {},
          "execution_count": 233
        }
      ]
    },
    {
      "cell_type": "code",
      "source": [
        "from sklearn.model_selection import GridSearchCV\n",
        "\n",
        "new_scoring_parameter = 'f1'\n",
        "new_cv = 10\n",
        "\n",
        "gbc = GradientBoostingClassifier(random_state = the_random_state)\n",
        "\n",
        "gb_param_grid = {\n",
        "'n_estimators':[300, 400, 500],\n",
        "'learning_rate':[0.3, 0.1, 0.05],\n",
        "'max_features':[1, 0.5, 0.3],\n",
        "'subsample':[1, 0.5, 0.3]\n",
        "}\n",
        "\n",
        "gsGBC = GridSearchCV(gbc, param_grid = gb_param_grid, cv=new_cv,\n",
        "scoring=new_scoring_parameter)\n",
        "\n",
        "gsGBC.fit(X_train,Y_train)"
      ],
      "metadata": {
        "colab": {
          "base_uri": "https://localhost:8080/"
        },
        "id": "7DG1DHGi2hk8",
        "outputId": "19bd5e3b-0688-4e16-cc71-ab52043846c8"
      },
      "execution_count": null,
      "outputs": [
        {
          "output_type": "execute_result",
          "data": {
            "text/plain": [
              "GridSearchCV(cv=10, estimator=GradientBoostingClassifier(random_state=42),\n",
              "             param_grid={'learning_rate': [0.3, 0.1, 0.05],\n",
              "                         'max_features': [1, 0.5, 0.3],\n",
              "                         'n_estimators': [300, 400, 500],\n",
              "                         'subsample': [1, 0.5, 0.3]},\n",
              "             scoring='f1')"
            ]
          },
          "metadata": {},
          "execution_count": 234
        }
      ]
    },
    {
      "cell_type": "code",
      "source": [
        "gsGBC.best_score_"
      ],
      "metadata": {
        "colab": {
          "base_uri": "https://localhost:8080/"
        },
        "id": "n-GjLjdq9Bu7",
        "outputId": "1706aaff-efc9-4745-a7c8-63ac39aca43b"
      },
      "execution_count": null,
      "outputs": [
        {
          "output_type": "execute_result",
          "data": {
            "text/plain": [
              "0.7676098258492601"
            ]
          },
          "metadata": {},
          "execution_count": 235
        }
      ]
    },
    {
      "cell_type": "code",
      "source": [
        "gsGBC.best_params_"
      ],
      "metadata": {
        "colab": {
          "base_uri": "https://localhost:8080/"
        },
        "id": "5IkaQNy_81GX",
        "outputId": "e7fed6e8-779a-433d-b266-3ce214f3e93c"
      },
      "execution_count": null,
      "outputs": [
        {
          "output_type": "execute_result",
          "data": {
            "text/plain": [
              "{'learning_rate': 0.1,\n",
              " 'max_features': 0.3,\n",
              " 'n_estimators': 400,\n",
              " 'subsample': 0.5}"
            ]
          },
          "metadata": {},
          "execution_count": 236
        }
      ]
    },
    {
      "cell_type": "markdown",
      "source": [
        " The second best model is Support Vector Machine (RBF). However, I think I found a bug where the VotingClassifier cannot take a model with 'class_weight'. So I'll use the next best model, which is RandomForestClassifier."
      ],
      "metadata": {
        "id": "AIy88hIaGNd8"
      }
    },
    {
      "cell_type": "code",
      "source": [
        "models[5].get_params().keys()"
      ],
      "metadata": {
        "colab": {
          "base_uri": "https://localhost:8080/"
        },
        "id": "boO0VUIPiB47",
        "outputId": "165138f5-5769-457d-a219-d449b80cdc7a"
      },
      "execution_count": null,
      "outputs": [
        {
          "output_type": "execute_result",
          "data": {
            "text/plain": [
              "dict_keys(['bootstrap', 'ccp_alpha', 'class_weight', 'criterion', 'max_depth', 'max_features', 'max_leaf_nodes', 'max_samples', 'min_impurity_decrease', 'min_samples_leaf', 'min_samples_split', 'min_weight_fraction_leaf', 'n_estimators', 'n_jobs', 'oob_score', 'random_state', 'verbose', 'warm_start'])"
            ]
          },
          "metadata": {},
          "execution_count": 272
        }
      ]
    },
    {
      "cell_type": "code",
      "source": [
        "rfc = RandomForestClassifier(random_state = the_random_state)\n",
        "\n",
        "rfc_param_grid = {\n",
        "    'bootstrap': [True, False],\n",
        "    'n_estimators':[300, 400, 500],\n",
        "    'max_features':[1, 0.5, 0.3]}\n",
        "\n",
        "gs_rfc = GridSearchCV(rfc, param_grid = rfc_param_grid, cv=new_cv,\n",
        "scoring=new_scoring_parameter)\n",
        "\n",
        "gs_rfc.fit(X_train,Y_train)\n"
      ],
      "metadata": {
        "colab": {
          "base_uri": "https://localhost:8080/"
        },
        "id": "wdDXDLmN6W6g",
        "outputId": "3d18efc5-4a14-4e7e-f186-4c0f0b85584d"
      },
      "execution_count": null,
      "outputs": [
        {
          "output_type": "execute_result",
          "data": {
            "text/plain": [
              "GridSearchCV(cv=10, estimator=RandomForestClassifier(random_state=42),\n",
              "             param_grid={'bootstrap': [True, False],\n",
              "                         'max_features': [1, 0.5, 0.3],\n",
              "                         'n_estimators': [300, 400, 500]},\n",
              "             scoring='f1')"
            ]
          },
          "metadata": {},
          "execution_count": 273
        }
      ]
    },
    {
      "cell_type": "code",
      "source": [
        "gs_rfc.best_score_"
      ],
      "metadata": {
        "colab": {
          "base_uri": "https://localhost:8080/"
        },
        "id": "wjXrFIfiGYw3",
        "outputId": "3138c051-2869-4cd9-f85c-be7c8febeda5"
      },
      "execution_count": null,
      "outputs": [
        {
          "output_type": "execute_result",
          "data": {
            "text/plain": [
              "0.7410074219524666"
            ]
          },
          "metadata": {},
          "execution_count": 274
        }
      ]
    },
    {
      "cell_type": "code",
      "source": [
        "gs_rfc.best_params_"
      ],
      "metadata": {
        "colab": {
          "base_uri": "https://localhost:8080/"
        },
        "id": "KYrTRDhfGYg3",
        "outputId": "75bd49e3-63a3-4deb-cfcd-7ca71378d7fa"
      },
      "execution_count": null,
      "outputs": [
        {
          "output_type": "execute_result",
          "data": {
            "text/plain": [
              "{'bootstrap': True, 'max_features': 0.5, 'n_estimators': 500}"
            ]
          },
          "metadata": {},
          "execution_count": 275
        }
      ]
    },
    {
      "cell_type": "markdown",
      "source": [
        "XGBoost"
      ],
      "metadata": {
        "id": "i-7ndyJMGWKW"
      }
    },
    {
      "cell_type": "code",
      "source": [
        "# XGBoost hyperparameters\n",
        "models[9].get_params().keys()"
      ],
      "metadata": {
        "colab": {
          "base_uri": "https://localhost:8080/"
        },
        "id": "F-8TmNdS4xaQ",
        "outputId": "b1b73ed0-8a90-40de-a016-035a38f1e2a8"
      },
      "execution_count": null,
      "outputs": [
        {
          "output_type": "execute_result",
          "data": {
            "text/plain": [
              "dict_keys(['base_score', 'booster', 'colsample_bylevel', 'colsample_bynode', 'colsample_bytree', 'gamma', 'learning_rate', 'max_delta_step', 'max_depth', 'min_child_weight', 'missing', 'n_estimators', 'n_jobs', 'nthread', 'objective', 'random_state', 'reg_alpha', 'reg_lambda', 'scale_pos_weight', 'seed', 'silent', 'subsample', 'verbosity'])"
            ]
          },
          "metadata": {},
          "execution_count": 241
        }
      ]
    },
    {
      "cell_type": "code",
      "source": [
        "xgbc = XGBClassifier(random_state = the_random_state)\n",
        "\n",
        "xgbc_param_grid = {\n",
        "'n_estimators':[300, 400, 500],\n",
        "'learning_rate':[0.3, 0.1, 0.05],\n",
        "'subsample':[1, 0.5, 0.3]\n",
        "}\n",
        "\n",
        "gsXGBC = GridSearchCV(xgbc, param_grid = xgbc_param_grid, cv=new_cv,\n",
        "scoring=new_scoring_parameter)\n",
        "\n",
        "gsXGBC.fit(X_train,Y_train)"
      ],
      "metadata": {
        "colab": {
          "base_uri": "https://localhost:8080/"
        },
        "id": "DPwGmkLA6XVH",
        "outputId": "e46787f7-ea70-4ef4-cef1-318192e313b6"
      },
      "execution_count": null,
      "outputs": [
        {
          "output_type": "execute_result",
          "data": {
            "text/plain": [
              "GridSearchCV(cv=10, estimator=XGBClassifier(random_state=42),\n",
              "             param_grid={'learning_rate': [0.3, 0.1, 0.05],\n",
              "                         'n_estimators': [300, 400, 500],\n",
              "                         'subsample': [1, 0.5, 0.3]},\n",
              "             scoring='f1')"
            ]
          },
          "metadata": {},
          "execution_count": 242
        }
      ]
    },
    {
      "cell_type": "code",
      "source": [
        "gsXGBC.best_score_"
      ],
      "metadata": {
        "colab": {
          "base_uri": "https://localhost:8080/"
        },
        "id": "WIQqF61hIcRY",
        "outputId": "9db641aa-a9e3-463c-dc5e-b4976d238cc8"
      },
      "execution_count": null,
      "outputs": [
        {
          "output_type": "execute_result",
          "data": {
            "text/plain": [
              "0.7612455995541122"
            ]
          },
          "metadata": {},
          "execution_count": 243
        }
      ]
    },
    {
      "cell_type": "code",
      "source": [
        "gsXGBC.best_params_"
      ],
      "metadata": {
        "colab": {
          "base_uri": "https://localhost:8080/"
        },
        "id": "DtuC9X7CIcIm",
        "outputId": "b8874164-3fce-4d7c-843d-363f5d1072f3"
      },
      "execution_count": null,
      "outputs": [
        {
          "output_type": "execute_result",
          "data": {
            "text/plain": [
              "{'learning_rate': 0.1, 'n_estimators': 400, 'subsample': 0.3}"
            ]
          },
          "metadata": {},
          "execution_count": 244
        }
      ]
    },
    {
      "cell_type": "markdown",
      "source": [
        "### Ensemble learning\n",
        "\n",
        "I will use VotingClassifier of sklearn to create an ensemble learner that utilizes the top 3 estimators above.\n"
      ],
      "metadata": {
        "id": "QCZk9bXLImEk"
      }
    },
    {
      "cell_type": "code",
      "source": [
        "from sklearn.ensemble import VotingClassifier\n",
        "\n",
        "# get the top 3's best estimators\n",
        "GBC_best = gsGBC.best_estimator_\n",
        "RFC_best = gs_rfc.best_estimator_\n",
        "XGBC_best = gsXGBC.best_estimator_\n",
        "\n",
        "voting_pred = VotingClassifier(estimators =\n",
        "                                   [('gbc', GBC_best),\n",
        "                                    ('xgbc', XGBC_best),\n",
        "                                    ('rfc', RFC_best)],\n",
        "                                   voting='soft')\n",
        "\n",
        "voting_pred = voting_pred.fit(X_train, Y_train)\n",
        "\n",
        "the_scores = cross_val_score(voting_pred, X_train, Y_train,\n",
        "                             cv=new_cv, scoring=new_scoring_parameter)\n"
      ],
      "metadata": {
        "id": "fZqgjk-BBUok"
      },
      "execution_count": null,
      "outputs": []
    },
    {
      "cell_type": "markdown",
      "source": [
        "I gave 0.7675 validation score. It improved from 0.746333 just using one model."
      ],
      "metadata": {
        "id": "k0Lp-cGJv6yk"
      }
    },
    {
      "cell_type": "code",
      "source": [
        "# mean is 76.65, which is the best score so far\n",
        "print(round(np.mean(the_scores)*100, 2))"
      ],
      "metadata": {
        "colab": {
          "base_uri": "https://localhost:8080/"
        },
        "id": "4JKGCKWRjvtr",
        "outputId": "ad1ef552-78d2-4b7e-e835-5eabcf8ae67e"
      },
      "execution_count": null,
      "outputs": [
        {
          "output_type": "stream",
          "name": "stdout",
          "text": [
            "76.75\n"
          ]
        }
      ]
    },
    {
      "cell_type": "code",
      "source": [
        "# standard deviation\n",
        "round(the_scores.std(), 4)"
      ],
      "metadata": {
        "colab": {
          "base_uri": "https://localhost:8080/"
        },
        "id": "Bx5ItO5ZSXtM",
        "outputId": "85244b3c-34fe-4c56-a0cf-f220a9d1e997"
      },
      "execution_count": null,
      "outputs": [
        {
          "output_type": "execute_result",
          "data": {
            "text/plain": [
              "0.0631"
            ]
          },
          "metadata": {},
          "execution_count": 281
        }
      ]
    },
    {
      "cell_type": "markdown",
      "source": [
        "Use that VotingClassifier to predict 'Survived' for the X_test."
      ],
      "metadata": {
        "id": "7fYONJ-_kht-"
      }
    },
    {
      "cell_type": "code",
      "source": [
        "# time to use the final model to predict\n",
        "Predictive_Model = pd.DataFrame({\n",
        "        \"PassengerId\": test_data['PassengerId'],\n",
        "        \"Survived\": voting_pred.predict(X_test)})\n",
        "\n",
        "# same to csv\n",
        "Predictive_Model.to_csv('titanic_model.csv', index=False)\n",
        "\n",
        "Predictive_Model.head()"
      ],
      "metadata": {
        "colab": {
          "base_uri": "https://localhost:8080/",
          "height": 206
        },
        "id": "vGCvtUxzklzR",
        "outputId": "4b23e57d-5f60-4280-e5ce-381eb685fe39"
      },
      "execution_count": null,
      "outputs": [
        {
          "output_type": "execute_result",
          "data": {
            "text/plain": [
              "   PassengerId  Survived\n",
              "0          892         0\n",
              "1          893         0\n",
              "2          894         0\n",
              "3          895         0\n",
              "4          896         1"
            ],
            "text/html": [
              "\n",
              "  <div id=\"df-d451fff0-b28d-4d19-9d88-e9b20e4321c2\">\n",
              "    <div class=\"colab-df-container\">\n",
              "      <div>\n",
              "<style scoped>\n",
              "    .dataframe tbody tr th:only-of-type {\n",
              "        vertical-align: middle;\n",
              "    }\n",
              "\n",
              "    .dataframe tbody tr th {\n",
              "        vertical-align: top;\n",
              "    }\n",
              "\n",
              "    .dataframe thead th {\n",
              "        text-align: right;\n",
              "    }\n",
              "</style>\n",
              "<table border=\"1\" class=\"dataframe\">\n",
              "  <thead>\n",
              "    <tr style=\"text-align: right;\">\n",
              "      <th></th>\n",
              "      <th>PassengerId</th>\n",
              "      <th>Survived</th>\n",
              "    </tr>\n",
              "  </thead>\n",
              "  <tbody>\n",
              "    <tr>\n",
              "      <th>0</th>\n",
              "      <td>892</td>\n",
              "      <td>0</td>\n",
              "    </tr>\n",
              "    <tr>\n",
              "      <th>1</th>\n",
              "      <td>893</td>\n",
              "      <td>0</td>\n",
              "    </tr>\n",
              "    <tr>\n",
              "      <th>2</th>\n",
              "      <td>894</td>\n",
              "      <td>0</td>\n",
              "    </tr>\n",
              "    <tr>\n",
              "      <th>3</th>\n",
              "      <td>895</td>\n",
              "      <td>0</td>\n",
              "    </tr>\n",
              "    <tr>\n",
              "      <th>4</th>\n",
              "      <td>896</td>\n",
              "      <td>1</td>\n",
              "    </tr>\n",
              "  </tbody>\n",
              "</table>\n",
              "</div>\n",
              "      <button class=\"colab-df-convert\" onclick=\"convertToInteractive('df-d451fff0-b28d-4d19-9d88-e9b20e4321c2')\"\n",
              "              title=\"Convert this dataframe to an interactive table.\"\n",
              "              style=\"display:none;\">\n",
              "        \n",
              "  <svg xmlns=\"http://www.w3.org/2000/svg\" height=\"24px\"viewBox=\"0 0 24 24\"\n",
              "       width=\"24px\">\n",
              "    <path d=\"M0 0h24v24H0V0z\" fill=\"none\"/>\n",
              "    <path d=\"M18.56 5.44l.94 2.06.94-2.06 2.06-.94-2.06-.94-.94-2.06-.94 2.06-2.06.94zm-11 1L8.5 8.5l.94-2.06 2.06-.94-2.06-.94L8.5 2.5l-.94 2.06-2.06.94zm10 10l.94 2.06.94-2.06 2.06-.94-2.06-.94-.94-2.06-.94 2.06-2.06.94z\"/><path d=\"M17.41 7.96l-1.37-1.37c-.4-.4-.92-.59-1.43-.59-.52 0-1.04.2-1.43.59L10.3 9.45l-7.72 7.72c-.78.78-.78 2.05 0 2.83L4 21.41c.39.39.9.59 1.41.59.51 0 1.02-.2 1.41-.59l7.78-7.78 2.81-2.81c.8-.78.8-2.07 0-2.86zM5.41 20L4 18.59l7.72-7.72 1.47 1.35L5.41 20z\"/>\n",
              "  </svg>\n",
              "      </button>\n",
              "      \n",
              "  <style>\n",
              "    .colab-df-container {\n",
              "      display:flex;\n",
              "      flex-wrap:wrap;\n",
              "      gap: 12px;\n",
              "    }\n",
              "\n",
              "    .colab-df-convert {\n",
              "      background-color: #E8F0FE;\n",
              "      border: none;\n",
              "      border-radius: 50%;\n",
              "      cursor: pointer;\n",
              "      display: none;\n",
              "      fill: #1967D2;\n",
              "      height: 32px;\n",
              "      padding: 0 0 0 0;\n",
              "      width: 32px;\n",
              "    }\n",
              "\n",
              "    .colab-df-convert:hover {\n",
              "      background-color: #E2EBFA;\n",
              "      box-shadow: 0px 1px 2px rgba(60, 64, 67, 0.3), 0px 1px 3px 1px rgba(60, 64, 67, 0.15);\n",
              "      fill: #174EA6;\n",
              "    }\n",
              "\n",
              "    [theme=dark] .colab-df-convert {\n",
              "      background-color: #3B4455;\n",
              "      fill: #D2E3FC;\n",
              "    }\n",
              "\n",
              "    [theme=dark] .colab-df-convert:hover {\n",
              "      background-color: #434B5C;\n",
              "      box-shadow: 0px 1px 3px 1px rgba(0, 0, 0, 0.15);\n",
              "      filter: drop-shadow(0px 1px 2px rgba(0, 0, 0, 0.3));\n",
              "      fill: #FFFFFF;\n",
              "    }\n",
              "  </style>\n",
              "\n",
              "      <script>\n",
              "        const buttonEl =\n",
              "          document.querySelector('#df-d451fff0-b28d-4d19-9d88-e9b20e4321c2 button.colab-df-convert');\n",
              "        buttonEl.style.display =\n",
              "          google.colab.kernel.accessAllowed ? 'block' : 'none';\n",
              "\n",
              "        async function convertToInteractive(key) {\n",
              "          const element = document.querySelector('#df-d451fff0-b28d-4d19-9d88-e9b20e4321c2');\n",
              "          const dataTable =\n",
              "            await google.colab.kernel.invokeFunction('convertToInteractive',\n",
              "                                                     [key], {});\n",
              "          if (!dataTable) return;\n",
              "\n",
              "          const docLinkHtml = 'Like what you see? Visit the ' +\n",
              "            '<a target=\"_blank\" href=https://colab.research.google.com/notebooks/data_table.ipynb>data table notebook</a>'\n",
              "            + ' to learn more about interactive tables.';\n",
              "          element.innerHTML = '';\n",
              "          dataTable['output_type'] = 'display_data';\n",
              "          await google.colab.output.renderOutput(dataTable, element);\n",
              "          const docLink = document.createElement('div');\n",
              "          docLink.innerHTML = docLinkHtml;\n",
              "          element.appendChild(docLink);\n",
              "        }\n",
              "      </script>\n",
              "    </div>\n",
              "  </div>\n",
              "  "
            ]
          },
          "metadata": {},
          "execution_count": 283
        }
      ]
    },
    {
      "cell_type": "markdown",
      "source": [
        "## Result and discussion\n",
        "\n",
        "I submitted my result to the Kaggle challenge and it gave 0.76555 validation score, which is very close to my prediction (0.7675). This means that my model was not too accurate but it was precise.\n",
        "\n"
      ],
      "metadata": {
        "id": "yZb1cNevwccU"
      }
    },
    {
      "cell_type": "markdown",
      "source": [
        "I can do the following to improve the score:\n",
        "\n",
        "1. The difference in cross-validation score between the best and the worst models was only around 5% (0.746333 ~ 0.691672). So, I think it is worth using all those predictors for ensemble learning and getting a more accurate result.\n",
        "\n",
        "2. In data preprocessing section, I deleted the 10 least correlated results. That's nearly half of the entire features. I may need to double-check the correlations and determine the new threshold to keep the features. [This source](https://www.statology.org/what-is-a-strong-correlation/) says a correlation under 0.5 is weak or meaningless so I can use this as the new threshold.\n",
        "\n",
        "3. I should consider the multicollinearity issue in my data. Multicollinearity is a statistical concept where several independent variables in a model are strongly correlated. These features contribute very less to predicting the output, it increases the computational cost, and may cause overfitting too. I found that I can use the variance inflation factor (VIF) to find it.\n",
        "\n",
        "4. I can try providing more diverse learners and training data. Different training algorithms make very different types of errors so the final model can make more corrections. I can also make different random subsets of the training set to introduce more randomness with the limited data I have."
      ],
      "metadata": {
        "id": "wP3KyHFGoxB7"
      }
    }
  ]
}