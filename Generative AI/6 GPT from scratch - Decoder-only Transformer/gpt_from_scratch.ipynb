{
  "nbformat": 4,
  "nbformat_minor": 0,
  "metadata": {
    "colab": {
      "provenance": [],
      "gpuType": "T4"
    },
    "kernelspec": {
      "name": "python3",
      "display_name": "Python 3"
    },
    "language_info": {
      "name": "python"
    },
    "accelerator": "GPU"
  },
  "cells": [
    {
      "cell_type": "markdown",
      "source": [
        "# Building a Generatively Pretrained Transformer (GPT) from Scratch.\n",
        "\n",
        "Transformers are at the core of many state-of-the-art generative models like ChatGPT. I built a Generatively Pretrained Transformer (GPT) from scratch using PyTorch and learned the transformers architecture essentials.\n",
        "\n",
        "From this exercise I learned:\n",
        "1. Decoder-only Transformer architecture.\n",
        "2. Text encoding techniques.\n",
        "3. Text embeddings\n",
        "4. Positional encodings\n",
        "4. Attention mechanism (self and multi-headed)\n",
        "5. Key points of transformers like residual path and layer normalization\n",
        "6. How to make training data for decoder-only models.\n",
        "6. How to put everything together in PyTorch to make a character-level text predictor\n",
        "\n",
        "This exercise follows [this tutorial](https://youtu.be/kCc8FmEb1nY?si=sX6u7bh1uh_UUeFv)."
      ],
      "metadata": {
        "id": "0feKoUf9W1WD"
      }
    },
    {
      "cell_type": "markdown",
      "source": [
        "### Full finished code, for reference\n",
        "\n",
        "You may want to refer directly to the git repo instead though."
      ],
      "metadata": {
        "id": "ZcvKeBXoZFOY"
      }
    },
    {
      "cell_type": "code",
      "source": [
        "import torch\n",
        "import torch.nn as nn\n",
        "from torch.nn import functional as F"
      ],
      "metadata": {
        "id": "wpX06jQi-d2J"
      },
      "execution_count": 2,
      "outputs": []
    },
    {
      "cell_type": "code",
      "source": [
        "# hyperparameters\n",
        "batch_size = 64 # number of independent sequences to process in parallel\n",
        "block_size = 256 # the context length for predictions\n",
        "learning_rate = 3e-4\n",
        "device = 'cuda' if torch.cuda.is_available() else 'cpu'\n",
        "n_embd = 384 # number of features per token\n",
        "n_head = 6 # number of heads in the multihead attention\n",
        "n_layer = 6 # number of attention blocks\n",
        "dropout = 0.4\n",
        "\n",
        "max_iters = 5000\n",
        "eval_interval = 500\n",
        "eval_iters = 200\n",
        "\n",
        "torch.manual_seed(42) # seed it to make the result more consistent"
      ],
      "metadata": {
        "colab": {
          "base_uri": "https://localhost:8080/"
        },
        "id": "28U4iBsF-fF6",
        "outputId": "d3c126af-ec00-4829-914f-d22301155250"
      },
      "execution_count": 3,
      "outputs": [
        {
          "output_type": "execute_result",
          "data": {
            "text/plain": [
              "<torch._C.Generator at 0x7e10bc169090>"
            ]
          },
          "metadata": {},
          "execution_count": 3
        }
      ]
    },
    {
      "cell_type": "code",
      "source": [
        "# load the text file for training\n",
        "!wget https://raw.githubusercontent.com/karpathy/char-rnn/master/data/tinyshakespeare/input.txt\n",
        "with open('input.txt', 'r', encoding='utf-8') as f:\n",
        "    text = f.read()"
      ],
      "metadata": {
        "colab": {
          "base_uri": "https://localhost:8080/"
        },
        "id": "BrKkujv--nrH",
        "outputId": "1839d6aa-4a7e-4658-acfd-2a3c54b18a1a"
      },
      "execution_count": 4,
      "outputs": [
        {
          "output_type": "stream",
          "name": "stdout",
          "text": [
            "--2023-12-31 23:53:36--  https://raw.githubusercontent.com/karpathy/char-rnn/master/data/tinyshakespeare/input.txt\n",
            "Resolving raw.githubusercontent.com (raw.githubusercontent.com)... 185.199.108.133, 185.199.109.133, 185.199.110.133, ...\n",
            "Connecting to raw.githubusercontent.com (raw.githubusercontent.com)|185.199.108.133|:443... connected.\n",
            "HTTP request sent, awaiting response... 200 OK\n",
            "Length: 1115394 (1.1M) [text/plain]\n",
            "Saving to: ‘input.txt’\n",
            "\n",
            "input.txt           100%[===================>]   1.06M  --.-KB/s    in 0.05s   \n",
            "\n",
            "2023-12-31 23:53:36 (21.1 MB/s) - ‘input.txt’ saved [1115394/1115394]\n",
            "\n"
          ]
        }
      ]
    },
    {
      "cell_type": "code",
      "source": [
        "# here are all the unique characters that occur in this text\n",
        "chars = sorted(list(set(text)))\n",
        "vocab_size = len(chars)\n",
        "\n",
        "print(print(''.join(chars)), vocab_size)"
      ],
      "metadata": {
        "colab": {
          "base_uri": "https://localhost:8080/"
        },
        "id": "wpb53baL-uDn",
        "outputId": "0442cb09-164b-40e3-9891-f7bff959c535"
      },
      "execution_count": 5,
      "outputs": [
        {
          "output_type": "stream",
          "name": "stdout",
          "text": [
            "['\\n', ' ', '!', '$', '&', \"'\", ',', '-', '.', '3', ':', ';', '?', 'A', 'B', 'C', 'D', 'E', 'F', 'G', 'H', 'I', 'J', 'K', 'L', 'M', 'N', 'O', 'P', 'Q', 'R', 'S', 'T', 'U', 'V', 'W', 'X', 'Y', 'Z', 'a', 'b', 'c', 'd', 'e', 'f', 'g', 'h', 'i', 'j', 'k', 'l', 'm', 'n', 'o', 'p', 'q', 'r', 's', 't', 'u', 'v', 'w', 'x', 'y', 'z'] 65\n"
          ]
        }
      ]
    },
    {
      "cell_type": "markdown",
      "source": [
        "Computer can only understand numbers so we convert the words into numbers, a processing called tokenization/encoding. Text encoding is a simple, character-level encoding."
      ],
      "metadata": {
        "id": "CZDHzoUf-1Ra"
      }
    },
    {
      "cell_type": "code",
      "source": [
        "# create a mapping from characters to integers\n",
        "stoi = { ch:i for i,ch in enumerate(chars) }\n",
        "itos = { i:ch for i,ch in enumerate(chars) }\n",
        "encode = lambda s: [stoi[c] for c in s] # encoder: take a string, output a list of integers\n",
        "decode = lambda l: ''.join([itos[i] for i in l]) # decoder: take a list of integers, output a string"
      ],
      "metadata": {
        "id": "Wt9URh3q-ve_"
      },
      "execution_count": 6,
      "outputs": []
    },
    {
      "cell_type": "markdown",
      "source": [
        "Test-train split. The first 90% will be train, rest are validation."
      ],
      "metadata": {
        "id": "2GIoQGJN_I79"
      }
    },
    {
      "cell_type": "code",
      "source": [
        "# Train and test splits\n",
        "data = torch.tensor(encode(text), dtype=torch.long)\n",
        "n = int(0.9*len(data)) # first 90% will be train, rest val\n",
        "train_data = data[:n]\n",
        "val_data = data[n:]"
      ],
      "metadata": {
        "id": "aI5WzIv4_HXR"
      },
      "execution_count": 7,
      "outputs": []
    },
    {
      "cell_type": "markdown",
      "source": [
        "Prepare the training data by shifting the sequence left.\n",
        "\n",
        "Example:\n",
        "```\n",
        "Context: [18, 47, 56, 57, 58,  1, 15, 47, 58]\n",
        "\n",
        "input [18]                              target: 47\n",
        "input [18, 47]                          target: 56\n",
        "input [18, 47, 56]                      target: 57\n",
        "input [18, 47, 56, 57]                  target: 58\n",
        "input [18, 47, 56, 57, 58]              target: 1\n",
        "input [18, 47, 56, 57, 58,  1]          target: 15\n",
        "input [18, 47, 56, 57, 58,  1, 15]      target: 47\n",
        "input [18, 47, 56, 57, 58,  1, 15, 47]  target: 58\n",
        "```"
      ],
      "metadata": {
        "id": "_jpsh5-1_xQy"
      }
    },
    {
      "cell_type": "code",
      "source": [
        "# data loading\n",
        "def get_batch(split):\n",
        "    # generate a small batch of data of inputs x and targets y\n",
        "    data = train_data if split == 'train' else val_data\n",
        "    ix = torch.randint(len(data) - block_size, (batch_size,))\n",
        "    x = torch.stack([data[i:i+block_size] for i in ix])\n",
        "    y = torch.stack([data[i+1:i+block_size+1] for i in ix])\n",
        "    x, y = x.to(device), y.to(device)\n",
        "    return x, y"
      ],
      "metadata": {
        "id": "c6BSkAcj_s4j"
      },
      "execution_count": 8,
      "outputs": []
    },
    {
      "cell_type": "code",
      "source": [
        "# for estimating losses during the training\n",
        "@torch.no_grad()\n",
        "def estimate_loss():\n",
        "    out = {}\n",
        "    model.eval()\n",
        "    for split in ['train', 'val']:\n",
        "        losses = torch.zeros(eval_iters)\n",
        "        for k in range(eval_iters):\n",
        "            X, Y = get_batch(split)\n",
        "            logits, loss = model(X, Y)\n",
        "            losses[k] = loss.item()\n",
        "        out[split] = losses.mean()\n",
        "    model.train()\n",
        "    return out"
      ],
      "metadata": {
        "id": "k8E7S8qHAMG6"
      },
      "execution_count": 9,
      "outputs": []
    },
    {
      "cell_type": "markdown",
      "source": [
        "A transformer ensures model complexity with repetition. For example, For example, many attention `Heads` form a `MultiheadAttention`, and a multi-head attention, layer norm, and feed forward form a `Block`."
      ],
      "metadata": {
        "id": "qpiaABXyAnPT"
      }
    },
    {
      "cell_type": "code",
      "source": [
        "class Head(nn.Module):\n",
        "    \"\"\" one head of self-attention \"\"\"\n",
        "\n",
        "    def __init__(self, head_size):\n",
        "        super().__init__()\n",
        "        # kqv can be a Linear layer with 3 times bigger size and splitted into three when referenced.\n",
        "        self.key = nn.Linear(n_embd, head_size, bias=False)\n",
        "        self.query = nn.Linear(n_embd, head_size, bias=False)\n",
        "        self.value = nn.Linear(n_embd, head_size, bias=False)\n",
        "        self.register_buffer('tril', torch.tril(torch.ones(block_size, block_size)))\n",
        "\n",
        "        self.dropout = nn.Dropout(dropout)\n",
        "\n",
        "    def forward(self, x):\n",
        "        # input of size (batch, time-step, channels)\n",
        "        # output of size (batch, time-step, head size)\n",
        "        B,T,C = x.shape\n",
        "        k = self.key(x)   # (B,T,hs)\n",
        "        q = self.query(x) # (B,T,hs)\n",
        "        # compute attention scores (\"affinities\")\n",
        "        # The scaled dot product ensures the softmax is not saturated with large values.\n",
        "        wei = q @ k.transpose(-2,-1) * k.shape[-1]**-0.5 # (B, T, hs) @ (B, hs, T) -> (B, T, T)\n",
        "        # mask the attention to future tokens\n",
        "        wei = wei.masked_fill(self.tril[:T, :T] == 0, float('-inf')) # (B, T, T)\n",
        "        wei = F.softmax(wei, dim=-1) # (B, T, T)\n",
        "        wei = self.dropout(wei)\n",
        "        # perform the weighted aggregation of the values\n",
        "        v = self.value(x) # (B,T,hs)\n",
        "        out = wei @ v # (B, T, T) @ (B, T, hs) -> (B, T, hs)\n",
        "        return out\n",
        "\n",
        "class MultiHeadAttention(nn.Module):\n",
        "    \"\"\" multiple heads of self-attention in parallel \"\"\"\n",
        "\n",
        "    def __init__(self, num_heads, head_size):\n",
        "        super().__init__()\n",
        "        self.heads = nn.ModuleList([Head(head_size) for _ in range(num_heads)])\n",
        "        self.proj = nn.Linear(head_size * num_heads, n_embd)\n",
        "        self.dropout = nn.Dropout(dropout)\n",
        "\n",
        "    def forward(self, x):\n",
        "        out = torch.cat([h(x) for h in self.heads], dim=-1) # concat multiple heads' results\n",
        "        out = self.dropout(self.proj(out))\n",
        "        return out\n",
        "\n",
        "class FeedFoward(nn.Module):\n",
        "    \"\"\" a simple linear layer followed by a non-linearity \"\"\"\n",
        "\n",
        "    def __init__(self, n_embd):\n",
        "        super().__init__()\n",
        "        self.net = nn.Sequential(\n",
        "            nn.Linear(n_embd, 4 * n_embd), # adding more complexity\n",
        "            nn.ReLU(),\n",
        "            nn.Linear(4 * n_embd, n_embd),\n",
        "            nn.Dropout(dropout),\n",
        "        )\n",
        "\n",
        "    def forward(self, x):\n",
        "        return self.net(x)\n",
        "\n",
        "class Block(nn.Module):\n",
        "    \"\"\" Transformer block: communication followed by computation \"\"\"\n",
        "\n",
        "    def __init__(self, n_embd, n_head):\n",
        "        # n_embd: embedding dimension, n_head: the number of heads we'd like\n",
        "        super().__init__()\n",
        "        head_size = n_embd // n_head\n",
        "        self.sa = MultiHeadAttention(n_head, head_size)\n",
        "        self.ffwd = FeedFoward(n_embd)\n",
        "        self.ln1 = nn.LayerNorm(n_embd)\n",
        "        self.ln2 = nn.LayerNorm(n_embd)\n",
        "\n",
        "    def forward(self, x):\n",
        "        # skip-connection via adding gradients ensures proper learning\n",
        "        x = x + self.sa(self.ln1(x))\n",
        "        x = x + self.ffwd(self.ln2(x))\n",
        "        return x"
      ],
      "metadata": {
        "id": "R_KOhzOVAnqb"
      },
      "execution_count": 10,
      "outputs": []
    },
    {
      "cell_type": "markdown",
      "source": [
        "Put it all together and test"
      ],
      "metadata": {
        "id": "i9WKB8V8Sq9Q"
      }
    },
    {
      "cell_type": "code",
      "source": [
        "# the transformer\n",
        "class GPTLanguageModel(nn.Module):\n",
        "\n",
        "    def __init__(self):\n",
        "        super().__init__()\n",
        "        # each token directly reads off the logits for the next token from a lookup table\n",
        "        self.token_embedding_table = nn.Embedding(vocab_size, n_embd)\n",
        "        self.position_embedding_table = nn.Embedding(block_size, n_embd)\n",
        "        self.blocks = nn.Sequential(*[Block(n_embd, n_head=n_head) for _ in range(n_layer)])\n",
        "        self.ln_f = nn.LayerNorm(n_embd) # final layer norm\n",
        "        self.lm_head = nn.Linear(n_embd, vocab_size)\n",
        "\n",
        "        # better init, not covered in the original GPT video, but important, will cover in followup video\n",
        "        self.apply(self._init_weights)\n",
        "\n",
        "    def _init_weights(self, module):\n",
        "        if isinstance(module, nn.Linear):\n",
        "            torch.nn.init.normal_(module.weight, mean=0.0, std=0.02)\n",
        "            if module.bias is not None:\n",
        "                torch.nn.init.zeros_(module.bias)\n",
        "        elif isinstance(module, nn.Embedding):\n",
        "            torch.nn.init.normal_(module.weight, mean=0.0, std=0.02)\n",
        "\n",
        "    def forward(self, idx, targets=None):\n",
        "        B, T = idx.shape\n",
        "\n",
        "        # idx and targets are both (B,T) tensor of integers\n",
        "        tok_emb = self.token_embedding_table(idx) # (B,T,C)\n",
        "        pos_emb = self.position_embedding_table(torch.arange(T, device=device)) # (T,C)\n",
        "        x = tok_emb + pos_emb # (B,T,C)\n",
        "        x = self.blocks(x) # (B,T,C)\n",
        "        x = self.ln_f(x) # (B,T,C)\n",
        "        logits = self.lm_head(x) # (B,T,vocab_size)\n",
        "\n",
        "        if targets is None:\n",
        "            loss = None\n",
        "        else:\n",
        "            B, T, C = logits.shape\n",
        "            logits = logits.view(B*T, C)\n",
        "            targets = targets.view(B*T)\n",
        "            loss = F.cross_entropy(logits, targets)\n",
        "\n",
        "        return logits, loss\n",
        "\n",
        "    def generate(self, idx, max_new_tokens):\n",
        "        # idx is (B, T) array of indices in the current context\n",
        "        for _ in range(max_new_tokens):\n",
        "            # crop idx to the last block_size tokens\n",
        "            idx_cond = idx[:, -block_size:]\n",
        "            # get the predictions\n",
        "            logits, loss = self(idx_cond)\n",
        "            # focus only on the last time step\n",
        "            logits = logits[:, -1, :] # becomes (B, C)\n",
        "            # apply softmax to get probabilities\n",
        "            probs = F.softmax(logits, dim=-1) # (B, C)\n",
        "            # sample from the distribution\n",
        "            idx_next = torch.multinomial(probs, num_samples=1) # (B, 1)\n",
        "            # append sampled index to the running sequence\n",
        "            idx = torch.cat((idx, idx_next), dim=1) # (B, T+1)\n",
        "        return idx\n",
        "\n",
        "model = GPTLanguageModel()\n",
        "m = model.to(device)\n",
        "# print the number of parameters in the model\n",
        "print(sum(p.numel() for p in m.parameters())/1e6, 'M parameters')\n",
        "\n",
        "# create a PyTorch optimizer\n",
        "optimizer = torch.optim.AdamW(model.parameters(), lr=learning_rate)\n",
        "\n",
        "for iter in range(max_iters):\n",
        "\n",
        "    # every once in a while evaluate the loss on train and val sets\n",
        "    if iter % eval_interval == 0 or iter == max_iters - 1:\n",
        "        losses = estimate_loss()\n",
        "        print(f\"step {iter}: train loss {losses['train']:.4f}, val loss {losses['val']:.4f}\")\n",
        "\n",
        "    # sample a batch of data\n",
        "    xb, yb = get_batch('train')\n",
        "\n",
        "    # evaluate the loss\n",
        "    logits, loss = model(xb, yb)\n",
        "    optimizer.zero_grad(set_to_none=True)\n",
        "    loss.backward()\n",
        "    optimizer.step()\n",
        "\n",
        "# generate from the model\n",
        "context = torch.zeros((1, 1), dtype=torch.long, device=device)\n",
        "print(decode(m.generate(context, max_new_tokens=500)[0].tolist()))\n",
        "\n",
        "# To save the text in a text file\n",
        "#open('more.txt', 'w').write(decode(m.generate(context, max_new_tokens=10000)[0].tolist()))"
      ],
      "metadata": {
        "colab": {
          "base_uri": "https://localhost:8080/"
        },
        "id": "nlJNxRA78F8X",
        "outputId": "97ad91d4-e18a-41a3-e611-a779f786ac75"
      },
      "execution_count": 11,
      "outputs": [
        {
          "output_type": "stream",
          "name": "stdout",
          "text": [
            "10.788929 M parameters\n",
            "step 0: train loss 4.2269, val loss 4.2251\n",
            "step 500: train loss 2.0157, val loss 2.1127\n",
            "step 1000: train loss 1.6182, val loss 1.8043\n",
            "step 1500: train loss 1.4730, val loss 1.6866\n",
            "step 2000: train loss 1.3915, val loss 1.6261\n",
            "step 2500: train loss 1.3288, val loss 1.5777\n",
            "step 3000: train loss 1.2778, val loss 1.5479\n",
            "step 3500: train loss 1.2415, val loss 1.5347\n",
            "step 4000: train loss 1.2064, val loss 1.5093\n",
            "step 4500: train loss 1.1845, val loss 1.5081\n",
            "step 4999: train loss 1.1586, val loss 1.4939\n",
            "\n",
            "Of no, no murders thy whole, that my very\n",
            "earth shert with ways to what we should harmether.\n",
            "\n",
            "QUEEN ELIZABETH:\n",
            "My Leginishmen: and she must wealk ont throuse.\n",
            "\n",
            "NORTHUMBERLAND:\n",
            "I may not endure my time most mercelle, as they\n",
            "Indited what of I speak nothing hand--born'd made\n",
            "In thee behold; this buttle ring that,\n",
            "They uncle some a that be, they slike done,\n",
            "Top heer avails to my testas: here my own head\n",
            "Then is like indeedly one by lap.\n",
            "You, that it is deed, as that worcked more marks:\n",
            "If 'tI clear\n"
          ]
        }
      ]
    },
    {
      "cell_type": "code",
      "source": [
        "\n",
        "# generate from the model\n",
        "context = torch.zeros((1, 1), dtype=torch.long, device=device)\n",
        "print(decode(m.generate(context, max_new_tokens=2000)[0].tolist()))"
      ],
      "metadata": {
        "colab": {
          "base_uri": "https://localhost:8080/"
        },
        "id": "4waKFkHmeZZd",
        "outputId": "dc634648-20a1-4bf9-a715-c8da2c3bda61"
      },
      "execution_count": 12,
      "outputs": [
        {
          "output_type": "stream",
          "name": "stdout",
          "text": [
            "\n",
            "Who port of it servant groW\n",
            "To help their business with my spread full\n",
            "Than never shink'd from a spen-emage learning,\n",
            "As gain silent and every may: but asay\n",
            "Hath meew'd with a part to oath, wake me on to sut,\n",
            "Ay, when I have gualtetly delay ou;\n",
            "All ose this wretch withal bring drowers' is before.\n",
            "Come, Clifford me from my son touch.\n",
            "\n",
            "CAMILLO:\n",
            "Whither, this schots that swear to me\n",
            "Have me serven; blook'd uplacks orne\n",
            "And to kitle gates plument.\n",
            "For a kneeling manhelly I duty,\n",
            "It honouself is upon my my sweet father;\n",
            "As I want fraill it is: our in vanife\n",
            "Esideness\n",
            "Which mean in mistolt pillarching this.\n",
            "\n",
            "CAMILLO:\n",
            "I do remenge from my persuitf.\n",
            "\n",
            "AELLASA:\n",
            "Peace, but boy?\n",
            "I hope it o't: 'tis the Ire two\n",
            "Is aguit one the dangerous flesh;\n",
            "That I am not, if you appear 'emades,\n",
            "You rathle.\n",
            "\n",
            "LEONTES:\n",
            "What's my honest sing's but I'll far at nor\n",
            "To pray you, but yours; even young Parisne\n",
            "Against your ladysiders. who's face?\n",
            "How does be the bod of your\n",
            "That yet? so sland by, our will cook\n",
            "Foundamed: who becanst our gate, sucked place\n",
            "Whose pleasing blush voicy I do,and cannot receive\n",
            "The Camillo when you that sensiors or\n",
            "Call it the more than him is and anoyal.\n",
            "\n",
            "DUKE VINCENTIO:\n",
            "You will enter you to bear heart, till needily.\n",
            "I satisfish what e'em a thousand of him\n",
            "But be slew you that you heard there to preceive:\n",
            "Tomorrow of the norfe on save grands now becomes,\n",
            "Commis, what tongueless in his cention:\n",
            "Beggaung home home to your head?\n",
            "Forble and whom are not to't, as I should such well.\n",
            "Frank the events, that have pity-grass or boil,\n",
            "The queen wherein ere repent tyrant else:\n",
            "But I'll see't betwixt wit.\n",
            "\n",
            "ANGELO:\n",
            "Griem, you to save?\n",
            "\n",
            "Lord:\n",
            "Sweet-pinit sir; bold honest that is even sprivate:\n",
            "Your office, boy to but welcome up to shame owe Oxformors\n",
            "That I did stand upon your plain.\n",
            "\n",
            "ISABELLA:\n",
            "Fie, give you heard, no mine honestrous are\n",
            "That will banish stear ithee betwixt enIal.\n",
            "I am a cuse Harbidling-in the night, further like\n",
            "He craftings his tie of my hand:\n",
            "It my proff the war, c\n"
          ]
        }
      ]
    }
  ]
}